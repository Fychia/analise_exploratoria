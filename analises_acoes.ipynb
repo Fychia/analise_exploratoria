{
 "cells": [
  {
   "cell_type": "code",
   "execution_count": 1,
   "metadata": {},
   "outputs": [
    {
     "name": "stdout",
     "output_type": "stream",
     "text": [
      "Requirement already satisfied: pandas in c:\\users\\rafael\\appdata\\local\\packages\\pythonsoftwarefoundation.python.3.11_qbz5n2kfra8p0\\localcache\\local-packages\\python311\\site-packages (2.2.1)\n",
      "Requirement already satisfied: numpy<2,>=1.23.2 in c:\\users\\rafael\\appdata\\local\\packages\\pythonsoftwarefoundation.python.3.11_qbz5n2kfra8p0\\localcache\\local-packages\\python311\\site-packages (from pandas) (1.26.4)\n",
      "Requirement already satisfied: python-dateutil>=2.8.2 in c:\\users\\rafael\\appdata\\local\\packages\\pythonsoftwarefoundation.python.3.11_qbz5n2kfra8p0\\localcache\\local-packages\\python311\\site-packages (from pandas) (2.9.0.post0)\n",
      "Requirement already satisfied: pytz>=2020.1 in c:\\users\\rafael\\appdata\\local\\packages\\pythonsoftwarefoundation.python.3.11_qbz5n2kfra8p0\\localcache\\local-packages\\python311\\site-packages (from pandas) (2024.1)\n",
      "Requirement already satisfied: tzdata>=2022.7 in c:\\users\\rafael\\appdata\\local\\packages\\pythonsoftwarefoundation.python.3.11_qbz5n2kfra8p0\\localcache\\local-packages\\python311\\site-packages (from pandas) (2024.1)\n",
      "Requirement already satisfied: six>=1.5 in c:\\users\\rafael\\appdata\\local\\packages\\pythonsoftwarefoundation.python.3.11_qbz5n2kfra8p0\\localcache\\local-packages\\python311\\site-packages (from python-dateutil>=2.8.2->pandas) (1.16.0)\n",
      "Requirement already satisfied: openpyxl in c:\\users\\rafael\\appdata\\local\\packages\\pythonsoftwarefoundation.python.3.11_qbz5n2kfra8p0\\localcache\\local-packages\\python311\\site-packages (3.1.2)\n",
      "Requirement already satisfied: et-xmlfile in c:\\users\\rafael\\appdata\\local\\packages\\pythonsoftwarefoundation.python.3.11_qbz5n2kfra8p0\\localcache\\local-packages\\python311\\site-packages (from openpyxl) (1.1.0)\n",
      "Requirement already satisfied: plotly in c:\\users\\rafael\\appdata\\local\\packages\\pythonsoftwarefoundation.python.3.11_qbz5n2kfra8p0\\localcache\\local-packages\\python311\\site-packages (5.20.0)\n",
      "Requirement already satisfied: tenacity>=6.2.0 in c:\\users\\rafael\\appdata\\local\\packages\\pythonsoftwarefoundation.python.3.11_qbz5n2kfra8p0\\localcache\\local-packages\\python311\\site-packages (from plotly) (8.2.3)\n",
      "Requirement already satisfied: packaging in c:\\users\\rafael\\appdata\\local\\packages\\pythonsoftwarefoundation.python.3.11_qbz5n2kfra8p0\\localcache\\local-packages\\python311\\site-packages (from plotly) (24.0)\n",
      "Collecting nbformat==4.2.0\n",
      "  Using cached nbformat-4.2.0-py2.py3-none-any.whl.metadata (1.1 kB)\n",
      "Requirement already satisfied: ipython-genutils in c:\\users\\rafael\\appdata\\local\\packages\\pythonsoftwarefoundation.python.3.11_qbz5n2kfra8p0\\localcache\\local-packages\\python311\\site-packages (from nbformat==4.2.0) (0.2.0)\n",
      "Requirement already satisfied: jsonschema!=2.5.0,>=2.4 in c:\\users\\rafael\\appdata\\local\\packages\\pythonsoftwarefoundation.python.3.11_qbz5n2kfra8p0\\localcache\\local-packages\\python311\\site-packages (from nbformat==4.2.0) (4.21.1)\n",
      "Requirement already satisfied: jupyter-core in c:\\users\\rafael\\appdata\\local\\packages\\pythonsoftwarefoundation.python.3.11_qbz5n2kfra8p0\\localcache\\local-packages\\python311\\site-packages (from nbformat==4.2.0) (5.7.2)\n",
      "Requirement already satisfied: traitlets>=4.1 in c:\\users\\rafael\\appdata\\local\\packages\\pythonsoftwarefoundation.python.3.11_qbz5n2kfra8p0\\localcache\\local-packages\\python311\\site-packages (from nbformat==4.2.0) (5.14.2)\n",
      "Requirement already satisfied: attrs>=22.2.0 in c:\\users\\rafael\\appdata\\local\\packages\\pythonsoftwarefoundation.python.3.11_qbz5n2kfra8p0\\localcache\\local-packages\\python311\\site-packages (from jsonschema!=2.5.0,>=2.4->nbformat==4.2.0) (23.2.0)\n",
      "Requirement already satisfied: jsonschema-specifications>=2023.03.6 in c:\\users\\rafael\\appdata\\local\\packages\\pythonsoftwarefoundation.python.3.11_qbz5n2kfra8p0\\localcache\\local-packages\\python311\\site-packages (from jsonschema!=2.5.0,>=2.4->nbformat==4.2.0) (2023.12.1)\n",
      "Requirement already satisfied: referencing>=0.28.4 in c:\\users\\rafael\\appdata\\local\\packages\\pythonsoftwarefoundation.python.3.11_qbz5n2kfra8p0\\localcache\\local-packages\\python311\\site-packages (from jsonschema!=2.5.0,>=2.4->nbformat==4.2.0) (0.34.0)\n",
      "Requirement already satisfied: rpds-py>=0.7.1 in c:\\users\\rafael\\appdata\\local\\packages\\pythonsoftwarefoundation.python.3.11_qbz5n2kfra8p0\\localcache\\local-packages\\python311\\site-packages (from jsonschema!=2.5.0,>=2.4->nbformat==4.2.0) (0.18.0)\n",
      "Requirement already satisfied: platformdirs>=2.5 in c:\\users\\rafael\\appdata\\local\\packages\\pythonsoftwarefoundation.python.3.11_qbz5n2kfra8p0\\localcache\\local-packages\\python311\\site-packages (from jupyter-core->nbformat==4.2.0) (4.2.0)\n",
      "Requirement already satisfied: pywin32>=300 in c:\\users\\rafael\\appdata\\local\\packages\\pythonsoftwarefoundation.python.3.11_qbz5n2kfra8p0\\localcache\\local-packages\\python311\\site-packages (from jupyter-core->nbformat==4.2.0) (306)\n",
      "Using cached nbformat-4.2.0-py2.py3-none-any.whl (153 kB)\n",
      "Installing collected packages: nbformat\n",
      "  Attempting uninstall: nbformat\n",
      "    Found existing installation: nbformat 5.10.4\n",
      "    Uninstalling nbformat-5.10.4:\n",
      "      Successfully uninstalled nbformat-5.10.4\n",
      "Successfully installed nbformat-4.2.0\n",
      "Requirement already satisfied: nbformat in c:\\users\\rafael\\appdata\\local\\packages\\pythonsoftwarefoundation.python.3.11_qbz5n2kfra8p0\\localcache\\local-packages\\python311\\site-packages (4.2.0)\n",
      "Collecting nbformat\n",
      "  Using cached nbformat-5.10.4-py3-none-any.whl.metadata (3.6 kB)\n",
      "Requirement already satisfied: fastjsonschema>=2.15 in c:\\users\\rafael\\appdata\\local\\packages\\pythonsoftwarefoundation.python.3.11_qbz5n2kfra8p0\\localcache\\local-packages\\python311\\site-packages (from nbformat) (2.19.1)\n",
      "Requirement already satisfied: jsonschema>=2.6 in c:\\users\\rafael\\appdata\\local\\packages\\pythonsoftwarefoundation.python.3.11_qbz5n2kfra8p0\\localcache\\local-packages\\python311\\site-packages (from nbformat) (4.21.1)\n",
      "Requirement already satisfied: jupyter-core!=5.0.*,>=4.12 in c:\\users\\rafael\\appdata\\local\\packages\\pythonsoftwarefoundation.python.3.11_qbz5n2kfra8p0\\localcache\\local-packages\\python311\\site-packages (from nbformat) (5.7.2)\n",
      "Requirement already satisfied: traitlets>=5.1 in c:\\users\\rafael\\appdata\\local\\packages\\pythonsoftwarefoundation.python.3.11_qbz5n2kfra8p0\\localcache\\local-packages\\python311\\site-packages (from nbformat) (5.14.2)\n",
      "Requirement already satisfied: attrs>=22.2.0 in c:\\users\\rafael\\appdata\\local\\packages\\pythonsoftwarefoundation.python.3.11_qbz5n2kfra8p0\\localcache\\local-packages\\python311\\site-packages (from jsonschema>=2.6->nbformat) (23.2.0)\n",
      "Requirement already satisfied: jsonschema-specifications>=2023.03.6 in c:\\users\\rafael\\appdata\\local\\packages\\pythonsoftwarefoundation.python.3.11_qbz5n2kfra8p0\\localcache\\local-packages\\python311\\site-packages (from jsonschema>=2.6->nbformat) (2023.12.1)\n",
      "Requirement already satisfied: referencing>=0.28.4 in c:\\users\\rafael\\appdata\\local\\packages\\pythonsoftwarefoundation.python.3.11_qbz5n2kfra8p0\\localcache\\local-packages\\python311\\site-packages (from jsonschema>=2.6->nbformat) (0.34.0)\n",
      "Requirement already satisfied: rpds-py>=0.7.1 in c:\\users\\rafael\\appdata\\local\\packages\\pythonsoftwarefoundation.python.3.11_qbz5n2kfra8p0\\localcache\\local-packages\\python311\\site-packages (from jsonschema>=2.6->nbformat) (0.18.0)\n",
      "Requirement already satisfied: platformdirs>=2.5 in c:\\users\\rafael\\appdata\\local\\packages\\pythonsoftwarefoundation.python.3.11_qbz5n2kfra8p0\\localcache\\local-packages\\python311\\site-packages (from jupyter-core!=5.0.*,>=4.12->nbformat) (4.2.0)\n",
      "Requirement already satisfied: pywin32>=300 in c:\\users\\rafael\\appdata\\local\\packages\\pythonsoftwarefoundation.python.3.11_qbz5n2kfra8p0\\localcache\\local-packages\\python311\\site-packages (from jupyter-core!=5.0.*,>=4.12->nbformat) (306)\n",
      "Using cached nbformat-5.10.4-py3-none-any.whl (78 kB)\n",
      "Installing collected packages: nbformat\n",
      "  Attempting uninstall: nbformat\n",
      "    Found existing installation: nbformat 4.2.0\n",
      "    Uninstalling nbformat-4.2.0:\n",
      "      Successfully uninstalled nbformat-4.2.0\n",
      "Successfully installed nbformat-5.10.4\n",
      "Requirement already satisfied: ipython in c:\\users\\rafael\\appdata\\local\\packages\\pythonsoftwarefoundation.python.3.11_qbz5n2kfra8p0\\localcache\\local-packages\\python311\\site-packages (8.22.2)\n",
      "Requirement already satisfied: decorator in c:\\users\\rafael\\appdata\\local\\packages\\pythonsoftwarefoundation.python.3.11_qbz5n2kfra8p0\\localcache\\local-packages\\python311\\site-packages (from ipython) (5.1.1)\n",
      "Requirement already satisfied: jedi>=0.16 in c:\\users\\rafael\\appdata\\local\\packages\\pythonsoftwarefoundation.python.3.11_qbz5n2kfra8p0\\localcache\\local-packages\\python311\\site-packages (from ipython) (0.19.1)\n",
      "Requirement already satisfied: matplotlib-inline in c:\\users\\rafael\\appdata\\local\\packages\\pythonsoftwarefoundation.python.3.11_qbz5n2kfra8p0\\localcache\\local-packages\\python311\\site-packages (from ipython) (0.1.6)\n",
      "Requirement already satisfied: prompt-toolkit<3.1.0,>=3.0.41 in c:\\users\\rafael\\appdata\\local\\packages\\pythonsoftwarefoundation.python.3.11_qbz5n2kfra8p0\\localcache\\local-packages\\python311\\site-packages (from ipython) (3.0.43)\n",
      "Requirement already satisfied: pygments>=2.4.0 in c:\\users\\rafael\\appdata\\local\\packages\\pythonsoftwarefoundation.python.3.11_qbz5n2kfra8p0\\localcache\\local-packages\\python311\\site-packages (from ipython) (2.17.2)\n",
      "Requirement already satisfied: stack-data in c:\\users\\rafael\\appdata\\local\\packages\\pythonsoftwarefoundation.python.3.11_qbz5n2kfra8p0\\localcache\\local-packages\\python311\\site-packages (from ipython) (0.6.3)\n",
      "Requirement already satisfied: traitlets>=5.13.0 in c:\\users\\rafael\\appdata\\local\\packages\\pythonsoftwarefoundation.python.3.11_qbz5n2kfra8p0\\localcache\\local-packages\\python311\\site-packages (from ipython) (5.14.2)\n",
      "Requirement already satisfied: colorama in c:\\users\\rafael\\appdata\\local\\packages\\pythonsoftwarefoundation.python.3.11_qbz5n2kfra8p0\\localcache\\local-packages\\python311\\site-packages (from ipython) (0.4.6)\n",
      "Requirement already satisfied: parso<0.9.0,>=0.8.3 in c:\\users\\rafael\\appdata\\local\\packages\\pythonsoftwarefoundation.python.3.11_qbz5n2kfra8p0\\localcache\\local-packages\\python311\\site-packages (from jedi>=0.16->ipython) (0.8.3)\n",
      "Requirement already satisfied: wcwidth in c:\\users\\rafael\\appdata\\local\\packages\\pythonsoftwarefoundation.python.3.11_qbz5n2kfra8p0\\localcache\\local-packages\\python311\\site-packages (from prompt-toolkit<3.1.0,>=3.0.41->ipython) (0.2.13)\n",
      "Requirement already satisfied: executing>=1.2.0 in c:\\users\\rafael\\appdata\\local\\packages\\pythonsoftwarefoundation.python.3.11_qbz5n2kfra8p0\\localcache\\local-packages\\python311\\site-packages (from stack-data->ipython) (2.0.1)\n",
      "Requirement already satisfied: asttokens>=2.1.0 in c:\\users\\rafael\\appdata\\local\\packages\\pythonsoftwarefoundation.python.3.11_qbz5n2kfra8p0\\localcache\\local-packages\\python311\\site-packages (from stack-data->ipython) (2.4.1)\n",
      "Requirement already satisfied: pure-eval in c:\\users\\rafael\\appdata\\local\\packages\\pythonsoftwarefoundation.python.3.11_qbz5n2kfra8p0\\localcache\\local-packages\\python311\\site-packages (from stack-data->ipython) (0.2.2)\n",
      "Requirement already satisfied: six>=1.12.0 in c:\\users\\rafael\\appdata\\local\\packages\\pythonsoftwarefoundation.python.3.11_qbz5n2kfra8p0\\localcache\\local-packages\\python311\\site-packages (from asttokens>=2.1.0->stack-data->ipython) (1.16.0)\n"
     ]
    }
   ],
   "source": [
    "!pip install pandas\n",
    "!pip install openpyxl\n",
    "!pip install plotly\n",
    "!pip install nbformat==4.2.0\n",
    "!pip install --upgrade nbformat\n",
    "!pip install ipython"
   ]
  },
  {
   "cell_type": "code",
   "execution_count": 2,
   "metadata": {},
   "outputs": [],
   "source": [
    "# Import da biblioteca\n",
    "\n",
    "import pandas as pd\n",
    "import plotly.express as px"
   ]
  },
  {
   "cell_type": "markdown",
   "metadata": {},
   "source": [
    "**DataFrames**"
   ]
  },
  {
   "cell_type": "code",
   "execution_count": 3,
   "metadata": {},
   "outputs": [
    {
     "data": {
      "text/html": [
       "<div>\n",
       "<style scoped>\n",
       "    .dataframe tbody tr th:only-of-type {\n",
       "        vertical-align: middle;\n",
       "    }\n",
       "\n",
       "    .dataframe tbody tr th {\n",
       "        vertical-align: top;\n",
       "    }\n",
       "\n",
       "    .dataframe thead th {\n",
       "        text-align: right;\n",
       "    }\n",
       "</style>\n",
       "<table border=\"1\" class=\"dataframe\">\n",
       "  <thead>\n",
       "    <tr style=\"text-align: right;\">\n",
       "      <th></th>\n",
       "      <th>Ativo</th>\n",
       "      <th>Data</th>\n",
       "      <th>Último (R$)</th>\n",
       "      <th>Var. Dia (%)</th>\n",
       "      <th>Var. Sem. (%)</th>\n",
       "      <th>Var. Mês (%)</th>\n",
       "      <th>Var. Ano (%)</th>\n",
       "      <th>Var. 12M (%)</th>\n",
       "      <th>Val. Mín</th>\n",
       "      <th>Val. Máx</th>\n",
       "      <th>Volume</th>\n",
       "      <th>Variação  %</th>\n",
       "      <th>Valor Inicial (R$)</th>\n",
       "      <th>Quantidade de Acessos</th>\n",
       "      <th>Variação $</th>\n",
       "      <th>Resultado</th>\n",
       "      <th>Empresa</th>\n",
       "      <th>Segmento</th>\n",
       "      <th>Idade</th>\n",
       "      <th>Categoria Idade</th>\n",
       "    </tr>\n",
       "  </thead>\n",
       "  <tbody>\n",
       "    <tr>\n",
       "      <th>0</th>\n",
       "      <td>USIM5</td>\n",
       "      <td>1/26/2024</td>\n",
       "      <td>9.50</td>\n",
       "      <td>5.20</td>\n",
       "      <td>11.76</td>\n",
       "      <td>2.26</td>\n",
       "      <td>2.26</td>\n",
       "      <td>15.97</td>\n",
       "      <td>9.18</td>\n",
       "      <td>9.56</td>\n",
       "      <td>319,16 M</td>\n",
       "      <td>0.0520</td>\n",
       "      <td>9.030418</td>\n",
       "      <td>5.151174e+08</td>\n",
       "      <td>2.418897e+08</td>\n",
       "      <td>Subiu</td>\n",
       "      <td>Usiminas</td>\n",
       "      <td>Siderurgia</td>\n",
       "      <td>60</td>\n",
       "      <td>Mais de Cinquenta Anos</td>\n",
       "    </tr>\n",
       "    <tr>\n",
       "      <th>1</th>\n",
       "      <td>CMIN3</td>\n",
       "      <td>1/26/2024</td>\n",
       "      <td>6.82</td>\n",
       "      <td>2.40</td>\n",
       "      <td>2.40</td>\n",
       "      <td>-12.11</td>\n",
       "      <td>-12.11</td>\n",
       "      <td>50.56</td>\n",
       "      <td>6.66</td>\n",
       "      <td>6.86</td>\n",
       "      <td>32,65 M</td>\n",
       "      <td>0.0240</td>\n",
       "      <td>6.660156</td>\n",
       "      <td>1.110559e+09</td>\n",
       "      <td>1.775160e+08</td>\n",
       "      <td>Subiu</td>\n",
       "      <td>CSN Mineração</td>\n",
       "      <td>Mineração</td>\n",
       "      <td>10</td>\n",
       "      <td>Menor que Cinquenta Anos</td>\n",
       "    </tr>\n",
       "    <tr>\n",
       "      <th>2</th>\n",
       "      <td>PETR3</td>\n",
       "      <td>1/26/2024</td>\n",
       "      <td>41.96</td>\n",
       "      <td>2.19</td>\n",
       "      <td>7.73</td>\n",
       "      <td>7.64</td>\n",
       "      <td>7.64</td>\n",
       "      <td>77.55</td>\n",
       "      <td>40.81</td>\n",
       "      <td>42.34</td>\n",
       "      <td>436,69 M</td>\n",
       "      <td>0.0219</td>\n",
       "      <td>41.060769</td>\n",
       "      <td>2.379878e+09</td>\n",
       "      <td>2.140059e+09</td>\n",
       "      <td>Subiu</td>\n",
       "      <td>Petrobras</td>\n",
       "      <td>Petróleo e Gás</td>\n",
       "      <td>69</td>\n",
       "      <td>Mais de Cinquenta Anos</td>\n",
       "    </tr>\n",
       "    <tr>\n",
       "      <th>3</th>\n",
       "      <td>SUZB3</td>\n",
       "      <td>1/26/2024</td>\n",
       "      <td>52.91</td>\n",
       "      <td>2.04</td>\n",
       "      <td>2.14</td>\n",
       "      <td>-4.89</td>\n",
       "      <td>-4.89</td>\n",
       "      <td>18.85</td>\n",
       "      <td>51.89</td>\n",
       "      <td>53.17</td>\n",
       "      <td>162,55 M</td>\n",
       "      <td>0.0204</td>\n",
       "      <td>51.852215</td>\n",
       "      <td>6.834528e+08</td>\n",
       "      <td>7.229463e+08</td>\n",
       "      <td>Subiu</td>\n",
       "      <td>Suzano</td>\n",
       "      <td>Papel e Celulose</td>\n",
       "      <td>98</td>\n",
       "      <td>Mais de Cinquenta Anos</td>\n",
       "    </tr>\n",
       "    <tr>\n",
       "      <th>4</th>\n",
       "      <td>CPFE3</td>\n",
       "      <td>1/26/2024</td>\n",
       "      <td>37.10</td>\n",
       "      <td>2.03</td>\n",
       "      <td>2.49</td>\n",
       "      <td>-3.66</td>\n",
       "      <td>-3.66</td>\n",
       "      <td>20.70</td>\n",
       "      <td>36.37</td>\n",
       "      <td>37.32</td>\n",
       "      <td>73,42 M</td>\n",
       "      <td>0.0203</td>\n",
       "      <td>36.361854</td>\n",
       "      <td>1.877325e+08</td>\n",
       "      <td>1.385740e+08</td>\n",
       "      <td>Subiu</td>\n",
       "      <td>CPFL Energia</td>\n",
       "      <td>Energia</td>\n",
       "      <td>109</td>\n",
       "      <td>Mais de Cem Anos</td>\n",
       "    </tr>\n",
       "    <tr>\n",
       "      <th>...</th>\n",
       "      <td>...</td>\n",
       "      <td>...</td>\n",
       "      <td>...</td>\n",
       "      <td>...</td>\n",
       "      <td>...</td>\n",
       "      <td>...</td>\n",
       "      <td>...</td>\n",
       "      <td>...</td>\n",
       "      <td>...</td>\n",
       "      <td>...</td>\n",
       "      <td>...</td>\n",
       "      <td>...</td>\n",
       "      <td>...</td>\n",
       "      <td>...</td>\n",
       "      <td>...</td>\n",
       "      <td>...</td>\n",
       "      <td>...</td>\n",
       "      <td>...</td>\n",
       "      <td>...</td>\n",
       "      <td>...</td>\n",
       "    </tr>\n",
       "    <tr>\n",
       "      <th>76</th>\n",
       "      <td>CRFB3</td>\n",
       "      <td>1/26/2024</td>\n",
       "      <td>10.71</td>\n",
       "      <td>-2.45</td>\n",
       "      <td>-9.47</td>\n",
       "      <td>-13.98</td>\n",
       "      <td>-13.98</td>\n",
       "      <td>-32.72</td>\n",
       "      <td>10.70</td>\n",
       "      <td>11.08</td>\n",
       "      <td>38,19 M</td>\n",
       "      <td>-0.0245</td>\n",
       "      <td>10.978985</td>\n",
       "      <td>5.339906e+08</td>\n",
       "      <td>-1.436355e+08</td>\n",
       "      <td>Desceu</td>\n",
       "      <td>Carrefour Brasil</td>\n",
       "      <td>Varejo</td>\n",
       "      <td>36</td>\n",
       "      <td>Menor que Cinquenta Anos</td>\n",
       "    </tr>\n",
       "    <tr>\n",
       "      <th>77</th>\n",
       "      <td>BHIA3</td>\n",
       "      <td>1/26/2024</td>\n",
       "      <td>8.70</td>\n",
       "      <td>-2.46</td>\n",
       "      <td>-6.95</td>\n",
       "      <td>-23.55</td>\n",
       "      <td>-23.55</td>\n",
       "      <td>-85.74</td>\n",
       "      <td>8.67</td>\n",
       "      <td>8.95</td>\n",
       "      <td>27,54 M</td>\n",
       "      <td>-0.0246</td>\n",
       "      <td>8.919418</td>\n",
       "      <td>9.484305e+07</td>\n",
       "      <td>-2.081024e+07</td>\n",
       "      <td>Desceu</td>\n",
       "      <td>Casas Bahia</td>\n",
       "      <td>Varejo</td>\n",
       "      <td>70</td>\n",
       "      <td>Mais de Cinquenta Anos</td>\n",
       "    </tr>\n",
       "    <tr>\n",
       "      <th>78</th>\n",
       "      <td>RENT3</td>\n",
       "      <td>1/26/2024</td>\n",
       "      <td>56.24</td>\n",
       "      <td>-3.63</td>\n",
       "      <td>-6.41</td>\n",
       "      <td>-11.57</td>\n",
       "      <td>-11.57</td>\n",
       "      <td>-2.77</td>\n",
       "      <td>56.04</td>\n",
       "      <td>58.90</td>\n",
       "      <td>624,74 M</td>\n",
       "      <td>-0.0363</td>\n",
       "      <td>58.358410</td>\n",
       "      <td>8.532023e+08</td>\n",
       "      <td>-1.807433e+09</td>\n",
       "      <td>Desceu</td>\n",
       "      <td>Localiza</td>\n",
       "      <td>Aluguel de Carros</td>\n",
       "      <td>49</td>\n",
       "      <td>Menor que Cinquenta Anos</td>\n",
       "    </tr>\n",
       "    <tr>\n",
       "      <th>79</th>\n",
       "      <td>CVCB3</td>\n",
       "      <td>1/26/2024</td>\n",
       "      <td>3.07</td>\n",
       "      <td>-4.36</td>\n",
       "      <td>-5.54</td>\n",
       "      <td>-12.29</td>\n",
       "      <td>-12.29</td>\n",
       "      <td>-36.83</td>\n",
       "      <td>3.05</td>\n",
       "      <td>3.23</td>\n",
       "      <td>101,46 M</td>\n",
       "      <td>-0.0436</td>\n",
       "      <td>3.209954</td>\n",
       "      <td>5.255828e+08</td>\n",
       "      <td>-7.355741e+07</td>\n",
       "      <td>Desceu</td>\n",
       "      <td>CVC</td>\n",
       "      <td>Turismo</td>\n",
       "      <td>50</td>\n",
       "      <td>Menor que Cinquenta Anos</td>\n",
       "    </tr>\n",
       "    <tr>\n",
       "      <th>80</th>\n",
       "      <td>GOLL4</td>\n",
       "      <td>1/26/2024</td>\n",
       "      <td>5.92</td>\n",
       "      <td>-8.07</td>\n",
       "      <td>-15.91</td>\n",
       "      <td>-34.00</td>\n",
       "      <td>-34.00</td>\n",
       "      <td>-25.44</td>\n",
       "      <td>5.51</td>\n",
       "      <td>6.02</td>\n",
       "      <td>154,36 M</td>\n",
       "      <td>-0.0807</td>\n",
       "      <td>6.439682</td>\n",
       "      <td>1.981849e+08</td>\n",
       "      <td>-1.029932e+08</td>\n",
       "      <td>Desceu</td>\n",
       "      <td>GOL</td>\n",
       "      <td>Transporte (Aéreo)</td>\n",
       "      <td>21</td>\n",
       "      <td>Menor que Cinquenta Anos</td>\n",
       "    </tr>\n",
       "  </tbody>\n",
       "</table>\n",
       "<p>81 rows × 20 columns</p>\n",
       "</div>"
      ],
      "text/plain": [
       "    Ativo       Data  Último (R$)  Var. Dia (%)  Var. Sem. (%)  Var. Mês (%)  \\\n",
       "0   USIM5  1/26/2024         9.50          5.20          11.76          2.26   \n",
       "1   CMIN3  1/26/2024         6.82          2.40           2.40        -12.11   \n",
       "2   PETR3  1/26/2024        41.96          2.19           7.73          7.64   \n",
       "3   SUZB3  1/26/2024        52.91          2.04           2.14         -4.89   \n",
       "4   CPFE3  1/26/2024        37.10          2.03           2.49         -3.66   \n",
       "..    ...        ...          ...           ...            ...           ...   \n",
       "76  CRFB3  1/26/2024        10.71         -2.45          -9.47        -13.98   \n",
       "77  BHIA3  1/26/2024         8.70         -2.46          -6.95        -23.55   \n",
       "78  RENT3  1/26/2024        56.24         -3.63          -6.41        -11.57   \n",
       "79  CVCB3  1/26/2024         3.07         -4.36          -5.54        -12.29   \n",
       "80  GOLL4  1/26/2024         5.92         -8.07         -15.91        -34.00   \n",
       "\n",
       "    Var. Ano (%)  Var. 12M (%)  Val. Mín  Val. Máx    Volume  Variação  %  \\\n",
       "0           2.26         15.97      9.18      9.56  319,16 M       0.0520   \n",
       "1         -12.11         50.56      6.66      6.86   32,65 M       0.0240   \n",
       "2           7.64         77.55     40.81     42.34  436,69 M       0.0219   \n",
       "3          -4.89         18.85     51.89     53.17  162,55 M       0.0204   \n",
       "4          -3.66         20.70     36.37     37.32   73,42 M       0.0203   \n",
       "..           ...           ...       ...       ...       ...          ...   \n",
       "76        -13.98        -32.72     10.70     11.08   38,19 M      -0.0245   \n",
       "77        -23.55        -85.74      8.67      8.95   27,54 M      -0.0246   \n",
       "78        -11.57         -2.77     56.04     58.90  624,74 M      -0.0363   \n",
       "79        -12.29        -36.83      3.05      3.23  101,46 M      -0.0436   \n",
       "80        -34.00        -25.44      5.51      6.02  154,36 M      -0.0807   \n",
       "\n",
       "    Valor Inicial (R$)  Quantidade de Acessos     Variação $ Resultado  \\\n",
       "0             9.030418            5.151174e+08  2.418897e+08     Subiu   \n",
       "1             6.660156            1.110559e+09  1.775160e+08     Subiu   \n",
       "2            41.060769            2.379878e+09  2.140059e+09     Subiu   \n",
       "3            51.852215            6.834528e+08  7.229463e+08     Subiu   \n",
       "4            36.361854            1.877325e+08  1.385740e+08     Subiu   \n",
       "..                 ...                     ...           ...       ...   \n",
       "76           10.978985            5.339906e+08 -1.436355e+08    Desceu   \n",
       "77            8.919418            9.484305e+07 -2.081024e+07    Desceu   \n",
       "78           58.358410            8.532023e+08 -1.807433e+09    Desceu   \n",
       "79            3.209954            5.255828e+08 -7.355741e+07    Desceu   \n",
       "80            6.439682            1.981849e+08 -1.029932e+08    Desceu   \n",
       "\n",
       "             Empresa            Segmento  Idade           Categoria Idade  \n",
       "0           Usiminas          Siderurgia     60    Mais de Cinquenta Anos  \n",
       "1      CSN Mineração           Mineração     10  Menor que Cinquenta Anos  \n",
       "2          Petrobras      Petróleo e Gás     69    Mais de Cinquenta Anos  \n",
       "3             Suzano    Papel e Celulose     98    Mais de Cinquenta Anos  \n",
       "4       CPFL Energia             Energia    109          Mais de Cem Anos  \n",
       "..               ...                 ...    ...                       ...  \n",
       "76  Carrefour Brasil              Varejo     36  Menor que Cinquenta Anos  \n",
       "77       Casas Bahia              Varejo     70    Mais de Cinquenta Anos  \n",
       "78          Localiza   Aluguel de Carros     49  Menor que Cinquenta Anos  \n",
       "79               CVC             Turismo     50  Menor que Cinquenta Anos  \n",
       "80               GOL  Transporte (Aéreo)     21  Menor que Cinquenta Anos  \n",
       "\n",
       "[81 rows x 20 columns]"
      ]
     },
     "execution_count": 3,
     "metadata": {},
     "output_type": "execute_result"
    }
   ],
   "source": [
    "df_principal = pd.read_excel(\"E:/WorkSpace/Análise exploratória/analise_exploratoria/acoes.xlsx\", sheet_name=\"Principal\")\n",
    "df_principal"
   ]
  },
  {
   "cell_type": "code",
   "execution_count": 4,
   "metadata": {},
   "outputs": [
    {
     "data": {
      "text/html": [
       "<div>\n",
       "<style scoped>\n",
       "    .dataframe tbody tr th:only-of-type {\n",
       "        vertical-align: middle;\n",
       "    }\n",
       "\n",
       "    .dataframe tbody tr th {\n",
       "        vertical-align: top;\n",
       "    }\n",
       "\n",
       "    .dataframe thead th {\n",
       "        text-align: right;\n",
       "    }\n",
       "</style>\n",
       "<table border=\"1\" class=\"dataframe\">\n",
       "  <thead>\n",
       "    <tr style=\"text-align: right;\">\n",
       "      <th></th>\n",
       "      <th>Código</th>\n",
       "      <th>Qtde. Teórica</th>\n",
       "    </tr>\n",
       "  </thead>\n",
       "  <tbody>\n",
       "    <tr>\n",
       "      <th>0</th>\n",
       "      <td>NaN</td>\n",
       "      <td>2.356656e+08</td>\n",
       "    </tr>\n",
       "    <tr>\n",
       "      <th>1</th>\n",
       "      <td>ALOS3</td>\n",
       "      <td>5.326166e+08</td>\n",
       "    </tr>\n",
       "    <tr>\n",
       "      <th>2</th>\n",
       "      <td>ALPA4</td>\n",
       "      <td>1.767340e+08</td>\n",
       "    </tr>\n",
       "    <tr>\n",
       "      <th>3</th>\n",
       "      <td>ABEV3</td>\n",
       "      <td>4.394246e+09</td>\n",
       "    </tr>\n",
       "    <tr>\n",
       "      <th>4</th>\n",
       "      <td>ARZZ3</td>\n",
       "      <td>6.230589e+07</td>\n",
       "    </tr>\n",
       "    <tr>\n",
       "      <th>...</th>\n",
       "      <td>...</td>\n",
       "      <td>...</td>\n",
       "    </tr>\n",
       "    <tr>\n",
       "      <th>84</th>\n",
       "      <td>VBBR3</td>\n",
       "      <td>1.114413e+09</td>\n",
       "    </tr>\n",
       "    <tr>\n",
       "      <th>85</th>\n",
       "      <td>WEGE3</td>\n",
       "      <td>1.481593e+09</td>\n",
       "    </tr>\n",
       "    <tr>\n",
       "      <th>86</th>\n",
       "      <td>YDUQ3</td>\n",
       "      <td>2.893479e+08</td>\n",
       "    </tr>\n",
       "    <tr>\n",
       "      <th>87</th>\n",
       "      <td>Quantidade Teórica Total</td>\n",
       "      <td>9.637210e+10</td>\n",
       "    </tr>\n",
       "    <tr>\n",
       "      <th>88</th>\n",
       "      <td>Redutor</td>\n",
       "      <td>1.704785e+07</td>\n",
       "    </tr>\n",
       "  </tbody>\n",
       "</table>\n",
       "<p>89 rows × 2 columns</p>\n",
       "</div>"
      ],
      "text/plain": [
       "                      Código  Qtde. Teórica\n",
       "0                        NaN   2.356656e+08\n",
       "1                      ALOS3   5.326166e+08\n",
       "2                      ALPA4   1.767340e+08\n",
       "3                      ABEV3   4.394246e+09\n",
       "4                      ARZZ3   6.230589e+07\n",
       "..                       ...            ...\n",
       "84                     VBBR3   1.114413e+09\n",
       "85                     WEGE3   1.481593e+09\n",
       "86                     YDUQ3   2.893479e+08\n",
       "87  Quantidade Teórica Total   9.637210e+10\n",
       "88                   Redutor   1.704785e+07\n",
       "\n",
       "[89 rows x 2 columns]"
      ]
     },
     "execution_count": 4,
     "metadata": {},
     "output_type": "execute_result"
    }
   ],
   "source": [
    "df_total_acoes = pd.read_excel(\"E:/WorkSpace/Análise exploratória/analise_exploratoria/acoes.xlsx\", sheet_name=\"Total_de_acoes\")\n",
    "df_total_acoes"
   ]
  },
  {
   "cell_type": "code",
   "execution_count": 5,
   "metadata": {},
   "outputs": [
    {
     "data": {
      "text/html": [
       "<div>\n",
       "<style scoped>\n",
       "    .dataframe tbody tr th:only-of-type {\n",
       "        vertical-align: middle;\n",
       "    }\n",
       "\n",
       "    .dataframe tbody tr th {\n",
       "        vertical-align: top;\n",
       "    }\n",
       "\n",
       "    .dataframe thead th {\n",
       "        text-align: right;\n",
       "    }\n",
       "</style>\n",
       "<table border=\"1\" class=\"dataframe\">\n",
       "  <thead>\n",
       "    <tr style=\"text-align: right;\">\n",
       "      <th></th>\n",
       "      <th>Ticker</th>\n",
       "      <th>Nome</th>\n",
       "    </tr>\n",
       "  </thead>\n",
       "  <tbody>\n",
       "    <tr>\n",
       "      <th>0</th>\n",
       "      <td>MGLU3</td>\n",
       "      <td>Magazine Luiza</td>\n",
       "    </tr>\n",
       "    <tr>\n",
       "      <th>1</th>\n",
       "      <td>HAPV3</td>\n",
       "      <td>Hapvida</td>\n",
       "    </tr>\n",
       "    <tr>\n",
       "      <th>2</th>\n",
       "      <td>PETR4</td>\n",
       "      <td>Petrobras</td>\n",
       "    </tr>\n",
       "    <tr>\n",
       "      <th>3</th>\n",
       "      <td>B3SA3</td>\n",
       "      <td>B3</td>\n",
       "    </tr>\n",
       "    <tr>\n",
       "      <th>4</th>\n",
       "      <td>USIM5</td>\n",
       "      <td>Usiminas</td>\n",
       "    </tr>\n",
       "    <tr>\n",
       "      <th>...</th>\n",
       "      <td>...</td>\n",
       "      <td>...</td>\n",
       "    </tr>\n",
       "    <tr>\n",
       "      <th>530</th>\n",
       "      <td>TKNO3</td>\n",
       "      <td>Tekno</td>\n",
       "    </tr>\n",
       "    <tr>\n",
       "      <th>531</th>\n",
       "      <td>COCE6</td>\n",
       "      <td>Coelce</td>\n",
       "    </tr>\n",
       "    <tr>\n",
       "      <th>532</th>\n",
       "      <td>MGEL3</td>\n",
       "      <td>Mangels</td>\n",
       "    </tr>\n",
       "    <tr>\n",
       "      <th>533</th>\n",
       "      <td>CTSA8</td>\n",
       "      <td>Santanense</td>\n",
       "    </tr>\n",
       "    <tr>\n",
       "      <th>534</th>\n",
       "      <td>MMAQ4</td>\n",
       "      <td>Minasmáquinas</td>\n",
       "    </tr>\n",
       "  </tbody>\n",
       "</table>\n",
       "<p>535 rows × 2 columns</p>\n",
       "</div>"
      ],
      "text/plain": [
       "    Ticker            Nome\n",
       "0    MGLU3  Magazine Luiza\n",
       "1    HAPV3         Hapvida\n",
       "2    PETR4       Petrobras\n",
       "3    B3SA3              B3\n",
       "4    USIM5        Usiminas\n",
       "..     ...             ...\n",
       "530  TKNO3           Tekno\n",
       "531  COCE6          Coelce\n",
       "532  MGEL3         Mangels\n",
       "533  CTSA8      Santanense\n",
       "534  MMAQ4   Minasmáquinas\n",
       "\n",
       "[535 rows x 2 columns]"
      ]
     },
     "execution_count": 5,
     "metadata": {},
     "output_type": "execute_result"
    }
   ],
   "source": [
    "df_ticker = pd.read_excel(\"E:/WorkSpace/Análise exploratória/analise_exploratoria/acoes.xlsx\", sheet_name=\"Ticker\")\n",
    "df_ticker"
   ]
  },
  {
   "cell_type": "code",
   "execution_count": 6,
   "metadata": {},
   "outputs": [
    {
     "data": {
      "text/html": [
       "<div>\n",
       "<style scoped>\n",
       "    .dataframe tbody tr th:only-of-type {\n",
       "        vertical-align: middle;\n",
       "    }\n",
       "\n",
       "    .dataframe tbody tr th {\n",
       "        vertical-align: top;\n",
       "    }\n",
       "\n",
       "    .dataframe thead th {\n",
       "        text-align: right;\n",
       "    }\n",
       "</style>\n",
       "<table border=\"1\" class=\"dataframe\">\n",
       "  <thead>\n",
       "    <tr style=\"text-align: right;\">\n",
       "      <th></th>\n",
       "      <th>Empresa</th>\n",
       "      <th>Segmento</th>\n",
       "      <th>Idade (anos)</th>\n",
       "    </tr>\n",
       "  </thead>\n",
       "  <tbody>\n",
       "    <tr>\n",
       "      <th>0</th>\n",
       "      <td>Usiminas</td>\n",
       "      <td>Siderurgia</td>\n",
       "      <td>60</td>\n",
       "    </tr>\n",
       "    <tr>\n",
       "      <th>1</th>\n",
       "      <td>CSN Mineração</td>\n",
       "      <td>Mineração</td>\n",
       "      <td>10</td>\n",
       "    </tr>\n",
       "    <tr>\n",
       "      <th>2</th>\n",
       "      <td>Petrobras</td>\n",
       "      <td>Petróleo e Gás</td>\n",
       "      <td>69</td>\n",
       "    </tr>\n",
       "    <tr>\n",
       "      <th>3</th>\n",
       "      <td>Suzano</td>\n",
       "      <td>Papel e Celulose</td>\n",
       "      <td>98</td>\n",
       "    </tr>\n",
       "    <tr>\n",
       "      <th>4</th>\n",
       "      <td>CPFL Energia</td>\n",
       "      <td>Energia</td>\n",
       "      <td>109</td>\n",
       "    </tr>\n",
       "    <tr>\n",
       "      <th>...</th>\n",
       "      <td>...</td>\n",
       "      <td>...</td>\n",
       "      <td>...</td>\n",
       "    </tr>\n",
       "    <tr>\n",
       "      <th>75</th>\n",
       "      <td>Carrefour Brasil</td>\n",
       "      <td>Varejo</td>\n",
       "      <td>36</td>\n",
       "    </tr>\n",
       "    <tr>\n",
       "      <th>76</th>\n",
       "      <td>Casas Bahia</td>\n",
       "      <td>Varejo</td>\n",
       "      <td>70</td>\n",
       "    </tr>\n",
       "    <tr>\n",
       "      <th>77</th>\n",
       "      <td>Localiza</td>\n",
       "      <td>Aluguel de Carros</td>\n",
       "      <td>49</td>\n",
       "    </tr>\n",
       "    <tr>\n",
       "      <th>78</th>\n",
       "      <td>CVC</td>\n",
       "      <td>Turismo</td>\n",
       "      <td>50</td>\n",
       "    </tr>\n",
       "    <tr>\n",
       "      <th>79</th>\n",
       "      <td>GOL</td>\n",
       "      <td>Transporte (Aéreo)</td>\n",
       "      <td>21</td>\n",
       "    </tr>\n",
       "  </tbody>\n",
       "</table>\n",
       "<p>80 rows × 3 columns</p>\n",
       "</div>"
      ],
      "text/plain": [
       "             Empresa            Segmento  Idade (anos)\n",
       "0           Usiminas          Siderurgia            60\n",
       "1      CSN Mineração           Mineração            10\n",
       "2          Petrobras      Petróleo e Gás            69\n",
       "3             Suzano    Papel e Celulose            98\n",
       "4       CPFL Energia             Energia           109\n",
       "..               ...                 ...           ...\n",
       "75  Carrefour Brasil              Varejo            36\n",
       "76       Casas Bahia              Varejo            70\n",
       "77          Localiza   Aluguel de Carros            49\n",
       "78               CVC             Turismo            50\n",
       "79               GOL  Transporte (Aéreo)            21\n",
       "\n",
       "[80 rows x 3 columns]"
      ]
     },
     "execution_count": 6,
     "metadata": {},
     "output_type": "execute_result"
    }
   ],
   "source": [
    "df_chatgpt = pd.read_excel(\"E:/WorkSpace/Análise exploratória/analise_exploratoria/acoes.xlsx\", sheet_name=\"Chatgpt\")\n",
    "df_chatgpt"
   ]
  },
  {
   "cell_type": "markdown",
   "metadata": {},
   "source": [
    "**Selecionando subconjunto das colunas do DataFrame df_principal**"
   ]
  },
  {
   "cell_type": "code",
   "execution_count": 7,
   "metadata": {},
   "outputs": [
    {
     "data": {
      "text/html": [
       "<div>\n",
       "<style scoped>\n",
       "    .dataframe tbody tr th:only-of-type {\n",
       "        vertical-align: middle;\n",
       "    }\n",
       "\n",
       "    .dataframe tbody tr th {\n",
       "        vertical-align: top;\n",
       "    }\n",
       "\n",
       "    .dataframe thead th {\n",
       "        text-align: right;\n",
       "    }\n",
       "</style>\n",
       "<table border=\"1\" class=\"dataframe\">\n",
       "  <thead>\n",
       "    <tr style=\"text-align: right;\">\n",
       "      <th></th>\n",
       "      <th>Ativo</th>\n",
       "      <th>Data</th>\n",
       "      <th>Último (R$)</th>\n",
       "      <th>Var. Dia (%)</th>\n",
       "    </tr>\n",
       "  </thead>\n",
       "  <tbody>\n",
       "    <tr>\n",
       "      <th>0</th>\n",
       "      <td>USIM5</td>\n",
       "      <td>1/26/2024</td>\n",
       "      <td>9.50</td>\n",
       "      <td>5.20</td>\n",
       "    </tr>\n",
       "    <tr>\n",
       "      <th>1</th>\n",
       "      <td>CMIN3</td>\n",
       "      <td>1/26/2024</td>\n",
       "      <td>6.82</td>\n",
       "      <td>2.40</td>\n",
       "    </tr>\n",
       "    <tr>\n",
       "      <th>2</th>\n",
       "      <td>PETR3</td>\n",
       "      <td>1/26/2024</td>\n",
       "      <td>41.96</td>\n",
       "      <td>2.19</td>\n",
       "    </tr>\n",
       "    <tr>\n",
       "      <th>3</th>\n",
       "      <td>SUZB3</td>\n",
       "      <td>1/26/2024</td>\n",
       "      <td>52.91</td>\n",
       "      <td>2.04</td>\n",
       "    </tr>\n",
       "    <tr>\n",
       "      <th>4</th>\n",
       "      <td>CPFE3</td>\n",
       "      <td>1/26/2024</td>\n",
       "      <td>37.10</td>\n",
       "      <td>2.03</td>\n",
       "    </tr>\n",
       "    <tr>\n",
       "      <th>...</th>\n",
       "      <td>...</td>\n",
       "      <td>...</td>\n",
       "      <td>...</td>\n",
       "      <td>...</td>\n",
       "    </tr>\n",
       "    <tr>\n",
       "      <th>76</th>\n",
       "      <td>CRFB3</td>\n",
       "      <td>1/26/2024</td>\n",
       "      <td>10.71</td>\n",
       "      <td>-2.45</td>\n",
       "    </tr>\n",
       "    <tr>\n",
       "      <th>77</th>\n",
       "      <td>BHIA3</td>\n",
       "      <td>1/26/2024</td>\n",
       "      <td>8.70</td>\n",
       "      <td>-2.46</td>\n",
       "    </tr>\n",
       "    <tr>\n",
       "      <th>78</th>\n",
       "      <td>RENT3</td>\n",
       "      <td>1/26/2024</td>\n",
       "      <td>56.24</td>\n",
       "      <td>-3.63</td>\n",
       "    </tr>\n",
       "    <tr>\n",
       "      <th>79</th>\n",
       "      <td>CVCB3</td>\n",
       "      <td>1/26/2024</td>\n",
       "      <td>3.07</td>\n",
       "      <td>-4.36</td>\n",
       "    </tr>\n",
       "    <tr>\n",
       "      <th>80</th>\n",
       "      <td>GOLL4</td>\n",
       "      <td>1/26/2024</td>\n",
       "      <td>5.92</td>\n",
       "      <td>-8.07</td>\n",
       "    </tr>\n",
       "  </tbody>\n",
       "</table>\n",
       "<p>81 rows × 4 columns</p>\n",
       "</div>"
      ],
      "text/plain": [
       "    Ativo       Data  Último (R$)  Var. Dia (%)\n",
       "0   USIM5  1/26/2024         9.50          5.20\n",
       "1   CMIN3  1/26/2024         6.82          2.40\n",
       "2   PETR3  1/26/2024        41.96          2.19\n",
       "3   SUZB3  1/26/2024        52.91          2.04\n",
       "4   CPFE3  1/26/2024        37.10          2.03\n",
       "..    ...        ...          ...           ...\n",
       "76  CRFB3  1/26/2024        10.71         -2.45\n",
       "77  BHIA3  1/26/2024         8.70         -2.46\n",
       "78  RENT3  1/26/2024        56.24         -3.63\n",
       "79  CVCB3  1/26/2024         3.07         -4.36\n",
       "80  GOLL4  1/26/2024         5.92         -8.07\n",
       "\n",
       "[81 rows x 4 columns]"
      ]
     },
     "execution_count": 7,
     "metadata": {},
     "output_type": "execute_result"
    }
   ],
   "source": [
    "df_principal = df_principal[['Ativo',\t'Data',\t'Último (R$)',\t'Var. Dia (%)']].copy()\n",
    "df_principal"
   ]
  },
  {
   "cell_type": "markdown",
   "metadata": {},
   "source": [
    "**Renomeando as colunas do DataFrame df_principal**"
   ]
  },
  {
   "cell_type": "code",
   "execution_count": 8,
   "metadata": {},
   "outputs": [
    {
     "data": {
      "text/html": [
       "<div>\n",
       "<style scoped>\n",
       "    .dataframe tbody tr th:only-of-type {\n",
       "        vertical-align: middle;\n",
       "    }\n",
       "\n",
       "    .dataframe tbody tr th {\n",
       "        vertical-align: top;\n",
       "    }\n",
       "\n",
       "    .dataframe thead th {\n",
       "        text-align: right;\n",
       "    }\n",
       "</style>\n",
       "<table border=\"1\" class=\"dataframe\">\n",
       "  <thead>\n",
       "    <tr style=\"text-align: right;\">\n",
       "      <th></th>\n",
       "      <th>Ativo</th>\n",
       "      <th>Data</th>\n",
       "      <th>valor_final</th>\n",
       "      <th>var_dia_pct</th>\n",
       "    </tr>\n",
       "  </thead>\n",
       "  <tbody>\n",
       "    <tr>\n",
       "      <th>0</th>\n",
       "      <td>USIM5</td>\n",
       "      <td>1/26/2024</td>\n",
       "      <td>9.50</td>\n",
       "      <td>5.20</td>\n",
       "    </tr>\n",
       "    <tr>\n",
       "      <th>1</th>\n",
       "      <td>CMIN3</td>\n",
       "      <td>1/26/2024</td>\n",
       "      <td>6.82</td>\n",
       "      <td>2.40</td>\n",
       "    </tr>\n",
       "    <tr>\n",
       "      <th>2</th>\n",
       "      <td>PETR3</td>\n",
       "      <td>1/26/2024</td>\n",
       "      <td>41.96</td>\n",
       "      <td>2.19</td>\n",
       "    </tr>\n",
       "    <tr>\n",
       "      <th>3</th>\n",
       "      <td>SUZB3</td>\n",
       "      <td>1/26/2024</td>\n",
       "      <td>52.91</td>\n",
       "      <td>2.04</td>\n",
       "    </tr>\n",
       "    <tr>\n",
       "      <th>4</th>\n",
       "      <td>CPFE3</td>\n",
       "      <td>1/26/2024</td>\n",
       "      <td>37.10</td>\n",
       "      <td>2.03</td>\n",
       "    </tr>\n",
       "    <tr>\n",
       "      <th>...</th>\n",
       "      <td>...</td>\n",
       "      <td>...</td>\n",
       "      <td>...</td>\n",
       "      <td>...</td>\n",
       "    </tr>\n",
       "    <tr>\n",
       "      <th>76</th>\n",
       "      <td>CRFB3</td>\n",
       "      <td>1/26/2024</td>\n",
       "      <td>10.71</td>\n",
       "      <td>-2.45</td>\n",
       "    </tr>\n",
       "    <tr>\n",
       "      <th>77</th>\n",
       "      <td>BHIA3</td>\n",
       "      <td>1/26/2024</td>\n",
       "      <td>8.70</td>\n",
       "      <td>-2.46</td>\n",
       "    </tr>\n",
       "    <tr>\n",
       "      <th>78</th>\n",
       "      <td>RENT3</td>\n",
       "      <td>1/26/2024</td>\n",
       "      <td>56.24</td>\n",
       "      <td>-3.63</td>\n",
       "    </tr>\n",
       "    <tr>\n",
       "      <th>79</th>\n",
       "      <td>CVCB3</td>\n",
       "      <td>1/26/2024</td>\n",
       "      <td>3.07</td>\n",
       "      <td>-4.36</td>\n",
       "    </tr>\n",
       "    <tr>\n",
       "      <th>80</th>\n",
       "      <td>GOLL4</td>\n",
       "      <td>1/26/2024</td>\n",
       "      <td>5.92</td>\n",
       "      <td>-8.07</td>\n",
       "    </tr>\n",
       "  </tbody>\n",
       "</table>\n",
       "<p>81 rows × 4 columns</p>\n",
       "</div>"
      ],
      "text/plain": [
       "    Ativo       Data  valor_final  var_dia_pct\n",
       "0   USIM5  1/26/2024         9.50         5.20\n",
       "1   CMIN3  1/26/2024         6.82         2.40\n",
       "2   PETR3  1/26/2024        41.96         2.19\n",
       "3   SUZB3  1/26/2024        52.91         2.04\n",
       "4   CPFE3  1/26/2024        37.10         2.03\n",
       "..    ...        ...          ...          ...\n",
       "76  CRFB3  1/26/2024        10.71        -2.45\n",
       "77  BHIA3  1/26/2024         8.70        -2.46\n",
       "78  RENT3  1/26/2024        56.24        -3.63\n",
       "79  CVCB3  1/26/2024         3.07        -4.36\n",
       "80  GOLL4  1/26/2024         5.92        -8.07\n",
       "\n",
       "[81 rows x 4 columns]"
      ]
     },
     "execution_count": 8,
     "metadata": {},
     "output_type": "execute_result"
    }
   ],
   "source": [
    "df_principal = df_principal.rename(columns = {'Último (R$)' : 'valor_final', 'Var. Dia (%)' : 'var_dia_pct'}).copy()\n",
    "df_principal"
   ]
  },
  {
   "cell_type": "markdown",
   "metadata": {},
   "source": [
    "**Adicionando colunas ao DataFrame**\n",
    "\n",
    "* Porcentagem\n",
    "* Valor inicial"
   ]
  },
  {
   "cell_type": "code",
   "execution_count": 9,
   "metadata": {},
   "outputs": [
    {
     "data": {
      "text/html": [
       "<div>\n",
       "<style scoped>\n",
       "    .dataframe tbody tr th:only-of-type {\n",
       "        vertical-align: middle;\n",
       "    }\n",
       "\n",
       "    .dataframe tbody tr th {\n",
       "        vertical-align: top;\n",
       "    }\n",
       "\n",
       "    .dataframe thead th {\n",
       "        text-align: right;\n",
       "    }\n",
       "</style>\n",
       "<table border=\"1\" class=\"dataframe\">\n",
       "  <thead>\n",
       "    <tr style=\"text-align: right;\">\n",
       "      <th></th>\n",
       "      <th>Ativo</th>\n",
       "      <th>Data</th>\n",
       "      <th>valor_final</th>\n",
       "      <th>var_dia_pct</th>\n",
       "      <th>Var_pct</th>\n",
       "      <th>valor_inicial</th>\n",
       "    </tr>\n",
       "  </thead>\n",
       "  <tbody>\n",
       "    <tr>\n",
       "      <th>0</th>\n",
       "      <td>USIM5</td>\n",
       "      <td>1/26/2024</td>\n",
       "      <td>9.50</td>\n",
       "      <td>5.20</td>\n",
       "      <td>0.0520</td>\n",
       "      <td>9.030418</td>\n",
       "    </tr>\n",
       "    <tr>\n",
       "      <th>1</th>\n",
       "      <td>CMIN3</td>\n",
       "      <td>1/26/2024</td>\n",
       "      <td>6.82</td>\n",
       "      <td>2.40</td>\n",
       "      <td>0.0240</td>\n",
       "      <td>6.660156</td>\n",
       "    </tr>\n",
       "    <tr>\n",
       "      <th>2</th>\n",
       "      <td>PETR3</td>\n",
       "      <td>1/26/2024</td>\n",
       "      <td>41.96</td>\n",
       "      <td>2.19</td>\n",
       "      <td>0.0219</td>\n",
       "      <td>41.060769</td>\n",
       "    </tr>\n",
       "    <tr>\n",
       "      <th>3</th>\n",
       "      <td>SUZB3</td>\n",
       "      <td>1/26/2024</td>\n",
       "      <td>52.91</td>\n",
       "      <td>2.04</td>\n",
       "      <td>0.0204</td>\n",
       "      <td>51.852215</td>\n",
       "    </tr>\n",
       "    <tr>\n",
       "      <th>4</th>\n",
       "      <td>CPFE3</td>\n",
       "      <td>1/26/2024</td>\n",
       "      <td>37.10</td>\n",
       "      <td>2.03</td>\n",
       "      <td>0.0203</td>\n",
       "      <td>36.361854</td>\n",
       "    </tr>\n",
       "    <tr>\n",
       "      <th>...</th>\n",
       "      <td>...</td>\n",
       "      <td>...</td>\n",
       "      <td>...</td>\n",
       "      <td>...</td>\n",
       "      <td>...</td>\n",
       "      <td>...</td>\n",
       "    </tr>\n",
       "    <tr>\n",
       "      <th>76</th>\n",
       "      <td>CRFB3</td>\n",
       "      <td>1/26/2024</td>\n",
       "      <td>10.71</td>\n",
       "      <td>-2.45</td>\n",
       "      <td>-0.0245</td>\n",
       "      <td>10.978985</td>\n",
       "    </tr>\n",
       "    <tr>\n",
       "      <th>77</th>\n",
       "      <td>BHIA3</td>\n",
       "      <td>1/26/2024</td>\n",
       "      <td>8.70</td>\n",
       "      <td>-2.46</td>\n",
       "      <td>-0.0246</td>\n",
       "      <td>8.919418</td>\n",
       "    </tr>\n",
       "    <tr>\n",
       "      <th>78</th>\n",
       "      <td>RENT3</td>\n",
       "      <td>1/26/2024</td>\n",
       "      <td>56.24</td>\n",
       "      <td>-3.63</td>\n",
       "      <td>-0.0363</td>\n",
       "      <td>58.358410</td>\n",
       "    </tr>\n",
       "    <tr>\n",
       "      <th>79</th>\n",
       "      <td>CVCB3</td>\n",
       "      <td>1/26/2024</td>\n",
       "      <td>3.07</td>\n",
       "      <td>-4.36</td>\n",
       "      <td>-0.0436</td>\n",
       "      <td>3.209954</td>\n",
       "    </tr>\n",
       "    <tr>\n",
       "      <th>80</th>\n",
       "      <td>GOLL4</td>\n",
       "      <td>1/26/2024</td>\n",
       "      <td>5.92</td>\n",
       "      <td>-8.07</td>\n",
       "      <td>-0.0807</td>\n",
       "      <td>6.439682</td>\n",
       "    </tr>\n",
       "  </tbody>\n",
       "</table>\n",
       "<p>81 rows × 6 columns</p>\n",
       "</div>"
      ],
      "text/plain": [
       "    Ativo       Data  valor_final  var_dia_pct  Var_pct  valor_inicial\n",
       "0   USIM5  1/26/2024         9.50         5.20   0.0520       9.030418\n",
       "1   CMIN3  1/26/2024         6.82         2.40   0.0240       6.660156\n",
       "2   PETR3  1/26/2024        41.96         2.19   0.0219      41.060769\n",
       "3   SUZB3  1/26/2024        52.91         2.04   0.0204      51.852215\n",
       "4   CPFE3  1/26/2024        37.10         2.03   0.0203      36.361854\n",
       "..    ...        ...          ...          ...      ...            ...\n",
       "76  CRFB3  1/26/2024        10.71        -2.45  -0.0245      10.978985\n",
       "77  BHIA3  1/26/2024         8.70        -2.46  -0.0246       8.919418\n",
       "78  RENT3  1/26/2024        56.24        -3.63  -0.0363      58.358410\n",
       "79  CVCB3  1/26/2024         3.07        -4.36  -0.0436       3.209954\n",
       "80  GOLL4  1/26/2024         5.92        -8.07  -0.0807       6.439682\n",
       "\n",
       "[81 rows x 6 columns]"
      ]
     },
     "execution_count": 9,
     "metadata": {},
     "output_type": "execute_result"
    }
   ],
   "source": [
    "df_principal['Var_pct'] =  df_principal['var_dia_pct'] / 100\n",
    "df_principal['valor_inicial'] = df_principal['valor_final'] / (df_principal['Var_pct'] + 1)\n",
    "df_principal"
   ]
  },
  {
   "cell_type": "markdown",
   "metadata": {},
   "source": [
    "**Merge**\n",
    "\n",
    "Mescla os DataFrames df_principal e df_total_acoes com base nas colunas 'Ativo' de df_principal e 'Código' de df_total_acoes"
   ]
  },
  {
   "cell_type": "code",
   "execution_count": 10,
   "metadata": {},
   "outputs": [
    {
     "data": {
      "text/html": [
       "<div>\n",
       "<style scoped>\n",
       "    .dataframe tbody tr th:only-of-type {\n",
       "        vertical-align: middle;\n",
       "    }\n",
       "\n",
       "    .dataframe tbody tr th {\n",
       "        vertical-align: top;\n",
       "    }\n",
       "\n",
       "    .dataframe thead th {\n",
       "        text-align: right;\n",
       "    }\n",
       "</style>\n",
       "<table border=\"1\" class=\"dataframe\">\n",
       "  <thead>\n",
       "    <tr style=\"text-align: right;\">\n",
       "      <th></th>\n",
       "      <th>Ativo</th>\n",
       "      <th>Data</th>\n",
       "      <th>valor_final</th>\n",
       "      <th>var_dia_pct</th>\n",
       "      <th>Var_pct</th>\n",
       "      <th>valor_inicial</th>\n",
       "      <th>Código</th>\n",
       "      <th>Qtde. Teórica</th>\n",
       "    </tr>\n",
       "  </thead>\n",
       "  <tbody>\n",
       "    <tr>\n",
       "      <th>0</th>\n",
       "      <td>USIM5</td>\n",
       "      <td>1/26/2024</td>\n",
       "      <td>9.50</td>\n",
       "      <td>5.20</td>\n",
       "      <td>0.0520</td>\n",
       "      <td>9.030418</td>\n",
       "      <td>USIM5</td>\n",
       "      <td>5.151174e+08</td>\n",
       "    </tr>\n",
       "    <tr>\n",
       "      <th>1</th>\n",
       "      <td>CMIN3</td>\n",
       "      <td>1/26/2024</td>\n",
       "      <td>6.82</td>\n",
       "      <td>2.40</td>\n",
       "      <td>0.0240</td>\n",
       "      <td>6.660156</td>\n",
       "      <td>CMIN3</td>\n",
       "      <td>1.110559e+09</td>\n",
       "    </tr>\n",
       "    <tr>\n",
       "      <th>2</th>\n",
       "      <td>PETR3</td>\n",
       "      <td>1/26/2024</td>\n",
       "      <td>41.96</td>\n",
       "      <td>2.19</td>\n",
       "      <td>0.0219</td>\n",
       "      <td>41.060769</td>\n",
       "      <td>PETR3</td>\n",
       "      <td>2.379878e+09</td>\n",
       "    </tr>\n",
       "    <tr>\n",
       "      <th>3</th>\n",
       "      <td>SUZB3</td>\n",
       "      <td>1/26/2024</td>\n",
       "      <td>52.91</td>\n",
       "      <td>2.04</td>\n",
       "      <td>0.0204</td>\n",
       "      <td>51.852215</td>\n",
       "      <td>SUZB3</td>\n",
       "      <td>6.834528e+08</td>\n",
       "    </tr>\n",
       "    <tr>\n",
       "      <th>4</th>\n",
       "      <td>CPFE3</td>\n",
       "      <td>1/26/2024</td>\n",
       "      <td>37.10</td>\n",
       "      <td>2.03</td>\n",
       "      <td>0.0203</td>\n",
       "      <td>36.361854</td>\n",
       "      <td>CPFE3</td>\n",
       "      <td>1.877325e+08</td>\n",
       "    </tr>\n",
       "    <tr>\n",
       "      <th>...</th>\n",
       "      <td>...</td>\n",
       "      <td>...</td>\n",
       "      <td>...</td>\n",
       "      <td>...</td>\n",
       "      <td>...</td>\n",
       "      <td>...</td>\n",
       "      <td>...</td>\n",
       "      <td>...</td>\n",
       "    </tr>\n",
       "    <tr>\n",
       "      <th>76</th>\n",
       "      <td>CRFB3</td>\n",
       "      <td>1/26/2024</td>\n",
       "      <td>10.71</td>\n",
       "      <td>-2.45</td>\n",
       "      <td>-0.0245</td>\n",
       "      <td>10.978985</td>\n",
       "      <td>CRFB3</td>\n",
       "      <td>5.339906e+08</td>\n",
       "    </tr>\n",
       "    <tr>\n",
       "      <th>77</th>\n",
       "      <td>BHIA3</td>\n",
       "      <td>1/26/2024</td>\n",
       "      <td>8.70</td>\n",
       "      <td>-2.46</td>\n",
       "      <td>-0.0246</td>\n",
       "      <td>8.919418</td>\n",
       "      <td>BHIA3</td>\n",
       "      <td>9.484305e+07</td>\n",
       "    </tr>\n",
       "    <tr>\n",
       "      <th>78</th>\n",
       "      <td>RENT3</td>\n",
       "      <td>1/26/2024</td>\n",
       "      <td>56.24</td>\n",
       "      <td>-3.63</td>\n",
       "      <td>-0.0363</td>\n",
       "      <td>58.358410</td>\n",
       "      <td>RENT3</td>\n",
       "      <td>8.532023e+08</td>\n",
       "    </tr>\n",
       "    <tr>\n",
       "      <th>79</th>\n",
       "      <td>CVCB3</td>\n",
       "      <td>1/26/2024</td>\n",
       "      <td>3.07</td>\n",
       "      <td>-4.36</td>\n",
       "      <td>-0.0436</td>\n",
       "      <td>3.209954</td>\n",
       "      <td>CVCB3</td>\n",
       "      <td>5.255828e+08</td>\n",
       "    </tr>\n",
       "    <tr>\n",
       "      <th>80</th>\n",
       "      <td>GOLL4</td>\n",
       "      <td>1/26/2024</td>\n",
       "      <td>5.92</td>\n",
       "      <td>-8.07</td>\n",
       "      <td>-0.0807</td>\n",
       "      <td>6.439682</td>\n",
       "      <td>GOLL4</td>\n",
       "      <td>1.981849e+08</td>\n",
       "    </tr>\n",
       "  </tbody>\n",
       "</table>\n",
       "<p>81 rows × 8 columns</p>\n",
       "</div>"
      ],
      "text/plain": [
       "    Ativo       Data  valor_final  var_dia_pct  Var_pct  valor_inicial Código  \\\n",
       "0   USIM5  1/26/2024         9.50         5.20   0.0520       9.030418  USIM5   \n",
       "1   CMIN3  1/26/2024         6.82         2.40   0.0240       6.660156  CMIN3   \n",
       "2   PETR3  1/26/2024        41.96         2.19   0.0219      41.060769  PETR3   \n",
       "3   SUZB3  1/26/2024        52.91         2.04   0.0204      51.852215  SUZB3   \n",
       "4   CPFE3  1/26/2024        37.10         2.03   0.0203      36.361854  CPFE3   \n",
       "..    ...        ...          ...          ...      ...            ...    ...   \n",
       "76  CRFB3  1/26/2024        10.71        -2.45  -0.0245      10.978985  CRFB3   \n",
       "77  BHIA3  1/26/2024         8.70        -2.46  -0.0246       8.919418  BHIA3   \n",
       "78  RENT3  1/26/2024        56.24        -3.63  -0.0363      58.358410  RENT3   \n",
       "79  CVCB3  1/26/2024         3.07        -4.36  -0.0436       3.209954  CVCB3   \n",
       "80  GOLL4  1/26/2024         5.92        -8.07  -0.0807       6.439682  GOLL4   \n",
       "\n",
       "    Qtde. Teórica  \n",
       "0    5.151174e+08  \n",
       "1    1.110559e+09  \n",
       "2    2.379878e+09  \n",
       "3    6.834528e+08  \n",
       "4    1.877325e+08  \n",
       "..            ...  \n",
       "76   5.339906e+08  \n",
       "77   9.484305e+07  \n",
       "78   8.532023e+08  \n",
       "79   5.255828e+08  \n",
       "80   1.981849e+08  \n",
       "\n",
       "[81 rows x 8 columns]"
      ]
     },
     "execution_count": 10,
     "metadata": {},
     "output_type": "execute_result"
    }
   ],
   "source": [
    "df_principal = df_principal.merge(df_total_acoes, left_on = 'Ativo', right_on = 'Código', how = 'left')\n",
    "df_principal"
   ]
  },
  {
   "cell_type": "markdown",
   "metadata": {},
   "source": [
    "**Removendo a coluna 'Código' do DataFrame para retirar duplicidade**"
   ]
  },
  {
   "cell_type": "code",
   "execution_count": 11,
   "metadata": {},
   "outputs": [
    {
     "data": {
      "text/html": [
       "<div>\n",
       "<style scoped>\n",
       "    .dataframe tbody tr th:only-of-type {\n",
       "        vertical-align: middle;\n",
       "    }\n",
       "\n",
       "    .dataframe tbody tr th {\n",
       "        vertical-align: top;\n",
       "    }\n",
       "\n",
       "    .dataframe thead th {\n",
       "        text-align: right;\n",
       "    }\n",
       "</style>\n",
       "<table border=\"1\" class=\"dataframe\">\n",
       "  <thead>\n",
       "    <tr style=\"text-align: right;\">\n",
       "      <th></th>\n",
       "      <th>Ativo</th>\n",
       "      <th>Data</th>\n",
       "      <th>valor_final</th>\n",
       "      <th>var_dia_pct</th>\n",
       "      <th>Var_pct</th>\n",
       "      <th>valor_inicial</th>\n",
       "      <th>Qtde. Teórica</th>\n",
       "    </tr>\n",
       "  </thead>\n",
       "  <tbody>\n",
       "    <tr>\n",
       "      <th>0</th>\n",
       "      <td>USIM5</td>\n",
       "      <td>1/26/2024</td>\n",
       "      <td>9.50</td>\n",
       "      <td>5.20</td>\n",
       "      <td>0.0520</td>\n",
       "      <td>9.030418</td>\n",
       "      <td>5.151174e+08</td>\n",
       "    </tr>\n",
       "    <tr>\n",
       "      <th>1</th>\n",
       "      <td>CMIN3</td>\n",
       "      <td>1/26/2024</td>\n",
       "      <td>6.82</td>\n",
       "      <td>2.40</td>\n",
       "      <td>0.0240</td>\n",
       "      <td>6.660156</td>\n",
       "      <td>1.110559e+09</td>\n",
       "    </tr>\n",
       "    <tr>\n",
       "      <th>2</th>\n",
       "      <td>PETR3</td>\n",
       "      <td>1/26/2024</td>\n",
       "      <td>41.96</td>\n",
       "      <td>2.19</td>\n",
       "      <td>0.0219</td>\n",
       "      <td>41.060769</td>\n",
       "      <td>2.379878e+09</td>\n",
       "    </tr>\n",
       "    <tr>\n",
       "      <th>3</th>\n",
       "      <td>SUZB3</td>\n",
       "      <td>1/26/2024</td>\n",
       "      <td>52.91</td>\n",
       "      <td>2.04</td>\n",
       "      <td>0.0204</td>\n",
       "      <td>51.852215</td>\n",
       "      <td>6.834528e+08</td>\n",
       "    </tr>\n",
       "    <tr>\n",
       "      <th>4</th>\n",
       "      <td>CPFE3</td>\n",
       "      <td>1/26/2024</td>\n",
       "      <td>37.10</td>\n",
       "      <td>2.03</td>\n",
       "      <td>0.0203</td>\n",
       "      <td>36.361854</td>\n",
       "      <td>1.877325e+08</td>\n",
       "    </tr>\n",
       "    <tr>\n",
       "      <th>...</th>\n",
       "      <td>...</td>\n",
       "      <td>...</td>\n",
       "      <td>...</td>\n",
       "      <td>...</td>\n",
       "      <td>...</td>\n",
       "      <td>...</td>\n",
       "      <td>...</td>\n",
       "    </tr>\n",
       "    <tr>\n",
       "      <th>76</th>\n",
       "      <td>CRFB3</td>\n",
       "      <td>1/26/2024</td>\n",
       "      <td>10.71</td>\n",
       "      <td>-2.45</td>\n",
       "      <td>-0.0245</td>\n",
       "      <td>10.978985</td>\n",
       "      <td>5.339906e+08</td>\n",
       "    </tr>\n",
       "    <tr>\n",
       "      <th>77</th>\n",
       "      <td>BHIA3</td>\n",
       "      <td>1/26/2024</td>\n",
       "      <td>8.70</td>\n",
       "      <td>-2.46</td>\n",
       "      <td>-0.0246</td>\n",
       "      <td>8.919418</td>\n",
       "      <td>9.484305e+07</td>\n",
       "    </tr>\n",
       "    <tr>\n",
       "      <th>78</th>\n",
       "      <td>RENT3</td>\n",
       "      <td>1/26/2024</td>\n",
       "      <td>56.24</td>\n",
       "      <td>-3.63</td>\n",
       "      <td>-0.0363</td>\n",
       "      <td>58.358410</td>\n",
       "      <td>8.532023e+08</td>\n",
       "    </tr>\n",
       "    <tr>\n",
       "      <th>79</th>\n",
       "      <td>CVCB3</td>\n",
       "      <td>1/26/2024</td>\n",
       "      <td>3.07</td>\n",
       "      <td>-4.36</td>\n",
       "      <td>-0.0436</td>\n",
       "      <td>3.209954</td>\n",
       "      <td>5.255828e+08</td>\n",
       "    </tr>\n",
       "    <tr>\n",
       "      <th>80</th>\n",
       "      <td>GOLL4</td>\n",
       "      <td>1/26/2024</td>\n",
       "      <td>5.92</td>\n",
       "      <td>-8.07</td>\n",
       "      <td>-0.0807</td>\n",
       "      <td>6.439682</td>\n",
       "      <td>1.981849e+08</td>\n",
       "    </tr>\n",
       "  </tbody>\n",
       "</table>\n",
       "<p>81 rows × 7 columns</p>\n",
       "</div>"
      ],
      "text/plain": [
       "    Ativo       Data  valor_final  var_dia_pct  Var_pct  valor_inicial  \\\n",
       "0   USIM5  1/26/2024         9.50         5.20   0.0520       9.030418   \n",
       "1   CMIN3  1/26/2024         6.82         2.40   0.0240       6.660156   \n",
       "2   PETR3  1/26/2024        41.96         2.19   0.0219      41.060769   \n",
       "3   SUZB3  1/26/2024        52.91         2.04   0.0204      51.852215   \n",
       "4   CPFE3  1/26/2024        37.10         2.03   0.0203      36.361854   \n",
       "..    ...        ...          ...          ...      ...            ...   \n",
       "76  CRFB3  1/26/2024        10.71        -2.45  -0.0245      10.978985   \n",
       "77  BHIA3  1/26/2024         8.70        -2.46  -0.0246       8.919418   \n",
       "78  RENT3  1/26/2024        56.24        -3.63  -0.0363      58.358410   \n",
       "79  CVCB3  1/26/2024         3.07        -4.36  -0.0436       3.209954   \n",
       "80  GOLL4  1/26/2024         5.92        -8.07  -0.0807       6.439682   \n",
       "\n",
       "    Qtde. Teórica  \n",
       "0    5.151174e+08  \n",
       "1    1.110559e+09  \n",
       "2    2.379878e+09  \n",
       "3    6.834528e+08  \n",
       "4    1.877325e+08  \n",
       "..            ...  \n",
       "76   5.339906e+08  \n",
       "77   9.484305e+07  \n",
       "78   8.532023e+08  \n",
       "79   5.255828e+08  \n",
       "80   1.981849e+08  \n",
       "\n",
       "[81 rows x 7 columns]"
      ]
     },
     "execution_count": 11,
     "metadata": {},
     "output_type": "execute_result"
    }
   ],
   "source": [
    "df_principal = df_principal.drop(columns = ['Código'])\n",
    "df_principal"
   ]
  },
  {
   "cell_type": "markdown",
   "metadata": {},
   "source": [
    "**Nova coluna com a variação de valor em reais**"
   ]
  },
  {
   "cell_type": "code",
   "execution_count": 12,
   "metadata": {},
   "outputs": [
    {
     "data": {
      "text/html": [
       "<div>\n",
       "<style scoped>\n",
       "    .dataframe tbody tr th:only-of-type {\n",
       "        vertical-align: middle;\n",
       "    }\n",
       "\n",
       "    .dataframe tbody tr th {\n",
       "        vertical-align: top;\n",
       "    }\n",
       "\n",
       "    .dataframe thead th {\n",
       "        text-align: right;\n",
       "    }\n",
       "</style>\n",
       "<table border=\"1\" class=\"dataframe\">\n",
       "  <thead>\n",
       "    <tr style=\"text-align: right;\">\n",
       "      <th></th>\n",
       "      <th>Ativo</th>\n",
       "      <th>Data</th>\n",
       "      <th>valor_final</th>\n",
       "      <th>var_dia_pct</th>\n",
       "      <th>Var_pct</th>\n",
       "      <th>valor_inicial</th>\n",
       "      <th>Qtde. Teórica</th>\n",
       "      <th>Variacao_rs</th>\n",
       "    </tr>\n",
       "  </thead>\n",
       "  <tbody>\n",
       "    <tr>\n",
       "      <th>0</th>\n",
       "      <td>USIM5</td>\n",
       "      <td>1/26/2024</td>\n",
       "      <td>9.50</td>\n",
       "      <td>5.20</td>\n",
       "      <td>0.0520</td>\n",
       "      <td>9.030418</td>\n",
       "      <td>5.151174e+08</td>\n",
       "      <td>2.418897e+08</td>\n",
       "    </tr>\n",
       "    <tr>\n",
       "      <th>1</th>\n",
       "      <td>CMIN3</td>\n",
       "      <td>1/26/2024</td>\n",
       "      <td>6.82</td>\n",
       "      <td>2.40</td>\n",
       "      <td>0.0240</td>\n",
       "      <td>6.660156</td>\n",
       "      <td>1.110559e+09</td>\n",
       "      <td>1.775160e+08</td>\n",
       "    </tr>\n",
       "    <tr>\n",
       "      <th>2</th>\n",
       "      <td>PETR3</td>\n",
       "      <td>1/26/2024</td>\n",
       "      <td>41.96</td>\n",
       "      <td>2.19</td>\n",
       "      <td>0.0219</td>\n",
       "      <td>41.060769</td>\n",
       "      <td>2.379878e+09</td>\n",
       "      <td>2.140059e+09</td>\n",
       "    </tr>\n",
       "    <tr>\n",
       "      <th>3</th>\n",
       "      <td>SUZB3</td>\n",
       "      <td>1/26/2024</td>\n",
       "      <td>52.91</td>\n",
       "      <td>2.04</td>\n",
       "      <td>0.0204</td>\n",
       "      <td>51.852215</td>\n",
       "      <td>6.834528e+08</td>\n",
       "      <td>7.229463e+08</td>\n",
       "    </tr>\n",
       "    <tr>\n",
       "      <th>4</th>\n",
       "      <td>CPFE3</td>\n",
       "      <td>1/26/2024</td>\n",
       "      <td>37.10</td>\n",
       "      <td>2.03</td>\n",
       "      <td>0.0203</td>\n",
       "      <td>36.361854</td>\n",
       "      <td>1.877325e+08</td>\n",
       "      <td>1.385740e+08</td>\n",
       "    </tr>\n",
       "    <tr>\n",
       "      <th>...</th>\n",
       "      <td>...</td>\n",
       "      <td>...</td>\n",
       "      <td>...</td>\n",
       "      <td>...</td>\n",
       "      <td>...</td>\n",
       "      <td>...</td>\n",
       "      <td>...</td>\n",
       "      <td>...</td>\n",
       "    </tr>\n",
       "    <tr>\n",
       "      <th>76</th>\n",
       "      <td>CRFB3</td>\n",
       "      <td>1/26/2024</td>\n",
       "      <td>10.71</td>\n",
       "      <td>-2.45</td>\n",
       "      <td>-0.0245</td>\n",
       "      <td>10.978985</td>\n",
       "      <td>5.339906e+08</td>\n",
       "      <td>-1.436355e+08</td>\n",
       "    </tr>\n",
       "    <tr>\n",
       "      <th>77</th>\n",
       "      <td>BHIA3</td>\n",
       "      <td>1/26/2024</td>\n",
       "      <td>8.70</td>\n",
       "      <td>-2.46</td>\n",
       "      <td>-0.0246</td>\n",
       "      <td>8.919418</td>\n",
       "      <td>9.484305e+07</td>\n",
       "      <td>-2.081024e+07</td>\n",
       "    </tr>\n",
       "    <tr>\n",
       "      <th>78</th>\n",
       "      <td>RENT3</td>\n",
       "      <td>1/26/2024</td>\n",
       "      <td>56.24</td>\n",
       "      <td>-3.63</td>\n",
       "      <td>-0.0363</td>\n",
       "      <td>58.358410</td>\n",
       "      <td>8.532023e+08</td>\n",
       "      <td>-1.807433e+09</td>\n",
       "    </tr>\n",
       "    <tr>\n",
       "      <th>79</th>\n",
       "      <td>CVCB3</td>\n",
       "      <td>1/26/2024</td>\n",
       "      <td>3.07</td>\n",
       "      <td>-4.36</td>\n",
       "      <td>-0.0436</td>\n",
       "      <td>3.209954</td>\n",
       "      <td>5.255828e+08</td>\n",
       "      <td>-7.355741e+07</td>\n",
       "    </tr>\n",
       "    <tr>\n",
       "      <th>80</th>\n",
       "      <td>GOLL4</td>\n",
       "      <td>1/26/2024</td>\n",
       "      <td>5.92</td>\n",
       "      <td>-8.07</td>\n",
       "      <td>-0.0807</td>\n",
       "      <td>6.439682</td>\n",
       "      <td>1.981849e+08</td>\n",
       "      <td>-1.029932e+08</td>\n",
       "    </tr>\n",
       "  </tbody>\n",
       "</table>\n",
       "<p>81 rows × 8 columns</p>\n",
       "</div>"
      ],
      "text/plain": [
       "    Ativo       Data  valor_final  var_dia_pct  Var_pct  valor_inicial  \\\n",
       "0   USIM5  1/26/2024         9.50         5.20   0.0520       9.030418   \n",
       "1   CMIN3  1/26/2024         6.82         2.40   0.0240       6.660156   \n",
       "2   PETR3  1/26/2024        41.96         2.19   0.0219      41.060769   \n",
       "3   SUZB3  1/26/2024        52.91         2.04   0.0204      51.852215   \n",
       "4   CPFE3  1/26/2024        37.10         2.03   0.0203      36.361854   \n",
       "..    ...        ...          ...          ...      ...            ...   \n",
       "76  CRFB3  1/26/2024        10.71        -2.45  -0.0245      10.978985   \n",
       "77  BHIA3  1/26/2024         8.70        -2.46  -0.0246       8.919418   \n",
       "78  RENT3  1/26/2024        56.24        -3.63  -0.0363      58.358410   \n",
       "79  CVCB3  1/26/2024         3.07        -4.36  -0.0436       3.209954   \n",
       "80  GOLL4  1/26/2024         5.92        -8.07  -0.0807       6.439682   \n",
       "\n",
       "    Qtde. Teórica   Variacao_rs  \n",
       "0    5.151174e+08  2.418897e+08  \n",
       "1    1.110559e+09  1.775160e+08  \n",
       "2    2.379878e+09  2.140059e+09  \n",
       "3    6.834528e+08  7.229463e+08  \n",
       "4    1.877325e+08  1.385740e+08  \n",
       "..            ...           ...  \n",
       "76   5.339906e+08 -1.436355e+08  \n",
       "77   9.484305e+07 -2.081024e+07  \n",
       "78   8.532023e+08 -1.807433e+09  \n",
       "79   5.255828e+08 -7.355741e+07  \n",
       "80   1.981849e+08 -1.029932e+08  \n",
       "\n",
       "[81 rows x 8 columns]"
      ]
     },
     "execution_count": 12,
     "metadata": {},
     "output_type": "execute_result"
    }
   ],
   "source": [
    "df_principal['Variacao_rs'] =  (df_principal['valor_final'] - df_principal['valor_inicial']) * df_principal['Qtde. Teórica']\n",
    "df_principal"
   ]
  },
  {
   "cell_type": "markdown",
   "metadata": {},
   "source": [
    "**Rename das colunas**\n",
    "\n",
    "* Quantidade teórica\n",
    "* Variação em reais\n"
   ]
  },
  {
   "cell_type": "code",
   "execution_count": 13,
   "metadata": {},
   "outputs": [
    {
     "data": {
      "text/html": [
       "<div>\n",
       "<style scoped>\n",
       "    .dataframe tbody tr th:only-of-type {\n",
       "        vertical-align: middle;\n",
       "    }\n",
       "\n",
       "    .dataframe tbody tr th {\n",
       "        vertical-align: top;\n",
       "    }\n",
       "\n",
       "    .dataframe thead th {\n",
       "        text-align: right;\n",
       "    }\n",
       "</style>\n",
       "<table border=\"1\" class=\"dataframe\">\n",
       "  <thead>\n",
       "    <tr style=\"text-align: right;\">\n",
       "      <th></th>\n",
       "      <th>Ativo</th>\n",
       "      <th>Data</th>\n",
       "      <th>valor_final</th>\n",
       "      <th>var_dia_pct</th>\n",
       "      <th>Var_pct</th>\n",
       "      <th>valor_inicial</th>\n",
       "      <th>Qtd_teorica</th>\n",
       "      <th>Variacao_reias</th>\n",
       "    </tr>\n",
       "  </thead>\n",
       "  <tbody>\n",
       "    <tr>\n",
       "      <th>0</th>\n",
       "      <td>USIM5</td>\n",
       "      <td>1/26/2024</td>\n",
       "      <td>9.50</td>\n",
       "      <td>5.20</td>\n",
       "      <td>0.0520</td>\n",
       "      <td>9.030418</td>\n",
       "      <td>5.151174e+08</td>\n",
       "      <td>2.418897e+08</td>\n",
       "    </tr>\n",
       "    <tr>\n",
       "      <th>1</th>\n",
       "      <td>CMIN3</td>\n",
       "      <td>1/26/2024</td>\n",
       "      <td>6.82</td>\n",
       "      <td>2.40</td>\n",
       "      <td>0.0240</td>\n",
       "      <td>6.660156</td>\n",
       "      <td>1.110559e+09</td>\n",
       "      <td>1.775160e+08</td>\n",
       "    </tr>\n",
       "    <tr>\n",
       "      <th>2</th>\n",
       "      <td>PETR3</td>\n",
       "      <td>1/26/2024</td>\n",
       "      <td>41.96</td>\n",
       "      <td>2.19</td>\n",
       "      <td>0.0219</td>\n",
       "      <td>41.060769</td>\n",
       "      <td>2.379878e+09</td>\n",
       "      <td>2.140059e+09</td>\n",
       "    </tr>\n",
       "    <tr>\n",
       "      <th>3</th>\n",
       "      <td>SUZB3</td>\n",
       "      <td>1/26/2024</td>\n",
       "      <td>52.91</td>\n",
       "      <td>2.04</td>\n",
       "      <td>0.0204</td>\n",
       "      <td>51.852215</td>\n",
       "      <td>6.834528e+08</td>\n",
       "      <td>7.229463e+08</td>\n",
       "    </tr>\n",
       "    <tr>\n",
       "      <th>4</th>\n",
       "      <td>CPFE3</td>\n",
       "      <td>1/26/2024</td>\n",
       "      <td>37.10</td>\n",
       "      <td>2.03</td>\n",
       "      <td>0.0203</td>\n",
       "      <td>36.361854</td>\n",
       "      <td>1.877325e+08</td>\n",
       "      <td>1.385740e+08</td>\n",
       "    </tr>\n",
       "    <tr>\n",
       "      <th>...</th>\n",
       "      <td>...</td>\n",
       "      <td>...</td>\n",
       "      <td>...</td>\n",
       "      <td>...</td>\n",
       "      <td>...</td>\n",
       "      <td>...</td>\n",
       "      <td>...</td>\n",
       "      <td>...</td>\n",
       "    </tr>\n",
       "    <tr>\n",
       "      <th>76</th>\n",
       "      <td>CRFB3</td>\n",
       "      <td>1/26/2024</td>\n",
       "      <td>10.71</td>\n",
       "      <td>-2.45</td>\n",
       "      <td>-0.0245</td>\n",
       "      <td>10.978985</td>\n",
       "      <td>5.339906e+08</td>\n",
       "      <td>-1.436355e+08</td>\n",
       "    </tr>\n",
       "    <tr>\n",
       "      <th>77</th>\n",
       "      <td>BHIA3</td>\n",
       "      <td>1/26/2024</td>\n",
       "      <td>8.70</td>\n",
       "      <td>-2.46</td>\n",
       "      <td>-0.0246</td>\n",
       "      <td>8.919418</td>\n",
       "      <td>9.484305e+07</td>\n",
       "      <td>-2.081024e+07</td>\n",
       "    </tr>\n",
       "    <tr>\n",
       "      <th>78</th>\n",
       "      <td>RENT3</td>\n",
       "      <td>1/26/2024</td>\n",
       "      <td>56.24</td>\n",
       "      <td>-3.63</td>\n",
       "      <td>-0.0363</td>\n",
       "      <td>58.358410</td>\n",
       "      <td>8.532023e+08</td>\n",
       "      <td>-1.807433e+09</td>\n",
       "    </tr>\n",
       "    <tr>\n",
       "      <th>79</th>\n",
       "      <td>CVCB3</td>\n",
       "      <td>1/26/2024</td>\n",
       "      <td>3.07</td>\n",
       "      <td>-4.36</td>\n",
       "      <td>-0.0436</td>\n",
       "      <td>3.209954</td>\n",
       "      <td>5.255828e+08</td>\n",
       "      <td>-7.355741e+07</td>\n",
       "    </tr>\n",
       "    <tr>\n",
       "      <th>80</th>\n",
       "      <td>GOLL4</td>\n",
       "      <td>1/26/2024</td>\n",
       "      <td>5.92</td>\n",
       "      <td>-8.07</td>\n",
       "      <td>-0.0807</td>\n",
       "      <td>6.439682</td>\n",
       "      <td>1.981849e+08</td>\n",
       "      <td>-1.029932e+08</td>\n",
       "    </tr>\n",
       "  </tbody>\n",
       "</table>\n",
       "<p>81 rows × 8 columns</p>\n",
       "</div>"
      ],
      "text/plain": [
       "    Ativo       Data  valor_final  var_dia_pct  Var_pct  valor_inicial  \\\n",
       "0   USIM5  1/26/2024         9.50         5.20   0.0520       9.030418   \n",
       "1   CMIN3  1/26/2024         6.82         2.40   0.0240       6.660156   \n",
       "2   PETR3  1/26/2024        41.96         2.19   0.0219      41.060769   \n",
       "3   SUZB3  1/26/2024        52.91         2.04   0.0204      51.852215   \n",
       "4   CPFE3  1/26/2024        37.10         2.03   0.0203      36.361854   \n",
       "..    ...        ...          ...          ...      ...            ...   \n",
       "76  CRFB3  1/26/2024        10.71        -2.45  -0.0245      10.978985   \n",
       "77  BHIA3  1/26/2024         8.70        -2.46  -0.0246       8.919418   \n",
       "78  RENT3  1/26/2024        56.24        -3.63  -0.0363      58.358410   \n",
       "79  CVCB3  1/26/2024         3.07        -4.36  -0.0436       3.209954   \n",
       "80  GOLL4  1/26/2024         5.92        -8.07  -0.0807       6.439682   \n",
       "\n",
       "     Qtd_teorica  Variacao_reias  \n",
       "0   5.151174e+08    2.418897e+08  \n",
       "1   1.110559e+09    1.775160e+08  \n",
       "2   2.379878e+09    2.140059e+09  \n",
       "3   6.834528e+08    7.229463e+08  \n",
       "4   1.877325e+08    1.385740e+08  \n",
       "..           ...             ...  \n",
       "76  5.339906e+08   -1.436355e+08  \n",
       "77  9.484305e+07   -2.081024e+07  \n",
       "78  8.532023e+08   -1.807433e+09  \n",
       "79  5.255828e+08   -7.355741e+07  \n",
       "80  1.981849e+08   -1.029932e+08  \n",
       "\n",
       "[81 rows x 8 columns]"
      ]
     },
     "execution_count": 13,
     "metadata": {},
     "output_type": "execute_result"
    }
   ],
   "source": [
    "df_principal = df_principal.rename(columns = {'Qtde. Teórica' : 'Qtd_teorica', 'Variacao_rs' : 'Variacao_reias'}).copy()\n",
    "df_principal"
   ]
  },
  {
   "cell_type": "markdown",
   "metadata": {},
   "source": [
    "**Format na exibição dos números float**\n",
    "\n",
    "**Convert para Int na exibição da quantidade teórica**"
   ]
  },
  {
   "cell_type": "code",
   "execution_count": 14,
   "metadata": {},
   "outputs": [
    {
     "name": "stderr",
     "output_type": "stream",
     "text": [
      "C:\\Users\\Rafael\\AppData\\Local\\Temp\\ipykernel_4260\\1897446673.py:3: SettingWithCopyWarning: \n",
      "A value is trying to be set on a copy of a slice from a DataFrame.\n",
      "Try using .loc[row_indexer,col_indexer] = value instead\n",
      "\n",
      "See the caveats in the documentation: https://pandas.pydata.org/pandas-docs/stable/user_guide/indexing.html#returning-a-view-versus-a-copy\n",
      "  df_principal['Qtd_teorica'] = df_principal['Qtd_teorica'].astype(int)\n"
     ]
    },
    {
     "data": {
      "text/html": [
       "<div>\n",
       "<style scoped>\n",
       "    .dataframe tbody tr th:only-of-type {\n",
       "        vertical-align: middle;\n",
       "    }\n",
       "\n",
       "    .dataframe tbody tr th {\n",
       "        vertical-align: top;\n",
       "    }\n",
       "\n",
       "    .dataframe thead th {\n",
       "        text-align: right;\n",
       "    }\n",
       "</style>\n",
       "<table border=\"1\" class=\"dataframe\">\n",
       "  <thead>\n",
       "    <tr style=\"text-align: right;\">\n",
       "      <th></th>\n",
       "      <th>Ativo</th>\n",
       "      <th>Data</th>\n",
       "      <th>valor_final</th>\n",
       "      <th>var_dia_pct</th>\n",
       "      <th>Var_pct</th>\n",
       "      <th>valor_inicial</th>\n",
       "      <th>Qtd_teorica</th>\n",
       "      <th>Variacao_reias</th>\n",
       "    </tr>\n",
       "  </thead>\n",
       "  <tbody>\n",
       "    <tr>\n",
       "      <th>0</th>\n",
       "      <td>USIM5</td>\n",
       "      <td>1/26/2024</td>\n",
       "      <td>9.50</td>\n",
       "      <td>5.20</td>\n",
       "      <td>0.05</td>\n",
       "      <td>9.03</td>\n",
       "      <td>515117391</td>\n",
       "      <td>241889725.43</td>\n",
       "    </tr>\n",
       "    <tr>\n",
       "      <th>1</th>\n",
       "      <td>CMIN3</td>\n",
       "      <td>1/26/2024</td>\n",
       "      <td>6.82</td>\n",
       "      <td>2.40</td>\n",
       "      <td>0.02</td>\n",
       "      <td>6.66</td>\n",
       "      <td>1110559345</td>\n",
       "      <td>177515970.30</td>\n",
       "    </tr>\n",
       "    <tr>\n",
       "      <th>2</th>\n",
       "      <td>PETR3</td>\n",
       "      <td>1/26/2024</td>\n",
       "      <td>41.96</td>\n",
       "      <td>2.19</td>\n",
       "      <td>0.02</td>\n",
       "      <td>41.06</td>\n",
       "      <td>-2147483648</td>\n",
       "      <td>2140059393.53</td>\n",
       "    </tr>\n",
       "    <tr>\n",
       "      <th>3</th>\n",
       "      <td>SUZB3</td>\n",
       "      <td>1/26/2024</td>\n",
       "      <td>52.91</td>\n",
       "      <td>2.04</td>\n",
       "      <td>0.02</td>\n",
       "      <td>51.85</td>\n",
       "      <td>683452836</td>\n",
       "      <td>722946282.71</td>\n",
       "    </tr>\n",
       "    <tr>\n",
       "      <th>4</th>\n",
       "      <td>CPFE3</td>\n",
       "      <td>1/26/2024</td>\n",
       "      <td>37.10</td>\n",
       "      <td>2.03</td>\n",
       "      <td>0.02</td>\n",
       "      <td>36.36</td>\n",
       "      <td>187732538</td>\n",
       "      <td>138573955.06</td>\n",
       "    </tr>\n",
       "    <tr>\n",
       "      <th>...</th>\n",
       "      <td>...</td>\n",
       "      <td>...</td>\n",
       "      <td>...</td>\n",
       "      <td>...</td>\n",
       "      <td>...</td>\n",
       "      <td>...</td>\n",
       "      <td>...</td>\n",
       "      <td>...</td>\n",
       "    </tr>\n",
       "    <tr>\n",
       "      <th>76</th>\n",
       "      <td>CRFB3</td>\n",
       "      <td>1/26/2024</td>\n",
       "      <td>10.71</td>\n",
       "      <td>-2.45</td>\n",
       "      <td>-0.02</td>\n",
       "      <td>10.98</td>\n",
       "      <td>533990587</td>\n",
       "      <td>-143635530.57</td>\n",
       "    </tr>\n",
       "    <tr>\n",
       "      <th>77</th>\n",
       "      <td>BHIA3</td>\n",
       "      <td>1/26/2024</td>\n",
       "      <td>8.70</td>\n",
       "      <td>-2.46</td>\n",
       "      <td>-0.02</td>\n",
       "      <td>8.92</td>\n",
       "      <td>94843047</td>\n",
       "      <td>-20810240.84</td>\n",
       "    </tr>\n",
       "    <tr>\n",
       "      <th>78</th>\n",
       "      <td>RENT3</td>\n",
       "      <td>1/26/2024</td>\n",
       "      <td>56.24</td>\n",
       "      <td>-3.63</td>\n",
       "      <td>-0.04</td>\n",
       "      <td>58.36</td>\n",
       "      <td>853202347</td>\n",
       "      <td>-1807432634.46</td>\n",
       "    </tr>\n",
       "    <tr>\n",
       "      <th>79</th>\n",
       "      <td>CVCB3</td>\n",
       "      <td>1/26/2024</td>\n",
       "      <td>3.07</td>\n",
       "      <td>-4.36</td>\n",
       "      <td>-0.04</td>\n",
       "      <td>3.21</td>\n",
       "      <td>525582771</td>\n",
       "      <td>-73557408.06</td>\n",
       "    </tr>\n",
       "    <tr>\n",
       "      <th>80</th>\n",
       "      <td>GOLL4</td>\n",
       "      <td>1/26/2024</td>\n",
       "      <td>5.92</td>\n",
       "      <td>-8.07</td>\n",
       "      <td>-0.08</td>\n",
       "      <td>6.44</td>\n",
       "      <td>198184909</td>\n",
       "      <td>-102993202.62</td>\n",
       "    </tr>\n",
       "  </tbody>\n",
       "</table>\n",
       "<p>80 rows × 8 columns</p>\n",
       "</div>"
      ],
      "text/plain": [
       "    Ativo       Data  valor_final  var_dia_pct  Var_pct  valor_inicial  \\\n",
       "0   USIM5  1/26/2024         9.50         5.20     0.05           9.03   \n",
       "1   CMIN3  1/26/2024         6.82         2.40     0.02           6.66   \n",
       "2   PETR3  1/26/2024        41.96         2.19     0.02          41.06   \n",
       "3   SUZB3  1/26/2024        52.91         2.04     0.02          51.85   \n",
       "4   CPFE3  1/26/2024        37.10         2.03     0.02          36.36   \n",
       "..    ...        ...          ...          ...      ...            ...   \n",
       "76  CRFB3  1/26/2024        10.71        -2.45    -0.02          10.98   \n",
       "77  BHIA3  1/26/2024         8.70        -2.46    -0.02           8.92   \n",
       "78  RENT3  1/26/2024        56.24        -3.63    -0.04          58.36   \n",
       "79  CVCB3  1/26/2024         3.07        -4.36    -0.04           3.21   \n",
       "80  GOLL4  1/26/2024         5.92        -8.07    -0.08           6.44   \n",
       "\n",
       "    Qtd_teorica  Variacao_reias  \n",
       "0     515117391    241889725.43  \n",
       "1    1110559345    177515970.30  \n",
       "2   -2147483648   2140059393.53  \n",
       "3     683452836    722946282.71  \n",
       "4     187732538    138573955.06  \n",
       "..          ...             ...  \n",
       "76    533990587   -143635530.57  \n",
       "77     94843047    -20810240.84  \n",
       "78    853202347  -1807432634.46  \n",
       "79    525582771    -73557408.06  \n",
       "80    198184909   -102993202.62  \n",
       "\n",
       "[80 rows x 8 columns]"
      ]
     },
     "execution_count": 14,
     "metadata": {},
     "output_type": "execute_result"
    }
   ],
   "source": [
    "pd.options.display.float_format = '{:.2f}'.format\n",
    "df_principal = df_principal.dropna(subset=['Qtd_teorica'])\n",
    "df_principal['Qtd_teorica'] = df_principal['Qtd_teorica'].astype(int)\n",
    "df_principal"
   ]
  },
  {
   "cell_type": "markdown",
   "metadata": {},
   "source": [
    "**Nova coluna no DataFrame**\n",
    "\n",
    "Indica se ocorreu um aumento, redução ou se o valor permaneceu estável com base na coluna de Variação em Reais"
   ]
  },
  {
   "cell_type": "code",
   "execution_count": 15,
   "metadata": {},
   "outputs": [
    {
     "name": "stderr",
     "output_type": "stream",
     "text": [
      "C:\\Users\\Rafael\\AppData\\Local\\Temp\\ipykernel_4260\\4276383997.py:1: SettingWithCopyWarning: \n",
      "A value is trying to be set on a copy of a slice from a DataFrame.\n",
      "Try using .loc[row_indexer,col_indexer] = value instead\n",
      "\n",
      "See the caveats in the documentation: https://pandas.pydata.org/pandas-docs/stable/user_guide/indexing.html#returning-a-view-versus-a-copy\n",
      "  df_principal['Resultado'] = df_principal['Variacao_reias'].apply(lambda x: 'Subiu' if x > 0 else ('Desceu' if x < 0 else 'Estável'))\n"
     ]
    },
    {
     "data": {
      "text/html": [
       "<div>\n",
       "<style scoped>\n",
       "    .dataframe tbody tr th:only-of-type {\n",
       "        vertical-align: middle;\n",
       "    }\n",
       "\n",
       "    .dataframe tbody tr th {\n",
       "        vertical-align: top;\n",
       "    }\n",
       "\n",
       "    .dataframe thead th {\n",
       "        text-align: right;\n",
       "    }\n",
       "</style>\n",
       "<table border=\"1\" class=\"dataframe\">\n",
       "  <thead>\n",
       "    <tr style=\"text-align: right;\">\n",
       "      <th></th>\n",
       "      <th>Ativo</th>\n",
       "      <th>Data</th>\n",
       "      <th>valor_final</th>\n",
       "      <th>var_dia_pct</th>\n",
       "      <th>Var_pct</th>\n",
       "      <th>valor_inicial</th>\n",
       "      <th>Qtd_teorica</th>\n",
       "      <th>Variacao_reias</th>\n",
       "      <th>Resultado</th>\n",
       "    </tr>\n",
       "  </thead>\n",
       "  <tbody>\n",
       "    <tr>\n",
       "      <th>0</th>\n",
       "      <td>USIM5</td>\n",
       "      <td>1/26/2024</td>\n",
       "      <td>9.50</td>\n",
       "      <td>5.20</td>\n",
       "      <td>0.05</td>\n",
       "      <td>9.03</td>\n",
       "      <td>515117391</td>\n",
       "      <td>241889725.43</td>\n",
       "      <td>Subiu</td>\n",
       "    </tr>\n",
       "    <tr>\n",
       "      <th>1</th>\n",
       "      <td>CMIN3</td>\n",
       "      <td>1/26/2024</td>\n",
       "      <td>6.82</td>\n",
       "      <td>2.40</td>\n",
       "      <td>0.02</td>\n",
       "      <td>6.66</td>\n",
       "      <td>1110559345</td>\n",
       "      <td>177515970.30</td>\n",
       "      <td>Subiu</td>\n",
       "    </tr>\n",
       "    <tr>\n",
       "      <th>2</th>\n",
       "      <td>PETR3</td>\n",
       "      <td>1/26/2024</td>\n",
       "      <td>41.96</td>\n",
       "      <td>2.19</td>\n",
       "      <td>0.02</td>\n",
       "      <td>41.06</td>\n",
       "      <td>-2147483648</td>\n",
       "      <td>2140059393.53</td>\n",
       "      <td>Subiu</td>\n",
       "    </tr>\n",
       "    <tr>\n",
       "      <th>3</th>\n",
       "      <td>SUZB3</td>\n",
       "      <td>1/26/2024</td>\n",
       "      <td>52.91</td>\n",
       "      <td>2.04</td>\n",
       "      <td>0.02</td>\n",
       "      <td>51.85</td>\n",
       "      <td>683452836</td>\n",
       "      <td>722946282.71</td>\n",
       "      <td>Subiu</td>\n",
       "    </tr>\n",
       "    <tr>\n",
       "      <th>4</th>\n",
       "      <td>CPFE3</td>\n",
       "      <td>1/26/2024</td>\n",
       "      <td>37.10</td>\n",
       "      <td>2.03</td>\n",
       "      <td>0.02</td>\n",
       "      <td>36.36</td>\n",
       "      <td>187732538</td>\n",
       "      <td>138573955.06</td>\n",
       "      <td>Subiu</td>\n",
       "    </tr>\n",
       "    <tr>\n",
       "      <th>...</th>\n",
       "      <td>...</td>\n",
       "      <td>...</td>\n",
       "      <td>...</td>\n",
       "      <td>...</td>\n",
       "      <td>...</td>\n",
       "      <td>...</td>\n",
       "      <td>...</td>\n",
       "      <td>...</td>\n",
       "      <td>...</td>\n",
       "    </tr>\n",
       "    <tr>\n",
       "      <th>76</th>\n",
       "      <td>CRFB3</td>\n",
       "      <td>1/26/2024</td>\n",
       "      <td>10.71</td>\n",
       "      <td>-2.45</td>\n",
       "      <td>-0.02</td>\n",
       "      <td>10.98</td>\n",
       "      <td>533990587</td>\n",
       "      <td>-143635530.57</td>\n",
       "      <td>Desceu</td>\n",
       "    </tr>\n",
       "    <tr>\n",
       "      <th>77</th>\n",
       "      <td>BHIA3</td>\n",
       "      <td>1/26/2024</td>\n",
       "      <td>8.70</td>\n",
       "      <td>-2.46</td>\n",
       "      <td>-0.02</td>\n",
       "      <td>8.92</td>\n",
       "      <td>94843047</td>\n",
       "      <td>-20810240.84</td>\n",
       "      <td>Desceu</td>\n",
       "    </tr>\n",
       "    <tr>\n",
       "      <th>78</th>\n",
       "      <td>RENT3</td>\n",
       "      <td>1/26/2024</td>\n",
       "      <td>56.24</td>\n",
       "      <td>-3.63</td>\n",
       "      <td>-0.04</td>\n",
       "      <td>58.36</td>\n",
       "      <td>853202347</td>\n",
       "      <td>-1807432634.46</td>\n",
       "      <td>Desceu</td>\n",
       "    </tr>\n",
       "    <tr>\n",
       "      <th>79</th>\n",
       "      <td>CVCB3</td>\n",
       "      <td>1/26/2024</td>\n",
       "      <td>3.07</td>\n",
       "      <td>-4.36</td>\n",
       "      <td>-0.04</td>\n",
       "      <td>3.21</td>\n",
       "      <td>525582771</td>\n",
       "      <td>-73557408.06</td>\n",
       "      <td>Desceu</td>\n",
       "    </tr>\n",
       "    <tr>\n",
       "      <th>80</th>\n",
       "      <td>GOLL4</td>\n",
       "      <td>1/26/2024</td>\n",
       "      <td>5.92</td>\n",
       "      <td>-8.07</td>\n",
       "      <td>-0.08</td>\n",
       "      <td>6.44</td>\n",
       "      <td>198184909</td>\n",
       "      <td>-102993202.62</td>\n",
       "      <td>Desceu</td>\n",
       "    </tr>\n",
       "  </tbody>\n",
       "</table>\n",
       "<p>80 rows × 9 columns</p>\n",
       "</div>"
      ],
      "text/plain": [
       "    Ativo       Data  valor_final  var_dia_pct  Var_pct  valor_inicial  \\\n",
       "0   USIM5  1/26/2024         9.50         5.20     0.05           9.03   \n",
       "1   CMIN3  1/26/2024         6.82         2.40     0.02           6.66   \n",
       "2   PETR3  1/26/2024        41.96         2.19     0.02          41.06   \n",
       "3   SUZB3  1/26/2024        52.91         2.04     0.02          51.85   \n",
       "4   CPFE3  1/26/2024        37.10         2.03     0.02          36.36   \n",
       "..    ...        ...          ...          ...      ...            ...   \n",
       "76  CRFB3  1/26/2024        10.71        -2.45    -0.02          10.98   \n",
       "77  BHIA3  1/26/2024         8.70        -2.46    -0.02           8.92   \n",
       "78  RENT3  1/26/2024        56.24        -3.63    -0.04          58.36   \n",
       "79  CVCB3  1/26/2024         3.07        -4.36    -0.04           3.21   \n",
       "80  GOLL4  1/26/2024         5.92        -8.07    -0.08           6.44   \n",
       "\n",
       "    Qtd_teorica  Variacao_reias Resultado  \n",
       "0     515117391    241889725.43     Subiu  \n",
       "1    1110559345    177515970.30     Subiu  \n",
       "2   -2147483648   2140059393.53     Subiu  \n",
       "3     683452836    722946282.71     Subiu  \n",
       "4     187732538    138573955.06     Subiu  \n",
       "..          ...             ...       ...  \n",
       "76    533990587   -143635530.57    Desceu  \n",
       "77     94843047    -20810240.84    Desceu  \n",
       "78    853202347  -1807432634.46    Desceu  \n",
       "79    525582771    -73557408.06    Desceu  \n",
       "80    198184909   -102993202.62    Desceu  \n",
       "\n",
       "[80 rows x 9 columns]"
      ]
     },
     "execution_count": 15,
     "metadata": {},
     "output_type": "execute_result"
    }
   ],
   "source": [
    "df_principal['Resultado'] = df_principal['Variacao_reias'].apply(lambda x: 'Subiu' if x > 0 else ('Desceu' if x < 0 else 'Estável'))\n",
    "df_principal"
   ]
  },
  {
   "cell_type": "markdown",
   "metadata": {},
   "source": [
    "**Merge**\n",
    "\n",
    "Com base nas colunas 'Ativo' e 'Ticker'\n",
    "\n",
    "Juntamente do drop para evitar duplicidade no dataframe."
   ]
  },
  {
   "cell_type": "code",
   "execution_count": 16,
   "metadata": {},
   "outputs": [
    {
     "data": {
      "text/html": [
       "<div>\n",
       "<style scoped>\n",
       "    .dataframe tbody tr th:only-of-type {\n",
       "        vertical-align: middle;\n",
       "    }\n",
       "\n",
       "    .dataframe tbody tr th {\n",
       "        vertical-align: top;\n",
       "    }\n",
       "\n",
       "    .dataframe thead th {\n",
       "        text-align: right;\n",
       "    }\n",
       "</style>\n",
       "<table border=\"1\" class=\"dataframe\">\n",
       "  <thead>\n",
       "    <tr style=\"text-align: right;\">\n",
       "      <th></th>\n",
       "      <th>Ativo</th>\n",
       "      <th>Data</th>\n",
       "      <th>valor_final</th>\n",
       "      <th>var_dia_pct</th>\n",
       "      <th>Var_pct</th>\n",
       "      <th>valor_inicial</th>\n",
       "      <th>Qtd_teorica</th>\n",
       "      <th>Variacao_reias</th>\n",
       "      <th>Resultado</th>\n",
       "      <th>Nome</th>\n",
       "    </tr>\n",
       "  </thead>\n",
       "  <tbody>\n",
       "    <tr>\n",
       "      <th>0</th>\n",
       "      <td>USIM5</td>\n",
       "      <td>1/26/2024</td>\n",
       "      <td>9.50</td>\n",
       "      <td>5.20</td>\n",
       "      <td>0.05</td>\n",
       "      <td>9.03</td>\n",
       "      <td>515117391</td>\n",
       "      <td>241889725.43</td>\n",
       "      <td>Subiu</td>\n",
       "      <td>Usiminas</td>\n",
       "    </tr>\n",
       "    <tr>\n",
       "      <th>1</th>\n",
       "      <td>CMIN3</td>\n",
       "      <td>1/26/2024</td>\n",
       "      <td>6.82</td>\n",
       "      <td>2.40</td>\n",
       "      <td>0.02</td>\n",
       "      <td>6.66</td>\n",
       "      <td>1110559345</td>\n",
       "      <td>177515970.30</td>\n",
       "      <td>Subiu</td>\n",
       "      <td>CSN Mineração</td>\n",
       "    </tr>\n",
       "    <tr>\n",
       "      <th>2</th>\n",
       "      <td>PETR3</td>\n",
       "      <td>1/26/2024</td>\n",
       "      <td>41.96</td>\n",
       "      <td>2.19</td>\n",
       "      <td>0.02</td>\n",
       "      <td>41.06</td>\n",
       "      <td>-2147483648</td>\n",
       "      <td>2140059393.53</td>\n",
       "      <td>Subiu</td>\n",
       "      <td>Petrobras</td>\n",
       "    </tr>\n",
       "    <tr>\n",
       "      <th>3</th>\n",
       "      <td>SUZB3</td>\n",
       "      <td>1/26/2024</td>\n",
       "      <td>52.91</td>\n",
       "      <td>2.04</td>\n",
       "      <td>0.02</td>\n",
       "      <td>51.85</td>\n",
       "      <td>683452836</td>\n",
       "      <td>722946282.71</td>\n",
       "      <td>Subiu</td>\n",
       "      <td>Suzano</td>\n",
       "    </tr>\n",
       "    <tr>\n",
       "      <th>4</th>\n",
       "      <td>CPFE3</td>\n",
       "      <td>1/26/2024</td>\n",
       "      <td>37.10</td>\n",
       "      <td>2.03</td>\n",
       "      <td>0.02</td>\n",
       "      <td>36.36</td>\n",
       "      <td>187732538</td>\n",
       "      <td>138573955.06</td>\n",
       "      <td>Subiu</td>\n",
       "      <td>CPFL Energia</td>\n",
       "    </tr>\n",
       "    <tr>\n",
       "      <th>...</th>\n",
       "      <td>...</td>\n",
       "      <td>...</td>\n",
       "      <td>...</td>\n",
       "      <td>...</td>\n",
       "      <td>...</td>\n",
       "      <td>...</td>\n",
       "      <td>...</td>\n",
       "      <td>...</td>\n",
       "      <td>...</td>\n",
       "      <td>...</td>\n",
       "    </tr>\n",
       "    <tr>\n",
       "      <th>75</th>\n",
       "      <td>CRFB3</td>\n",
       "      <td>1/26/2024</td>\n",
       "      <td>10.71</td>\n",
       "      <td>-2.45</td>\n",
       "      <td>-0.02</td>\n",
       "      <td>10.98</td>\n",
       "      <td>533990587</td>\n",
       "      <td>-143635530.57</td>\n",
       "      <td>Desceu</td>\n",
       "      <td>Carrefour Brasil</td>\n",
       "    </tr>\n",
       "    <tr>\n",
       "      <th>76</th>\n",
       "      <td>BHIA3</td>\n",
       "      <td>1/26/2024</td>\n",
       "      <td>8.70</td>\n",
       "      <td>-2.46</td>\n",
       "      <td>-0.02</td>\n",
       "      <td>8.92</td>\n",
       "      <td>94843047</td>\n",
       "      <td>-20810240.84</td>\n",
       "      <td>Desceu</td>\n",
       "      <td>Casas Bahia</td>\n",
       "    </tr>\n",
       "    <tr>\n",
       "      <th>77</th>\n",
       "      <td>RENT3</td>\n",
       "      <td>1/26/2024</td>\n",
       "      <td>56.24</td>\n",
       "      <td>-3.63</td>\n",
       "      <td>-0.04</td>\n",
       "      <td>58.36</td>\n",
       "      <td>853202347</td>\n",
       "      <td>-1807432634.46</td>\n",
       "      <td>Desceu</td>\n",
       "      <td>Localiza</td>\n",
       "    </tr>\n",
       "    <tr>\n",
       "      <th>78</th>\n",
       "      <td>CVCB3</td>\n",
       "      <td>1/26/2024</td>\n",
       "      <td>3.07</td>\n",
       "      <td>-4.36</td>\n",
       "      <td>-0.04</td>\n",
       "      <td>3.21</td>\n",
       "      <td>525582771</td>\n",
       "      <td>-73557408.06</td>\n",
       "      <td>Desceu</td>\n",
       "      <td>CVC</td>\n",
       "    </tr>\n",
       "    <tr>\n",
       "      <th>79</th>\n",
       "      <td>GOLL4</td>\n",
       "      <td>1/26/2024</td>\n",
       "      <td>5.92</td>\n",
       "      <td>-8.07</td>\n",
       "      <td>-0.08</td>\n",
       "      <td>6.44</td>\n",
       "      <td>198184909</td>\n",
       "      <td>-102993202.62</td>\n",
       "      <td>Desceu</td>\n",
       "      <td>GOL</td>\n",
       "    </tr>\n",
       "  </tbody>\n",
       "</table>\n",
       "<p>80 rows × 10 columns</p>\n",
       "</div>"
      ],
      "text/plain": [
       "    Ativo       Data  valor_final  var_dia_pct  Var_pct  valor_inicial  \\\n",
       "0   USIM5  1/26/2024         9.50         5.20     0.05           9.03   \n",
       "1   CMIN3  1/26/2024         6.82         2.40     0.02           6.66   \n",
       "2   PETR3  1/26/2024        41.96         2.19     0.02          41.06   \n",
       "3   SUZB3  1/26/2024        52.91         2.04     0.02          51.85   \n",
       "4   CPFE3  1/26/2024        37.10         2.03     0.02          36.36   \n",
       "..    ...        ...          ...          ...      ...            ...   \n",
       "75  CRFB3  1/26/2024        10.71        -2.45    -0.02          10.98   \n",
       "76  BHIA3  1/26/2024         8.70        -2.46    -0.02           8.92   \n",
       "77  RENT3  1/26/2024        56.24        -3.63    -0.04          58.36   \n",
       "78  CVCB3  1/26/2024         3.07        -4.36    -0.04           3.21   \n",
       "79  GOLL4  1/26/2024         5.92        -8.07    -0.08           6.44   \n",
       "\n",
       "    Qtd_teorica  Variacao_reias Resultado              Nome  \n",
       "0     515117391    241889725.43     Subiu          Usiminas  \n",
       "1    1110559345    177515970.30     Subiu     CSN Mineração  \n",
       "2   -2147483648   2140059393.53     Subiu         Petrobras  \n",
       "3     683452836    722946282.71     Subiu            Suzano  \n",
       "4     187732538    138573955.06     Subiu      CPFL Energia  \n",
       "..          ...             ...       ...               ...  \n",
       "75    533990587   -143635530.57    Desceu  Carrefour Brasil  \n",
       "76     94843047    -20810240.84    Desceu       Casas Bahia  \n",
       "77    853202347  -1807432634.46    Desceu          Localiza  \n",
       "78    525582771    -73557408.06    Desceu               CVC  \n",
       "79    198184909   -102993202.62    Desceu               GOL  \n",
       "\n",
       "[80 rows x 10 columns]"
      ]
     },
     "execution_count": 16,
     "metadata": {},
     "output_type": "execute_result"
    }
   ],
   "source": [
    "df_principal = df_principal.merge(df_ticker, left_on = 'Ativo', right_on = 'Ticker', how = 'left')\n",
    "df_principal = df_principal.drop(columns = ['Ticker'])\n",
    "df_principal"
   ]
  },
  {
   "cell_type": "markdown",
   "metadata": {},
   "source": [
    "**Merge**\n",
    "**Drop**\n",
    "**Rename**"
   ]
  },
  {
   "cell_type": "code",
   "execution_count": 17,
   "metadata": {},
   "outputs": [
    {
     "data": {
      "text/html": [
       "<div>\n",
       "<style scoped>\n",
       "    .dataframe tbody tr th:only-of-type {\n",
       "        vertical-align: middle;\n",
       "    }\n",
       "\n",
       "    .dataframe tbody tr th {\n",
       "        vertical-align: top;\n",
       "    }\n",
       "\n",
       "    .dataframe thead th {\n",
       "        text-align: right;\n",
       "    }\n",
       "</style>\n",
       "<table border=\"1\" class=\"dataframe\">\n",
       "  <thead>\n",
       "    <tr style=\"text-align: right;\">\n",
       "      <th></th>\n",
       "      <th>Ativo</th>\n",
       "      <th>Data</th>\n",
       "      <th>valor_final</th>\n",
       "      <th>var_dia_pct</th>\n",
       "      <th>Var_pct</th>\n",
       "      <th>valor_inicial</th>\n",
       "      <th>Qtd_teorica</th>\n",
       "      <th>Variacao_reias</th>\n",
       "      <th>Resultado</th>\n",
       "      <th>Nome</th>\n",
       "      <th>Segmento</th>\n",
       "      <th>Idade_Empresa</th>\n",
       "    </tr>\n",
       "  </thead>\n",
       "  <tbody>\n",
       "    <tr>\n",
       "      <th>0</th>\n",
       "      <td>USIM5</td>\n",
       "      <td>1/26/2024</td>\n",
       "      <td>9.50</td>\n",
       "      <td>5.20</td>\n",
       "      <td>0.05</td>\n",
       "      <td>9.03</td>\n",
       "      <td>515117391</td>\n",
       "      <td>241889725.43</td>\n",
       "      <td>Subiu</td>\n",
       "      <td>Usiminas</td>\n",
       "      <td>Siderurgia</td>\n",
       "      <td>60</td>\n",
       "    </tr>\n",
       "    <tr>\n",
       "      <th>1</th>\n",
       "      <td>CMIN3</td>\n",
       "      <td>1/26/2024</td>\n",
       "      <td>6.82</td>\n",
       "      <td>2.40</td>\n",
       "      <td>0.02</td>\n",
       "      <td>6.66</td>\n",
       "      <td>1110559345</td>\n",
       "      <td>177515970.30</td>\n",
       "      <td>Subiu</td>\n",
       "      <td>CSN Mineração</td>\n",
       "      <td>Mineração</td>\n",
       "      <td>10</td>\n",
       "    </tr>\n",
       "    <tr>\n",
       "      <th>2</th>\n",
       "      <td>PETR3</td>\n",
       "      <td>1/26/2024</td>\n",
       "      <td>41.96</td>\n",
       "      <td>2.19</td>\n",
       "      <td>0.02</td>\n",
       "      <td>41.06</td>\n",
       "      <td>-2147483648</td>\n",
       "      <td>2140059393.53</td>\n",
       "      <td>Subiu</td>\n",
       "      <td>Petrobras</td>\n",
       "      <td>Petróleo e Gás</td>\n",
       "      <td>69</td>\n",
       "    </tr>\n",
       "    <tr>\n",
       "      <th>3</th>\n",
       "      <td>PETR3</td>\n",
       "      <td>1/26/2024</td>\n",
       "      <td>41.96</td>\n",
       "      <td>2.19</td>\n",
       "      <td>0.02</td>\n",
       "      <td>41.06</td>\n",
       "      <td>-2147483648</td>\n",
       "      <td>2140059393.53</td>\n",
       "      <td>Subiu</td>\n",
       "      <td>Petrobras</td>\n",
       "      <td>Petróleo e Gás</td>\n",
       "      <td>69</td>\n",
       "    </tr>\n",
       "    <tr>\n",
       "      <th>4</th>\n",
       "      <td>SUZB3</td>\n",
       "      <td>1/26/2024</td>\n",
       "      <td>52.91</td>\n",
       "      <td>2.04</td>\n",
       "      <td>0.02</td>\n",
       "      <td>51.85</td>\n",
       "      <td>683452836</td>\n",
       "      <td>722946282.71</td>\n",
       "      <td>Subiu</td>\n",
       "      <td>Suzano</td>\n",
       "      <td>Papel e Celulose</td>\n",
       "      <td>98</td>\n",
       "    </tr>\n",
       "    <tr>\n",
       "      <th>...</th>\n",
       "      <td>...</td>\n",
       "      <td>...</td>\n",
       "      <td>...</td>\n",
       "      <td>...</td>\n",
       "      <td>...</td>\n",
       "      <td>...</td>\n",
       "      <td>...</td>\n",
       "      <td>...</td>\n",
       "      <td>...</td>\n",
       "      <td>...</td>\n",
       "      <td>...</td>\n",
       "      <td>...</td>\n",
       "    </tr>\n",
       "    <tr>\n",
       "      <th>79</th>\n",
       "      <td>CRFB3</td>\n",
       "      <td>1/26/2024</td>\n",
       "      <td>10.71</td>\n",
       "      <td>-2.45</td>\n",
       "      <td>-0.02</td>\n",
       "      <td>10.98</td>\n",
       "      <td>533990587</td>\n",
       "      <td>-143635530.57</td>\n",
       "      <td>Desceu</td>\n",
       "      <td>Carrefour Brasil</td>\n",
       "      <td>Varejo</td>\n",
       "      <td>36</td>\n",
       "    </tr>\n",
       "    <tr>\n",
       "      <th>80</th>\n",
       "      <td>BHIA3</td>\n",
       "      <td>1/26/2024</td>\n",
       "      <td>8.70</td>\n",
       "      <td>-2.46</td>\n",
       "      <td>-0.02</td>\n",
       "      <td>8.92</td>\n",
       "      <td>94843047</td>\n",
       "      <td>-20810240.84</td>\n",
       "      <td>Desceu</td>\n",
       "      <td>Casas Bahia</td>\n",
       "      <td>Varejo</td>\n",
       "      <td>70</td>\n",
       "    </tr>\n",
       "    <tr>\n",
       "      <th>81</th>\n",
       "      <td>RENT3</td>\n",
       "      <td>1/26/2024</td>\n",
       "      <td>56.24</td>\n",
       "      <td>-3.63</td>\n",
       "      <td>-0.04</td>\n",
       "      <td>58.36</td>\n",
       "      <td>853202347</td>\n",
       "      <td>-1807432634.46</td>\n",
       "      <td>Desceu</td>\n",
       "      <td>Localiza</td>\n",
       "      <td>Aluguel de Carros</td>\n",
       "      <td>49</td>\n",
       "    </tr>\n",
       "    <tr>\n",
       "      <th>82</th>\n",
       "      <td>CVCB3</td>\n",
       "      <td>1/26/2024</td>\n",
       "      <td>3.07</td>\n",
       "      <td>-4.36</td>\n",
       "      <td>-0.04</td>\n",
       "      <td>3.21</td>\n",
       "      <td>525582771</td>\n",
       "      <td>-73557408.06</td>\n",
       "      <td>Desceu</td>\n",
       "      <td>CVC</td>\n",
       "      <td>Turismo</td>\n",
       "      <td>50</td>\n",
       "    </tr>\n",
       "    <tr>\n",
       "      <th>83</th>\n",
       "      <td>GOLL4</td>\n",
       "      <td>1/26/2024</td>\n",
       "      <td>5.92</td>\n",
       "      <td>-8.07</td>\n",
       "      <td>-0.08</td>\n",
       "      <td>6.44</td>\n",
       "      <td>198184909</td>\n",
       "      <td>-102993202.62</td>\n",
       "      <td>Desceu</td>\n",
       "      <td>GOL</td>\n",
       "      <td>Transporte (Aéreo)</td>\n",
       "      <td>21</td>\n",
       "    </tr>\n",
       "  </tbody>\n",
       "</table>\n",
       "<p>84 rows × 12 columns</p>\n",
       "</div>"
      ],
      "text/plain": [
       "    Ativo       Data  valor_final  var_dia_pct  Var_pct  valor_inicial  \\\n",
       "0   USIM5  1/26/2024         9.50         5.20     0.05           9.03   \n",
       "1   CMIN3  1/26/2024         6.82         2.40     0.02           6.66   \n",
       "2   PETR3  1/26/2024        41.96         2.19     0.02          41.06   \n",
       "3   PETR3  1/26/2024        41.96         2.19     0.02          41.06   \n",
       "4   SUZB3  1/26/2024        52.91         2.04     0.02          51.85   \n",
       "..    ...        ...          ...          ...      ...            ...   \n",
       "79  CRFB3  1/26/2024        10.71        -2.45    -0.02          10.98   \n",
       "80  BHIA3  1/26/2024         8.70        -2.46    -0.02           8.92   \n",
       "81  RENT3  1/26/2024        56.24        -3.63    -0.04          58.36   \n",
       "82  CVCB3  1/26/2024         3.07        -4.36    -0.04           3.21   \n",
       "83  GOLL4  1/26/2024         5.92        -8.07    -0.08           6.44   \n",
       "\n",
       "    Qtd_teorica  Variacao_reias Resultado              Nome  \\\n",
       "0     515117391    241889725.43     Subiu          Usiminas   \n",
       "1    1110559345    177515970.30     Subiu     CSN Mineração   \n",
       "2   -2147483648   2140059393.53     Subiu         Petrobras   \n",
       "3   -2147483648   2140059393.53     Subiu         Petrobras   \n",
       "4     683452836    722946282.71     Subiu            Suzano   \n",
       "..          ...             ...       ...               ...   \n",
       "79    533990587   -143635530.57    Desceu  Carrefour Brasil   \n",
       "80     94843047    -20810240.84    Desceu       Casas Bahia   \n",
       "81    853202347  -1807432634.46    Desceu          Localiza   \n",
       "82    525582771    -73557408.06    Desceu               CVC   \n",
       "83    198184909   -102993202.62    Desceu               GOL   \n",
       "\n",
       "              Segmento  Idade_Empresa  \n",
       "0           Siderurgia             60  \n",
       "1            Mineração             10  \n",
       "2       Petróleo e Gás             69  \n",
       "3       Petróleo e Gás             69  \n",
       "4     Papel e Celulose             98  \n",
       "..                 ...            ...  \n",
       "79              Varejo             36  \n",
       "80              Varejo             70  \n",
       "81   Aluguel de Carros             49  \n",
       "82             Turismo             50  \n",
       "83  Transporte (Aéreo)             21  \n",
       "\n",
       "[84 rows x 12 columns]"
      ]
     },
     "execution_count": 17,
     "metadata": {},
     "output_type": "execute_result"
    }
   ],
   "source": [
    "df_principal = df_principal.merge(df_chatgpt, left_on = 'Nome', right_on = 'Empresa', how = 'left')\n",
    "df_principal = df_principal.drop(columns = ['Empresa'])\n",
    "df_principal = df_principal.rename(columns = {'Idade (anos)' : 'Idade_Empresa'}).copy()\n",
    "df_principal"
   ]
  },
  {
   "cell_type": "markdown",
   "metadata": {},
   "source": [
    "**Nova coluna no DataFrame**\n",
    "\n",
    "Expressão lambda que Categorizando a idade das empresas com base na coluna idade da empresa. "
   ]
  },
  {
   "cell_type": "code",
   "execution_count": 18,
   "metadata": {},
   "outputs": [
    {
     "data": {
      "text/html": [
       "<div>\n",
       "<style scoped>\n",
       "    .dataframe tbody tr th:only-of-type {\n",
       "        vertical-align: middle;\n",
       "    }\n",
       "\n",
       "    .dataframe tbody tr th {\n",
       "        vertical-align: top;\n",
       "    }\n",
       "\n",
       "    .dataframe thead th {\n",
       "        text-align: right;\n",
       "    }\n",
       "</style>\n",
       "<table border=\"1\" class=\"dataframe\">\n",
       "  <thead>\n",
       "    <tr style=\"text-align: right;\">\n",
       "      <th></th>\n",
       "      <th>Ativo</th>\n",
       "      <th>Data</th>\n",
       "      <th>valor_final</th>\n",
       "      <th>var_dia_pct</th>\n",
       "      <th>Var_pct</th>\n",
       "      <th>valor_inicial</th>\n",
       "      <th>Qtd_teorica</th>\n",
       "      <th>Variacao_reias</th>\n",
       "      <th>Resultado</th>\n",
       "      <th>Nome</th>\n",
       "      <th>Segmento</th>\n",
       "      <th>Idade_Empresa</th>\n",
       "      <th>Categoria_Idade</th>\n",
       "    </tr>\n",
       "  </thead>\n",
       "  <tbody>\n",
       "    <tr>\n",
       "      <th>0</th>\n",
       "      <td>USIM5</td>\n",
       "      <td>1/26/2024</td>\n",
       "      <td>9.50</td>\n",
       "      <td>5.20</td>\n",
       "      <td>0.05</td>\n",
       "      <td>9.03</td>\n",
       "      <td>515117391</td>\n",
       "      <td>241889725.43</td>\n",
       "      <td>Subiu</td>\n",
       "      <td>Usiminas</td>\n",
       "      <td>Siderurgia</td>\n",
       "      <td>60</td>\n",
       "      <td>Mais de Cinquenta Anos</td>\n",
       "    </tr>\n",
       "    <tr>\n",
       "      <th>1</th>\n",
       "      <td>CMIN3</td>\n",
       "      <td>1/26/2024</td>\n",
       "      <td>6.82</td>\n",
       "      <td>2.40</td>\n",
       "      <td>0.02</td>\n",
       "      <td>6.66</td>\n",
       "      <td>1110559345</td>\n",
       "      <td>177515970.30</td>\n",
       "      <td>Subiu</td>\n",
       "      <td>CSN Mineração</td>\n",
       "      <td>Mineração</td>\n",
       "      <td>10</td>\n",
       "      <td>Menor que Cinquenta Anos</td>\n",
       "    </tr>\n",
       "    <tr>\n",
       "      <th>2</th>\n",
       "      <td>PETR3</td>\n",
       "      <td>1/26/2024</td>\n",
       "      <td>41.96</td>\n",
       "      <td>2.19</td>\n",
       "      <td>0.02</td>\n",
       "      <td>41.06</td>\n",
       "      <td>-2147483648</td>\n",
       "      <td>2140059393.53</td>\n",
       "      <td>Subiu</td>\n",
       "      <td>Petrobras</td>\n",
       "      <td>Petróleo e Gás</td>\n",
       "      <td>69</td>\n",
       "      <td>Mais de Cinquenta Anos</td>\n",
       "    </tr>\n",
       "    <tr>\n",
       "      <th>3</th>\n",
       "      <td>PETR3</td>\n",
       "      <td>1/26/2024</td>\n",
       "      <td>41.96</td>\n",
       "      <td>2.19</td>\n",
       "      <td>0.02</td>\n",
       "      <td>41.06</td>\n",
       "      <td>-2147483648</td>\n",
       "      <td>2140059393.53</td>\n",
       "      <td>Subiu</td>\n",
       "      <td>Petrobras</td>\n",
       "      <td>Petróleo e Gás</td>\n",
       "      <td>69</td>\n",
       "      <td>Mais de Cinquenta Anos</td>\n",
       "    </tr>\n",
       "    <tr>\n",
       "      <th>4</th>\n",
       "      <td>SUZB3</td>\n",
       "      <td>1/26/2024</td>\n",
       "      <td>52.91</td>\n",
       "      <td>2.04</td>\n",
       "      <td>0.02</td>\n",
       "      <td>51.85</td>\n",
       "      <td>683452836</td>\n",
       "      <td>722946282.71</td>\n",
       "      <td>Subiu</td>\n",
       "      <td>Suzano</td>\n",
       "      <td>Papel e Celulose</td>\n",
       "      <td>98</td>\n",
       "      <td>Mais de Cinquenta Anos</td>\n",
       "    </tr>\n",
       "    <tr>\n",
       "      <th>...</th>\n",
       "      <td>...</td>\n",
       "      <td>...</td>\n",
       "      <td>...</td>\n",
       "      <td>...</td>\n",
       "      <td>...</td>\n",
       "      <td>...</td>\n",
       "      <td>...</td>\n",
       "      <td>...</td>\n",
       "      <td>...</td>\n",
       "      <td>...</td>\n",
       "      <td>...</td>\n",
       "      <td>...</td>\n",
       "      <td>...</td>\n",
       "    </tr>\n",
       "    <tr>\n",
       "      <th>79</th>\n",
       "      <td>CRFB3</td>\n",
       "      <td>1/26/2024</td>\n",
       "      <td>10.71</td>\n",
       "      <td>-2.45</td>\n",
       "      <td>-0.02</td>\n",
       "      <td>10.98</td>\n",
       "      <td>533990587</td>\n",
       "      <td>-143635530.57</td>\n",
       "      <td>Desceu</td>\n",
       "      <td>Carrefour Brasil</td>\n",
       "      <td>Varejo</td>\n",
       "      <td>36</td>\n",
       "      <td>Menor que Cinquenta Anos</td>\n",
       "    </tr>\n",
       "    <tr>\n",
       "      <th>80</th>\n",
       "      <td>BHIA3</td>\n",
       "      <td>1/26/2024</td>\n",
       "      <td>8.70</td>\n",
       "      <td>-2.46</td>\n",
       "      <td>-0.02</td>\n",
       "      <td>8.92</td>\n",
       "      <td>94843047</td>\n",
       "      <td>-20810240.84</td>\n",
       "      <td>Desceu</td>\n",
       "      <td>Casas Bahia</td>\n",
       "      <td>Varejo</td>\n",
       "      <td>70</td>\n",
       "      <td>Mais de Cinquenta Anos</td>\n",
       "    </tr>\n",
       "    <tr>\n",
       "      <th>81</th>\n",
       "      <td>RENT3</td>\n",
       "      <td>1/26/2024</td>\n",
       "      <td>56.24</td>\n",
       "      <td>-3.63</td>\n",
       "      <td>-0.04</td>\n",
       "      <td>58.36</td>\n",
       "      <td>853202347</td>\n",
       "      <td>-1807432634.46</td>\n",
       "      <td>Desceu</td>\n",
       "      <td>Localiza</td>\n",
       "      <td>Aluguel de Carros</td>\n",
       "      <td>49</td>\n",
       "      <td>Menor que Cinquenta Anos</td>\n",
       "    </tr>\n",
       "    <tr>\n",
       "      <th>82</th>\n",
       "      <td>CVCB3</td>\n",
       "      <td>1/26/2024</td>\n",
       "      <td>3.07</td>\n",
       "      <td>-4.36</td>\n",
       "      <td>-0.04</td>\n",
       "      <td>3.21</td>\n",
       "      <td>525582771</td>\n",
       "      <td>-73557408.06</td>\n",
       "      <td>Desceu</td>\n",
       "      <td>CVC</td>\n",
       "      <td>Turismo</td>\n",
       "      <td>50</td>\n",
       "      <td>Menor que Cinquenta Anos</td>\n",
       "    </tr>\n",
       "    <tr>\n",
       "      <th>83</th>\n",
       "      <td>GOLL4</td>\n",
       "      <td>1/26/2024</td>\n",
       "      <td>5.92</td>\n",
       "      <td>-8.07</td>\n",
       "      <td>-0.08</td>\n",
       "      <td>6.44</td>\n",
       "      <td>198184909</td>\n",
       "      <td>-102993202.62</td>\n",
       "      <td>Desceu</td>\n",
       "      <td>GOL</td>\n",
       "      <td>Transporte (Aéreo)</td>\n",
       "      <td>21</td>\n",
       "      <td>Menor que Cinquenta Anos</td>\n",
       "    </tr>\n",
       "  </tbody>\n",
       "</table>\n",
       "<p>84 rows × 13 columns</p>\n",
       "</div>"
      ],
      "text/plain": [
       "    Ativo       Data  valor_final  var_dia_pct  Var_pct  valor_inicial  \\\n",
       "0   USIM5  1/26/2024         9.50         5.20     0.05           9.03   \n",
       "1   CMIN3  1/26/2024         6.82         2.40     0.02           6.66   \n",
       "2   PETR3  1/26/2024        41.96         2.19     0.02          41.06   \n",
       "3   PETR3  1/26/2024        41.96         2.19     0.02          41.06   \n",
       "4   SUZB3  1/26/2024        52.91         2.04     0.02          51.85   \n",
       "..    ...        ...          ...          ...      ...            ...   \n",
       "79  CRFB3  1/26/2024        10.71        -2.45    -0.02          10.98   \n",
       "80  BHIA3  1/26/2024         8.70        -2.46    -0.02           8.92   \n",
       "81  RENT3  1/26/2024        56.24        -3.63    -0.04          58.36   \n",
       "82  CVCB3  1/26/2024         3.07        -4.36    -0.04           3.21   \n",
       "83  GOLL4  1/26/2024         5.92        -8.07    -0.08           6.44   \n",
       "\n",
       "    Qtd_teorica  Variacao_reias Resultado              Nome  \\\n",
       "0     515117391    241889725.43     Subiu          Usiminas   \n",
       "1    1110559345    177515970.30     Subiu     CSN Mineração   \n",
       "2   -2147483648   2140059393.53     Subiu         Petrobras   \n",
       "3   -2147483648   2140059393.53     Subiu         Petrobras   \n",
       "4     683452836    722946282.71     Subiu            Suzano   \n",
       "..          ...             ...       ...               ...   \n",
       "79    533990587   -143635530.57    Desceu  Carrefour Brasil   \n",
       "80     94843047    -20810240.84    Desceu       Casas Bahia   \n",
       "81    853202347  -1807432634.46    Desceu          Localiza   \n",
       "82    525582771    -73557408.06    Desceu               CVC   \n",
       "83    198184909   -102993202.62    Desceu               GOL   \n",
       "\n",
       "              Segmento  Idade_Empresa           Categoria_Idade  \n",
       "0           Siderurgia             60    Mais de Cinquenta Anos  \n",
       "1            Mineração             10  Menor que Cinquenta Anos  \n",
       "2       Petróleo e Gás             69    Mais de Cinquenta Anos  \n",
       "3       Petróleo e Gás             69    Mais de Cinquenta Anos  \n",
       "4     Papel e Celulose             98    Mais de Cinquenta Anos  \n",
       "..                 ...            ...                       ...  \n",
       "79              Varejo             36  Menor que Cinquenta Anos  \n",
       "80              Varejo             70    Mais de Cinquenta Anos  \n",
       "81   Aluguel de Carros             49  Menor que Cinquenta Anos  \n",
       "82             Turismo             50  Menor que Cinquenta Anos  \n",
       "83  Transporte (Aéreo)             21  Menor que Cinquenta Anos  \n",
       "\n",
       "[84 rows x 13 columns]"
      ]
     },
     "execution_count": 18,
     "metadata": {},
     "output_type": "execute_result"
    }
   ],
   "source": [
    "df_principal['Categoria_Idade'] = df_principal['Idade_Empresa'].apply(lambda x: 'Mais de Cem Anos' if x > 100 else ('Mais de Cinquenta Anos' if x > 50 else 'Menor que Cinquenta Anos'))\n",
    "df_principal"
   ]
  },
  {
   "cell_type": "markdown",
   "metadata": {},
   "source": [
    "**Calculo estatístico básico sobre a Variação em reais do DataFrame df_principal**"
   ]
  },
  {
   "cell_type": "code",
   "execution_count": 19,
   "metadata": {},
   "outputs": [
    {
     "name": "stdout",
     "output_type": "stream",
     "text": [
      "Maior Valor de Variação: R$ 4762926995.25\n",
      "Menor Valor de Variação: R$ -1807432634.46\n",
      "Média: R$ 231256738.53\n",
      "Média Se Subiu: R$ 548178425.49\n",
      "Média Se Desceu: R$ -181109141.75\n"
     ]
    }
   ],
   "source": [
    "# Maior Valor de Variação\n",
    "maior_valor = df_principal['Variacao_reias'].max()\n",
    "\n",
    "# Menor Valor de Variação\n",
    "menor_valor = df_principal['Variacao_reias'].min()\n",
    "\n",
    "# Média\n",
    "media = df_principal['Variacao_reias'].mean()\n",
    "\n",
    "# Média Se Subiu\n",
    "media_subiu = df_principal.loc[df_principal['Resultado'] == 'Subiu', 'Variacao_reias'].mean()\n",
    "\n",
    "# Média Se Desceu\n",
    "media_desceu = df_principal.loc[df_principal['Resultado'] == 'Desceu', 'Variacao_reias'].mean()\n",
    "\n",
    "print(f\"Maior Valor de Variação: R$ {maior_valor:.2f}\")\n",
    "print(f\"Menor Valor de Variação: R$ {menor_valor:.2f}\")\n",
    "print(f\"Média: R$ {media:.2f}\")\n",
    "print(f\"Média Se Subiu: R$ {media_subiu:.2f}\")\n",
    "print(f\"Média Se Desceu: R$ {media_desceu:.2f}\")"
   ]
  },
  {
   "cell_type": "markdown",
   "metadata": {},
   "source": [
    "**Formatando estatísticas**"
   ]
  },
  {
   "cell_type": "code",
   "execution_count": 20,
   "metadata": {},
   "outputs": [
    {
     "data": {
      "text/html": [
       "<div>\n",
       "<style scoped>\n",
       "    .dataframe tbody tr th:only-of-type {\n",
       "        vertical-align: middle;\n",
       "    }\n",
       "\n",
       "    .dataframe tbody tr th {\n",
       "        vertical-align: top;\n",
       "    }\n",
       "\n",
       "    .dataframe thead th {\n",
       "        text-align: right;\n",
       "    }\n",
       "</style>\n",
       "<table border=\"1\" class=\"dataframe\">\n",
       "  <thead>\n",
       "    <tr style=\"text-align: right;\">\n",
       "      <th></th>\n",
       "      <th>Estatística</th>\n",
       "      <th>Valor</th>\n",
       "    </tr>\n",
       "  </thead>\n",
       "  <tbody>\n",
       "    <tr>\n",
       "      <th>0</th>\n",
       "      <td>Maior Valor</td>\n",
       "      <td>$4762926995.25</td>\n",
       "    </tr>\n",
       "    <tr>\n",
       "      <th>1</th>\n",
       "      <td>Menor Valor</td>\n",
       "      <td>$-1807432634.46</td>\n",
       "    </tr>\n",
       "    <tr>\n",
       "      <th>2</th>\n",
       "      <td>Média Geral</td>\n",
       "      <td>$231256738.53</td>\n",
       "    </tr>\n",
       "    <tr>\n",
       "      <th>3</th>\n",
       "      <td>Média Se Subiu</td>\n",
       "      <td>$548178425.49</td>\n",
       "    </tr>\n",
       "    <tr>\n",
       "      <th>4</th>\n",
       "      <td>Média Se Desceu</td>\n",
       "      <td>$-181109141.75</td>\n",
       "    </tr>\n",
       "  </tbody>\n",
       "</table>\n",
       "</div>"
      ],
      "text/plain": [
       "       Estatística            Valor\n",
       "0      Maior Valor   $4762926995.25\n",
       "1      Menor Valor  $-1807432634.46\n",
       "2      Média Geral    $231256738.53\n",
       "3   Média Se Subiu    $548178425.49\n",
       "4  Média Se Desceu   $-181109141.75"
      ]
     },
     "metadata": {},
     "output_type": "display_data"
    }
   ],
   "source": [
    "from IPython.display import display\n",
    "\n",
    "# Criando um dicionário\n",
    "data = {\n",
    "    'Estatística': ['Maior Valor', 'Menor Valor', 'Média Geral', 'Média Se Subiu', 'Média Se Desceu'],\n",
    "    'Valor': [maior_valor, menor_valor, media, media_subiu, media_desceu]\n",
    "}\n",
    "\n",
    "# DataFrame a partir do dicionário\n",
    "df_estatisticas = pd.DataFrame(data)\n",
    "\n",
    "# Format dos valores para duas casas decimais\n",
    "df_estatisticas['Valor'] = df_estatisticas['Valor'].map('${:.2f}'.format)\n",
    "\n",
    "# Exibe o DataFrame\n",
    "display(df_estatisticas)"
   ]
  },
  {
   "cell_type": "markdown",
   "metadata": {},
   "source": [
    "**Criando DataFrame que contém apenas as linhas onde o valor do 'Resultado' for 'Subiu'**"
   ]
  },
  {
   "cell_type": "code",
   "execution_count": 21,
   "metadata": {},
   "outputs": [
    {
     "data": {
      "text/html": [
       "<div>\n",
       "<style scoped>\n",
       "    .dataframe tbody tr th:only-of-type {\n",
       "        vertical-align: middle;\n",
       "    }\n",
       "\n",
       "    .dataframe tbody tr th {\n",
       "        vertical-align: top;\n",
       "    }\n",
       "\n",
       "    .dataframe thead th {\n",
       "        text-align: right;\n",
       "    }\n",
       "</style>\n",
       "<table border=\"1\" class=\"dataframe\">\n",
       "  <thead>\n",
       "    <tr style=\"text-align: right;\">\n",
       "      <th></th>\n",
       "      <th>Ativo</th>\n",
       "      <th>Data</th>\n",
       "      <th>valor_final</th>\n",
       "      <th>var_dia_pct</th>\n",
       "      <th>Var_pct</th>\n",
       "      <th>valor_inicial</th>\n",
       "      <th>Qtd_teorica</th>\n",
       "      <th>Variacao_reias</th>\n",
       "      <th>Resultado</th>\n",
       "      <th>Nome</th>\n",
       "      <th>Segmento</th>\n",
       "      <th>Idade_Empresa</th>\n",
       "      <th>Categoria_Idade</th>\n",
       "    </tr>\n",
       "  </thead>\n",
       "  <tbody>\n",
       "    <tr>\n",
       "      <th>0</th>\n",
       "      <td>USIM5</td>\n",
       "      <td>1/26/2024</td>\n",
       "      <td>9.50</td>\n",
       "      <td>5.20</td>\n",
       "      <td>0.05</td>\n",
       "      <td>9.03</td>\n",
       "      <td>515117391</td>\n",
       "      <td>241889725.43</td>\n",
       "      <td>Subiu</td>\n",
       "      <td>Usiminas</td>\n",
       "      <td>Siderurgia</td>\n",
       "      <td>60</td>\n",
       "      <td>Mais de Cinquenta Anos</td>\n",
       "    </tr>\n",
       "    <tr>\n",
       "      <th>1</th>\n",
       "      <td>CMIN3</td>\n",
       "      <td>1/26/2024</td>\n",
       "      <td>6.82</td>\n",
       "      <td>2.40</td>\n",
       "      <td>0.02</td>\n",
       "      <td>6.66</td>\n",
       "      <td>1110559345</td>\n",
       "      <td>177515970.30</td>\n",
       "      <td>Subiu</td>\n",
       "      <td>CSN Mineração</td>\n",
       "      <td>Mineração</td>\n",
       "      <td>10</td>\n",
       "      <td>Menor que Cinquenta Anos</td>\n",
       "    </tr>\n",
       "    <tr>\n",
       "      <th>2</th>\n",
       "      <td>PETR3</td>\n",
       "      <td>1/26/2024</td>\n",
       "      <td>41.96</td>\n",
       "      <td>2.19</td>\n",
       "      <td>0.02</td>\n",
       "      <td>41.06</td>\n",
       "      <td>-2147483648</td>\n",
       "      <td>2140059393.53</td>\n",
       "      <td>Subiu</td>\n",
       "      <td>Petrobras</td>\n",
       "      <td>Petróleo e Gás</td>\n",
       "      <td>69</td>\n",
       "      <td>Mais de Cinquenta Anos</td>\n",
       "    </tr>\n",
       "    <tr>\n",
       "      <th>3</th>\n",
       "      <td>PETR3</td>\n",
       "      <td>1/26/2024</td>\n",
       "      <td>41.96</td>\n",
       "      <td>2.19</td>\n",
       "      <td>0.02</td>\n",
       "      <td>41.06</td>\n",
       "      <td>-2147483648</td>\n",
       "      <td>2140059393.53</td>\n",
       "      <td>Subiu</td>\n",
       "      <td>Petrobras</td>\n",
       "      <td>Petróleo e Gás</td>\n",
       "      <td>69</td>\n",
       "      <td>Mais de Cinquenta Anos</td>\n",
       "    </tr>\n",
       "    <tr>\n",
       "      <th>4</th>\n",
       "      <td>SUZB3</td>\n",
       "      <td>1/26/2024</td>\n",
       "      <td>52.91</td>\n",
       "      <td>2.04</td>\n",
       "      <td>0.02</td>\n",
       "      <td>51.85</td>\n",
       "      <td>683452836</td>\n",
       "      <td>722946282.71</td>\n",
       "      <td>Subiu</td>\n",
       "      <td>Suzano</td>\n",
       "      <td>Papel e Celulose</td>\n",
       "      <td>98</td>\n",
       "      <td>Mais de Cinquenta Anos</td>\n",
       "    </tr>\n",
       "    <tr>\n",
       "      <th>5</th>\n",
       "      <td>CPFE3</td>\n",
       "      <td>1/26/2024</td>\n",
       "      <td>37.10</td>\n",
       "      <td>2.03</td>\n",
       "      <td>0.02</td>\n",
       "      <td>36.36</td>\n",
       "      <td>187732538</td>\n",
       "      <td>138573955.06</td>\n",
       "      <td>Subiu</td>\n",
       "      <td>CPFL Energia</td>\n",
       "      <td>Energia</td>\n",
       "      <td>109</td>\n",
       "      <td>Mais de Cem Anos</td>\n",
       "    </tr>\n",
       "    <tr>\n",
       "      <th>6</th>\n",
       "      <td>PRIO3</td>\n",
       "      <td>1/26/2024</td>\n",
       "      <td>45.69</td>\n",
       "      <td>1.98</td>\n",
       "      <td>0.02</td>\n",
       "      <td>44.80</td>\n",
       "      <td>800010734</td>\n",
       "      <td>709687498.18</td>\n",
       "      <td>Subiu</td>\n",
       "      <td>PetroRio</td>\n",
       "      <td>Petróleo e Gás</td>\n",
       "      <td>12</td>\n",
       "      <td>Menor que Cinquenta Anos</td>\n",
       "    </tr>\n",
       "    <tr>\n",
       "      <th>7</th>\n",
       "      <td>PETR4</td>\n",
       "      <td>1/26/2024</td>\n",
       "      <td>39.96</td>\n",
       "      <td>1.73</td>\n",
       "      <td>0.02</td>\n",
       "      <td>39.28</td>\n",
       "      <td>-2147483648</td>\n",
       "      <td>3103136291.22</td>\n",
       "      <td>Subiu</td>\n",
       "      <td>Petrobras</td>\n",
       "      <td>Petróleo e Gás</td>\n",
       "      <td>69</td>\n",
       "      <td>Mais de Cinquenta Anos</td>\n",
       "    </tr>\n",
       "    <tr>\n",
       "      <th>8</th>\n",
       "      <td>PETR4</td>\n",
       "      <td>1/26/2024</td>\n",
       "      <td>39.96</td>\n",
       "      <td>1.73</td>\n",
       "      <td>0.02</td>\n",
       "      <td>39.28</td>\n",
       "      <td>-2147483648</td>\n",
       "      <td>3103136291.22</td>\n",
       "      <td>Subiu</td>\n",
       "      <td>Petrobras</td>\n",
       "      <td>Petróleo e Gás</td>\n",
       "      <td>69</td>\n",
       "      <td>Mais de Cinquenta Anos</td>\n",
       "    </tr>\n",
       "    <tr>\n",
       "      <th>9</th>\n",
       "      <td>VALE3</td>\n",
       "      <td>1/26/2024</td>\n",
       "      <td>69.50</td>\n",
       "      <td>1.66</td>\n",
       "      <td>0.02</td>\n",
       "      <td>68.37</td>\n",
       "      <td>-2147483648</td>\n",
       "      <td>4762926995.25</td>\n",
       "      <td>Subiu</td>\n",
       "      <td>Vale</td>\n",
       "      <td>Mineração</td>\n",
       "      <td>80</td>\n",
       "      <td>Mais de Cinquenta Anos</td>\n",
       "    </tr>\n",
       "    <tr>\n",
       "      <th>10</th>\n",
       "      <td>MULT3</td>\n",
       "      <td>1/26/2024</td>\n",
       "      <td>28.19</td>\n",
       "      <td>1.58</td>\n",
       "      <td>0.02</td>\n",
       "      <td>27.75</td>\n",
       "      <td>268505432</td>\n",
       "      <td>117732680.08</td>\n",
       "      <td>Subiu</td>\n",
       "      <td>Multiplan</td>\n",
       "      <td>Shopping Centers</td>\n",
       "      <td>47</td>\n",
       "      <td>Menor que Cinquenta Anos</td>\n",
       "    </tr>\n",
       "    <tr>\n",
       "      <th>11</th>\n",
       "      <td>ITUB4</td>\n",
       "      <td>1/26/2024</td>\n",
       "      <td>32.81</td>\n",
       "      <td>1.48</td>\n",
       "      <td>0.01</td>\n",
       "      <td>32.33</td>\n",
       "      <td>-2147483648</td>\n",
       "      <td>2297591984.33</td>\n",
       "      <td>Subiu</td>\n",
       "      <td>Itaú Unibanco</td>\n",
       "      <td>Banco</td>\n",
       "      <td>13</td>\n",
       "      <td>Menor que Cinquenta Anos</td>\n",
       "    </tr>\n",
       "    <tr>\n",
       "      <th>12</th>\n",
       "      <td>RDOR3</td>\n",
       "      <td>1/26/2024</td>\n",
       "      <td>27.56</td>\n",
       "      <td>1.43</td>\n",
       "      <td>0.01</td>\n",
       "      <td>27.17</td>\n",
       "      <td>1168230366</td>\n",
       "      <td>453917907.01</td>\n",
       "      <td>Subiu</td>\n",
       "      <td>Rede D'Or</td>\n",
       "      <td>Saúde</td>\n",
       "      <td>44</td>\n",
       "      <td>Menor que Cinquenta Anos</td>\n",
       "    </tr>\n",
       "    <tr>\n",
       "      <th>13</th>\n",
       "      <td>BRKM5</td>\n",
       "      <td>1/26/2024</td>\n",
       "      <td>18.55</td>\n",
       "      <td>1.42</td>\n",
       "      <td>0.01</td>\n",
       "      <td>18.29</td>\n",
       "      <td>265877867</td>\n",
       "      <td>69054317.64</td>\n",
       "      <td>Subiu</td>\n",
       "      <td>Braskem</td>\n",
       "      <td>Química</td>\n",
       "      <td>19</td>\n",
       "      <td>Menor que Cinquenta Anos</td>\n",
       "    </tr>\n",
       "    <tr>\n",
       "      <th>14</th>\n",
       "      <td>AZUL4</td>\n",
       "      <td>1/26/2024</td>\n",
       "      <td>14.27</td>\n",
       "      <td>1.42</td>\n",
       "      <td>0.01</td>\n",
       "      <td>14.07</td>\n",
       "      <td>327593725</td>\n",
       "      <td>65452205.55</td>\n",
       "      <td>Subiu</td>\n",
       "      <td>Azul</td>\n",
       "      <td>Transporte (Aéreo)</td>\n",
       "      <td>13</td>\n",
       "      <td>Menor que Cinquenta Anos</td>\n",
       "    </tr>\n",
       "    <tr>\n",
       "      <th>15</th>\n",
       "      <td>EQTL3</td>\n",
       "      <td>1/26/2024</td>\n",
       "      <td>35.32</td>\n",
       "      <td>1.34</td>\n",
       "      <td>0.01</td>\n",
       "      <td>34.85</td>\n",
       "      <td>1095587251</td>\n",
       "      <td>511671895.45</td>\n",
       "      <td>Subiu</td>\n",
       "      <td>Equatorial Energia</td>\n",
       "      <td>Energia</td>\n",
       "      <td>24</td>\n",
       "      <td>Menor que Cinquenta Anos</td>\n",
       "    </tr>\n",
       "    <tr>\n",
       "      <th>16</th>\n",
       "      <td>CSNA3</td>\n",
       "      <td>1/26/2024</td>\n",
       "      <td>18.16</td>\n",
       "      <td>1.33</td>\n",
       "      <td>0.01</td>\n",
       "      <td>17.92</td>\n",
       "      <td>600865451</td>\n",
       "      <td>143220991.46</td>\n",
       "      <td>Subiu</td>\n",
       "      <td>Siderúrgica Nacional</td>\n",
       "      <td>Siderurgia</td>\n",
       "      <td>82</td>\n",
       "      <td>Mais de Cinquenta Anos</td>\n",
       "    </tr>\n",
       "    <tr>\n",
       "      <th>17</th>\n",
       "      <td>YDUQ3</td>\n",
       "      <td>1/26/2024</td>\n",
       "      <td>19.77</td>\n",
       "      <td>1.28</td>\n",
       "      <td>0.01</td>\n",
       "      <td>19.52</td>\n",
       "      <td>289347914</td>\n",
       "      <td>72295838.99</td>\n",
       "      <td>Subiu</td>\n",
       "      <td>YDUQS</td>\n",
       "      <td>Educação</td>\n",
       "      <td>58</td>\n",
       "      <td>Mais de Cinquenta Anos</td>\n",
       "    </tr>\n",
       "    <tr>\n",
       "      <th>18</th>\n",
       "      <td>UGPA3</td>\n",
       "      <td>1/26/2024</td>\n",
       "      <td>28.31</td>\n",
       "      <td>1.28</td>\n",
       "      <td>0.01</td>\n",
       "      <td>27.95</td>\n",
       "      <td>1086411192</td>\n",
       "      <td>388705223.96</td>\n",
       "      <td>Subiu</td>\n",
       "      <td>Ultrapar</td>\n",
       "      <td>Química</td>\n",
       "      <td>84</td>\n",
       "      <td>Mais de Cinquenta Anos</td>\n",
       "    </tr>\n",
       "    <tr>\n",
       "      <th>19</th>\n",
       "      <td>MRVE3</td>\n",
       "      <td>1/26/2024</td>\n",
       "      <td>8.08</td>\n",
       "      <td>1.25</td>\n",
       "      <td>0.01</td>\n",
       "      <td>7.98</td>\n",
       "      <td>376187582</td>\n",
       "      <td>37525872.38</td>\n",
       "      <td>Subiu</td>\n",
       "      <td>MRV</td>\n",
       "      <td>Construção Civil</td>\n",
       "      <td>42</td>\n",
       "      <td>Menor que Cinquenta Anos</td>\n",
       "    </tr>\n",
       "    <tr>\n",
       "      <th>20</th>\n",
       "      <td>ARZZ3</td>\n",
       "      <td>1/26/2024</td>\n",
       "      <td>57.91</td>\n",
       "      <td>1.15</td>\n",
       "      <td>0.01</td>\n",
       "      <td>57.25</td>\n",
       "      <td>62305891</td>\n",
       "      <td>41021792.09</td>\n",
       "      <td>Subiu</td>\n",
       "      <td>Arezzo</td>\n",
       "      <td>Calçados</td>\n",
       "      <td>50</td>\n",
       "      <td>Menor que Cinquenta Anos</td>\n",
       "    </tr>\n",
       "    <tr>\n",
       "      <th>21</th>\n",
       "      <td>BBDC4</td>\n",
       "      <td>1/26/2024</td>\n",
       "      <td>15.52</td>\n",
       "      <td>1.04</td>\n",
       "      <td>0.01</td>\n",
       "      <td>15.36</td>\n",
       "      <td>-2147483648</td>\n",
       "      <td>822148336.41</td>\n",
       "      <td>Subiu</td>\n",
       "      <td>Banco Bradesco</td>\n",
       "      <td>Banco</td>\n",
       "      <td>78</td>\n",
       "      <td>Mais de Cinquenta Anos</td>\n",
       "    </tr>\n",
       "    <tr>\n",
       "      <th>22</th>\n",
       "      <td>BBDC4</td>\n",
       "      <td>1/26/2024</td>\n",
       "      <td>15.52</td>\n",
       "      <td>1.04</td>\n",
       "      <td>0.01</td>\n",
       "      <td>15.36</td>\n",
       "      <td>-2147483648</td>\n",
       "      <td>822148336.41</td>\n",
       "      <td>Subiu</td>\n",
       "      <td>Banco Bradesco</td>\n",
       "      <td>Banco</td>\n",
       "      <td>78</td>\n",
       "      <td>Mais de Cinquenta Anos</td>\n",
       "    </tr>\n",
       "    <tr>\n",
       "      <th>23</th>\n",
       "      <td>BEEF3</td>\n",
       "      <td>1/26/2024</td>\n",
       "      <td>7.19</td>\n",
       "      <td>0.98</td>\n",
       "      <td>0.01</td>\n",
       "      <td>7.12</td>\n",
       "      <td>261036182</td>\n",
       "      <td>18214628.10</td>\n",
       "      <td>Subiu</td>\n",
       "      <td>Minerva</td>\n",
       "      <td>Alimentos</td>\n",
       "      <td>30</td>\n",
       "      <td>Menor que Cinquenta Anos</td>\n",
       "    </tr>\n",
       "    <tr>\n",
       "      <th>24</th>\n",
       "      <td>PCAR3</td>\n",
       "      <td>1/26/2024</td>\n",
       "      <td>4.14</td>\n",
       "      <td>0.97</td>\n",
       "      <td>0.01</td>\n",
       "      <td>4.10</td>\n",
       "      <td>159430826</td>\n",
       "      <td>6340916.22</td>\n",
       "      <td>Subiu</td>\n",
       "      <td>Grupo Pão de Açúcar</td>\n",
       "      <td>Varejo</td>\n",
       "      <td>71</td>\n",
       "      <td>Mais de Cinquenta Anos</td>\n",
       "    </tr>\n",
       "    <tr>\n",
       "      <th>25</th>\n",
       "      <td>BRFS3</td>\n",
       "      <td>1/26/2024</td>\n",
       "      <td>14.61</td>\n",
       "      <td>0.96</td>\n",
       "      <td>0.01</td>\n",
       "      <td>14.47</td>\n",
       "      <td>1677525446</td>\n",
       "      <td>233045769.57</td>\n",
       "      <td>Subiu</td>\n",
       "      <td>BRF</td>\n",
       "      <td>Alimentos</td>\n",
       "      <td>84</td>\n",
       "      <td>Mais de Cinquenta Anos</td>\n",
       "    </tr>\n",
       "    <tr>\n",
       "      <th>26</th>\n",
       "      <td>VIVT3</td>\n",
       "      <td>1/26/2024</td>\n",
       "      <td>51.20</td>\n",
       "      <td>0.88</td>\n",
       "      <td>0.01</td>\n",
       "      <td>50.75</td>\n",
       "      <td>423091712</td>\n",
       "      <td>188965307.06</td>\n",
       "      <td>Subiu</td>\n",
       "      <td>Vivo</td>\n",
       "      <td>Telecomunicações</td>\n",
       "      <td>23</td>\n",
       "      <td>Menor que Cinquenta Anos</td>\n",
       "    </tr>\n",
       "    <tr>\n",
       "      <th>27</th>\n",
       "      <td>RAIL3</td>\n",
       "      <td>1/26/2024</td>\n",
       "      <td>22.64</td>\n",
       "      <td>0.84</td>\n",
       "      <td>0.01</td>\n",
       "      <td>22.45</td>\n",
       "      <td>1218352541</td>\n",
       "      <td>229771333.63</td>\n",
       "      <td>Subiu</td>\n",
       "      <td>Rumo</td>\n",
       "      <td>Logística</td>\n",
       "      <td>13</td>\n",
       "      <td>Menor que Cinquenta Anos</td>\n",
       "    </tr>\n",
       "    <tr>\n",
       "      <th>28</th>\n",
       "      <td>CIEL3</td>\n",
       "      <td>1/26/2024</td>\n",
       "      <td>4.90</td>\n",
       "      <td>0.82</td>\n",
       "      <td>0.01</td>\n",
       "      <td>4.86</td>\n",
       "      <td>1095462329</td>\n",
       "      <td>43657683.38</td>\n",
       "      <td>Subiu</td>\n",
       "      <td>Cielo</td>\n",
       "      <td>Meios de Pagamento</td>\n",
       "      <td>24</td>\n",
       "      <td>Menor que Cinquenta Anos</td>\n",
       "    </tr>\n",
       "    <tr>\n",
       "      <th>29</th>\n",
       "      <td>DXCO3</td>\n",
       "      <td>1/26/2024</td>\n",
       "      <td>7.81</td>\n",
       "      <td>0.77</td>\n",
       "      <td>0.01</td>\n",
       "      <td>7.75</td>\n",
       "      <td>302768240</td>\n",
       "      <td>18068446.61</td>\n",
       "      <td>Subiu</td>\n",
       "      <td>Dexco</td>\n",
       "      <td>Serviços Financeiros</td>\n",
       "      <td>3</td>\n",
       "      <td>Menor que Cinquenta Anos</td>\n",
       "    </tr>\n",
       "    <tr>\n",
       "      <th>30</th>\n",
       "      <td>TIMS3</td>\n",
       "      <td>1/26/2024</td>\n",
       "      <td>17.52</td>\n",
       "      <td>0.74</td>\n",
       "      <td>0.01</td>\n",
       "      <td>17.39</td>\n",
       "      <td>807896814</td>\n",
       "      <td>103972807.37</td>\n",
       "      <td>Subiu</td>\n",
       "      <td>TIM</td>\n",
       "      <td>Telecomunicações</td>\n",
       "      <td>25</td>\n",
       "      <td>Menor que Cinquenta Anos</td>\n",
       "    </tr>\n",
       "    <tr>\n",
       "      <th>31</th>\n",
       "      <td>BRAP4</td>\n",
       "      <td>1/26/2024</td>\n",
       "      <td>23.22</td>\n",
       "      <td>0.73</td>\n",
       "      <td>0.01</td>\n",
       "      <td>23.05</td>\n",
       "      <td>251003438</td>\n",
       "      <td>42238249.54</td>\n",
       "      <td>Subiu</td>\n",
       "      <td>Bradespar</td>\n",
       "      <td>Holding</td>\n",
       "      <td>19</td>\n",
       "      <td>Menor que Cinquenta Anos</td>\n",
       "    </tr>\n",
       "    <tr>\n",
       "      <th>32</th>\n",
       "      <td>LWSA3</td>\n",
       "      <td>1/26/2024</td>\n",
       "      <td>5.55</td>\n",
       "      <td>0.72</td>\n",
       "      <td>0.01</td>\n",
       "      <td>5.51</td>\n",
       "      <td>393173139</td>\n",
       "      <td>15598886.65</td>\n",
       "      <td>Subiu</td>\n",
       "      <td>Locaweb</td>\n",
       "      <td>Tecnologia</td>\n",
       "      <td>24</td>\n",
       "      <td>Menor que Cinquenta Anos</td>\n",
       "    </tr>\n",
       "    <tr>\n",
       "      <th>33</th>\n",
       "      <td>RECV3</td>\n",
       "      <td>1/26/2024</td>\n",
       "      <td>23.83</td>\n",
       "      <td>0.71</td>\n",
       "      <td>0.01</td>\n",
       "      <td>23.66</td>\n",
       "      <td>275005663</td>\n",
       "      <td>46201006.00</td>\n",
       "      <td>Subiu</td>\n",
       "      <td>PetroRecôncavo</td>\n",
       "      <td>Petróleo e Gás</td>\n",
       "      <td>11</td>\n",
       "      <td>Menor que Cinquenta Anos</td>\n",
       "    </tr>\n",
       "    <tr>\n",
       "      <th>34</th>\n",
       "      <td>ITSA4</td>\n",
       "      <td>1/26/2024</td>\n",
       "      <td>10.01</td>\n",
       "      <td>0.70</td>\n",
       "      <td>0.01</td>\n",
       "      <td>9.94</td>\n",
       "      <td>-2147483648</td>\n",
       "      <td>373853994.88</td>\n",
       "      <td>Subiu</td>\n",
       "      <td>Itaúsa</td>\n",
       "      <td>Holding</td>\n",
       "      <td>56</td>\n",
       "      <td>Mais de Cinquenta Anos</td>\n",
       "    </tr>\n",
       "    <tr>\n",
       "      <th>35</th>\n",
       "      <td>BBAS3</td>\n",
       "      <td>1/26/2024</td>\n",
       "      <td>56.97</td>\n",
       "      <td>0.68</td>\n",
       "      <td>0.01</td>\n",
       "      <td>56.59</td>\n",
       "      <td>1420949112</td>\n",
       "      <td>546752087.99</td>\n",
       "      <td>Subiu</td>\n",
       "      <td>Banco do Brasil</td>\n",
       "      <td>Banco</td>\n",
       "      <td>213</td>\n",
       "      <td>Mais de Cem Anos</td>\n",
       "    </tr>\n",
       "    <tr>\n",
       "      <th>36</th>\n",
       "      <td>RADL3</td>\n",
       "      <td>1/26/2024</td>\n",
       "      <td>26.16</td>\n",
       "      <td>0.61</td>\n",
       "      <td>0.01</td>\n",
       "      <td>26.00</td>\n",
       "      <td>1275798515</td>\n",
       "      <td>202352473.74</td>\n",
       "      <td>Subiu</td>\n",
       "      <td>RaiaDrogasil</td>\n",
       "      <td>Farmácias e Drogarias</td>\n",
       "      <td>116</td>\n",
       "      <td>Mais de Cem Anos</td>\n",
       "    </tr>\n",
       "    <tr>\n",
       "      <th>37</th>\n",
       "      <td>GOAU4</td>\n",
       "      <td>1/26/2024</td>\n",
       "      <td>10.08</td>\n",
       "      <td>0.59</td>\n",
       "      <td>0.01</td>\n",
       "      <td>10.02</td>\n",
       "      <td>660411219</td>\n",
       "      <td>39045606.94</td>\n",
       "      <td>Subiu</td>\n",
       "      <td>Metalúrgica Gerdau</td>\n",
       "      <td>Siderurgia</td>\n",
       "      <td>120</td>\n",
       "      <td>Mais de Cem Anos</td>\n",
       "    </tr>\n",
       "    <tr>\n",
       "      <th>38</th>\n",
       "      <td>CSAN3</td>\n",
       "      <td>1/26/2024</td>\n",
       "      <td>18.57</td>\n",
       "      <td>0.59</td>\n",
       "      <td>0.01</td>\n",
       "      <td>18.46</td>\n",
       "      <td>1168097881</td>\n",
       "      <td>127229653.18</td>\n",
       "      <td>Subiu</td>\n",
       "      <td>Cosan</td>\n",
       "      <td>Energia</td>\n",
       "      <td>24</td>\n",
       "      <td>Menor que Cinquenta Anos</td>\n",
       "    </tr>\n",
       "    <tr>\n",
       "      <th>39</th>\n",
       "      <td>JBSS3</td>\n",
       "      <td>1/26/2024</td>\n",
       "      <td>24.34</td>\n",
       "      <td>0.57</td>\n",
       "      <td>0.01</td>\n",
       "      <td>24.20</td>\n",
       "      <td>1134986472</td>\n",
       "      <td>156573285.43</td>\n",
       "      <td>Subiu</td>\n",
       "      <td>JBS</td>\n",
       "      <td>Alimentos</td>\n",
       "      <td>68</td>\n",
       "      <td>Mais de Cinquenta Anos</td>\n",
       "    </tr>\n",
       "    <tr>\n",
       "      <th>40</th>\n",
       "      <td>MGLU3</td>\n",
       "      <td>1/26/2024</td>\n",
       "      <td>2.08</td>\n",
       "      <td>0.48</td>\n",
       "      <td>0.00</td>\n",
       "      <td>2.07</td>\n",
       "      <td>-2147483648</td>\n",
       "      <td>28493619.27</td>\n",
       "      <td>Subiu</td>\n",
       "      <td>Magazine Luiza</td>\n",
       "      <td>Varejo</td>\n",
       "      <td>65</td>\n",
       "      <td>Mais de Cinquenta Anos</td>\n",
       "    </tr>\n",
       "    <tr>\n",
       "      <th>41</th>\n",
       "      <td>BBDC3</td>\n",
       "      <td>1/26/2024</td>\n",
       "      <td>13.75</td>\n",
       "      <td>0.36</td>\n",
       "      <td>0.00</td>\n",
       "      <td>13.70</td>\n",
       "      <td>1500728902</td>\n",
       "      <td>74019610.05</td>\n",
       "      <td>Subiu</td>\n",
       "      <td>Banco Bradesco</td>\n",
       "      <td>Banco</td>\n",
       "      <td>78</td>\n",
       "      <td>Mais de Cinquenta Anos</td>\n",
       "    </tr>\n",
       "    <tr>\n",
       "      <th>42</th>\n",
       "      <td>BBDC3</td>\n",
       "      <td>1/26/2024</td>\n",
       "      <td>13.75</td>\n",
       "      <td>0.36</td>\n",
       "      <td>0.00</td>\n",
       "      <td>13.70</td>\n",
       "      <td>1500728902</td>\n",
       "      <td>74019610.05</td>\n",
       "      <td>Subiu</td>\n",
       "      <td>Banco Bradesco</td>\n",
       "      <td>Banco</td>\n",
       "      <td>78</td>\n",
       "      <td>Mais de Cinquenta Anos</td>\n",
       "    </tr>\n",
       "    <tr>\n",
       "      <th>43</th>\n",
       "      <td>GGBR4</td>\n",
       "      <td>1/26/2024</td>\n",
       "      <td>21.84</td>\n",
       "      <td>0.27</td>\n",
       "      <td>0.00</td>\n",
       "      <td>21.78</td>\n",
       "      <td>1118525506</td>\n",
       "      <td>65779607.10</td>\n",
       "      <td>Subiu</td>\n",
       "      <td>Gerdau</td>\n",
       "      <td>Siderurgia</td>\n",
       "      <td>120</td>\n",
       "      <td>Mais de Cem Anos</td>\n",
       "    </tr>\n",
       "    <tr>\n",
       "      <th>44</th>\n",
       "      <td>RAIZ4</td>\n",
       "      <td>1/26/2024</td>\n",
       "      <td>3.74</td>\n",
       "      <td>0.26</td>\n",
       "      <td>0.00</td>\n",
       "      <td>3.73</td>\n",
       "      <td>1193047233</td>\n",
       "      <td>11571106.42</td>\n",
       "      <td>Subiu</td>\n",
       "      <td>Raízen</td>\n",
       "      <td>Energia</td>\n",
       "      <td>10</td>\n",
       "      <td>Menor que Cinquenta Anos</td>\n",
       "    </tr>\n",
       "    <tr>\n",
       "      <th>45</th>\n",
       "      <td>CPLE6</td>\n",
       "      <td>1/26/2024</td>\n",
       "      <td>10.07</td>\n",
       "      <td>0.19</td>\n",
       "      <td>0.00</td>\n",
       "      <td>10.05</td>\n",
       "      <td>1679335290</td>\n",
       "      <td>32069789.50</td>\n",
       "      <td>Subiu</td>\n",
       "      <td>Copel</td>\n",
       "      <td>Energia</td>\n",
       "      <td>67</td>\n",
       "      <td>Mais de Cinquenta Anos</td>\n",
       "    </tr>\n",
       "    <tr>\n",
       "      <th>46</th>\n",
       "      <td>VAMO3</td>\n",
       "      <td>1/26/2024</td>\n",
       "      <td>8.18</td>\n",
       "      <td>0.12</td>\n",
       "      <td>0.00</td>\n",
       "      <td>8.17</td>\n",
       "      <td>421383330</td>\n",
       "      <td>4131341.16</td>\n",
       "      <td>Subiu</td>\n",
       "      <td>Grupo Vamos</td>\n",
       "      <td>Locação de Veículos</td>\n",
       "      <td>7</td>\n",
       "      <td>Menor que Cinquenta Anos</td>\n",
       "    </tr>\n",
       "  </tbody>\n",
       "</table>\n",
       "</div>"
      ],
      "text/plain": [
       "    Ativo       Data  valor_final  var_dia_pct  Var_pct  valor_inicial  \\\n",
       "0   USIM5  1/26/2024         9.50         5.20     0.05           9.03   \n",
       "1   CMIN3  1/26/2024         6.82         2.40     0.02           6.66   \n",
       "2   PETR3  1/26/2024        41.96         2.19     0.02          41.06   \n",
       "3   PETR3  1/26/2024        41.96         2.19     0.02          41.06   \n",
       "4   SUZB3  1/26/2024        52.91         2.04     0.02          51.85   \n",
       "5   CPFE3  1/26/2024        37.10         2.03     0.02          36.36   \n",
       "6   PRIO3  1/26/2024        45.69         1.98     0.02          44.80   \n",
       "7   PETR4  1/26/2024        39.96         1.73     0.02          39.28   \n",
       "8   PETR4  1/26/2024        39.96         1.73     0.02          39.28   \n",
       "9   VALE3  1/26/2024        69.50         1.66     0.02          68.37   \n",
       "10  MULT3  1/26/2024        28.19         1.58     0.02          27.75   \n",
       "11  ITUB4  1/26/2024        32.81         1.48     0.01          32.33   \n",
       "12  RDOR3  1/26/2024        27.56         1.43     0.01          27.17   \n",
       "13  BRKM5  1/26/2024        18.55         1.42     0.01          18.29   \n",
       "14  AZUL4  1/26/2024        14.27         1.42     0.01          14.07   \n",
       "15  EQTL3  1/26/2024        35.32         1.34     0.01          34.85   \n",
       "16  CSNA3  1/26/2024        18.16         1.33     0.01          17.92   \n",
       "17  YDUQ3  1/26/2024        19.77         1.28     0.01          19.52   \n",
       "18  UGPA3  1/26/2024        28.31         1.28     0.01          27.95   \n",
       "19  MRVE3  1/26/2024         8.08         1.25     0.01           7.98   \n",
       "20  ARZZ3  1/26/2024        57.91         1.15     0.01          57.25   \n",
       "21  BBDC4  1/26/2024        15.52         1.04     0.01          15.36   \n",
       "22  BBDC4  1/26/2024        15.52         1.04     0.01          15.36   \n",
       "23  BEEF3  1/26/2024         7.19         0.98     0.01           7.12   \n",
       "24  PCAR3  1/26/2024         4.14         0.97     0.01           4.10   \n",
       "25  BRFS3  1/26/2024        14.61         0.96     0.01          14.47   \n",
       "26  VIVT3  1/26/2024        51.20         0.88     0.01          50.75   \n",
       "27  RAIL3  1/26/2024        22.64         0.84     0.01          22.45   \n",
       "28  CIEL3  1/26/2024         4.90         0.82     0.01           4.86   \n",
       "29  DXCO3  1/26/2024         7.81         0.77     0.01           7.75   \n",
       "30  TIMS3  1/26/2024        17.52         0.74     0.01          17.39   \n",
       "31  BRAP4  1/26/2024        23.22         0.73     0.01          23.05   \n",
       "32  LWSA3  1/26/2024         5.55         0.72     0.01           5.51   \n",
       "33  RECV3  1/26/2024        23.83         0.71     0.01          23.66   \n",
       "34  ITSA4  1/26/2024        10.01         0.70     0.01           9.94   \n",
       "35  BBAS3  1/26/2024        56.97         0.68     0.01          56.59   \n",
       "36  RADL3  1/26/2024        26.16         0.61     0.01          26.00   \n",
       "37  GOAU4  1/26/2024        10.08         0.59     0.01          10.02   \n",
       "38  CSAN3  1/26/2024        18.57         0.59     0.01          18.46   \n",
       "39  JBSS3  1/26/2024        24.34         0.57     0.01          24.20   \n",
       "40  MGLU3  1/26/2024         2.08         0.48     0.00           2.07   \n",
       "41  BBDC3  1/26/2024        13.75         0.36     0.00          13.70   \n",
       "42  BBDC3  1/26/2024        13.75         0.36     0.00          13.70   \n",
       "43  GGBR4  1/26/2024        21.84         0.27     0.00          21.78   \n",
       "44  RAIZ4  1/26/2024         3.74         0.26     0.00           3.73   \n",
       "45  CPLE6  1/26/2024        10.07         0.19     0.00          10.05   \n",
       "46  VAMO3  1/26/2024         8.18         0.12     0.00           8.17   \n",
       "\n",
       "    Qtd_teorica  Variacao_reias Resultado                  Nome  \\\n",
       "0     515117391    241889725.43     Subiu              Usiminas   \n",
       "1    1110559345    177515970.30     Subiu         CSN Mineração   \n",
       "2   -2147483648   2140059393.53     Subiu             Petrobras   \n",
       "3   -2147483648   2140059393.53     Subiu             Petrobras   \n",
       "4     683452836    722946282.71     Subiu                Suzano   \n",
       "5     187732538    138573955.06     Subiu          CPFL Energia   \n",
       "6     800010734    709687498.18     Subiu              PetroRio   \n",
       "7   -2147483648   3103136291.22     Subiu             Petrobras   \n",
       "8   -2147483648   3103136291.22     Subiu             Petrobras   \n",
       "9   -2147483648   4762926995.25     Subiu                  Vale   \n",
       "10    268505432    117732680.08     Subiu             Multiplan   \n",
       "11  -2147483648   2297591984.33     Subiu         Itaú Unibanco   \n",
       "12   1168230366    453917907.01     Subiu             Rede D'Or   \n",
       "13    265877867     69054317.64     Subiu               Braskem   \n",
       "14    327593725     65452205.55     Subiu                  Azul   \n",
       "15   1095587251    511671895.45     Subiu    Equatorial Energia   \n",
       "16    600865451    143220991.46     Subiu  Siderúrgica Nacional   \n",
       "17    289347914     72295838.99     Subiu                 YDUQS   \n",
       "18   1086411192    388705223.96     Subiu              Ultrapar   \n",
       "19    376187582     37525872.38     Subiu                   MRV   \n",
       "20     62305891     41021792.09     Subiu                Arezzo   \n",
       "21  -2147483648    822148336.41     Subiu        Banco Bradesco   \n",
       "22  -2147483648    822148336.41     Subiu        Banco Bradesco   \n",
       "23    261036182     18214628.10     Subiu               Minerva   \n",
       "24    159430826      6340916.22     Subiu   Grupo Pão de Açúcar   \n",
       "25   1677525446    233045769.57     Subiu                   BRF   \n",
       "26    423091712    188965307.06     Subiu                  Vivo   \n",
       "27   1218352541    229771333.63     Subiu                  Rumo   \n",
       "28   1095462329     43657683.38     Subiu                 Cielo   \n",
       "29    302768240     18068446.61     Subiu                 Dexco   \n",
       "30    807896814    103972807.37     Subiu                   TIM   \n",
       "31    251003438     42238249.54     Subiu             Bradespar   \n",
       "32    393173139     15598886.65     Subiu               Locaweb   \n",
       "33    275005663     46201006.00     Subiu        PetroRecôncavo   \n",
       "34  -2147483648    373853994.88     Subiu                Itaúsa   \n",
       "35   1420949112    546752087.99     Subiu       Banco do Brasil   \n",
       "36   1275798515    202352473.74     Subiu          RaiaDrogasil   \n",
       "37    660411219     39045606.94     Subiu    Metalúrgica Gerdau   \n",
       "38   1168097881    127229653.18     Subiu                 Cosan   \n",
       "39   1134986472    156573285.43     Subiu                   JBS   \n",
       "40  -2147483648     28493619.27     Subiu        Magazine Luiza   \n",
       "41   1500728902     74019610.05     Subiu        Banco Bradesco   \n",
       "42   1500728902     74019610.05     Subiu        Banco Bradesco   \n",
       "43   1118525506     65779607.10     Subiu                Gerdau   \n",
       "44   1193047233     11571106.42     Subiu                Raízen   \n",
       "45   1679335290     32069789.50     Subiu                 Copel   \n",
       "46    421383330      4131341.16     Subiu           Grupo Vamos   \n",
       "\n",
       "                 Segmento  Idade_Empresa           Categoria_Idade  \n",
       "0              Siderurgia             60    Mais de Cinquenta Anos  \n",
       "1               Mineração             10  Menor que Cinquenta Anos  \n",
       "2          Petróleo e Gás             69    Mais de Cinquenta Anos  \n",
       "3          Petróleo e Gás             69    Mais de Cinquenta Anos  \n",
       "4        Papel e Celulose             98    Mais de Cinquenta Anos  \n",
       "5                 Energia            109          Mais de Cem Anos  \n",
       "6          Petróleo e Gás             12  Menor que Cinquenta Anos  \n",
       "7          Petróleo e Gás             69    Mais de Cinquenta Anos  \n",
       "8          Petróleo e Gás             69    Mais de Cinquenta Anos  \n",
       "9               Mineração             80    Mais de Cinquenta Anos  \n",
       "10       Shopping Centers             47  Menor que Cinquenta Anos  \n",
       "11                  Banco             13  Menor que Cinquenta Anos  \n",
       "12                  Saúde             44  Menor que Cinquenta Anos  \n",
       "13                Química             19  Menor que Cinquenta Anos  \n",
       "14     Transporte (Aéreo)             13  Menor que Cinquenta Anos  \n",
       "15                Energia             24  Menor que Cinquenta Anos  \n",
       "16             Siderurgia             82    Mais de Cinquenta Anos  \n",
       "17               Educação             58    Mais de Cinquenta Anos  \n",
       "18                Química             84    Mais de Cinquenta Anos  \n",
       "19       Construção Civil             42  Menor que Cinquenta Anos  \n",
       "20               Calçados             50  Menor que Cinquenta Anos  \n",
       "21                  Banco             78    Mais de Cinquenta Anos  \n",
       "22                  Banco             78    Mais de Cinquenta Anos  \n",
       "23              Alimentos             30  Menor que Cinquenta Anos  \n",
       "24                 Varejo             71    Mais de Cinquenta Anos  \n",
       "25              Alimentos             84    Mais de Cinquenta Anos  \n",
       "26       Telecomunicações             23  Menor que Cinquenta Anos  \n",
       "27              Logística             13  Menor que Cinquenta Anos  \n",
       "28     Meios de Pagamento             24  Menor que Cinquenta Anos  \n",
       "29   Serviços Financeiros              3  Menor que Cinquenta Anos  \n",
       "30       Telecomunicações             25  Menor que Cinquenta Anos  \n",
       "31                Holding             19  Menor que Cinquenta Anos  \n",
       "32             Tecnologia             24  Menor que Cinquenta Anos  \n",
       "33         Petróleo e Gás             11  Menor que Cinquenta Anos  \n",
       "34                Holding             56    Mais de Cinquenta Anos  \n",
       "35                  Banco            213          Mais de Cem Anos  \n",
       "36  Farmácias e Drogarias            116          Mais de Cem Anos  \n",
       "37             Siderurgia            120          Mais de Cem Anos  \n",
       "38                Energia             24  Menor que Cinquenta Anos  \n",
       "39              Alimentos             68    Mais de Cinquenta Anos  \n",
       "40                 Varejo             65    Mais de Cinquenta Anos  \n",
       "41                  Banco             78    Mais de Cinquenta Anos  \n",
       "42                  Banco             78    Mais de Cinquenta Anos  \n",
       "43             Siderurgia            120          Mais de Cem Anos  \n",
       "44                Energia             10  Menor que Cinquenta Anos  \n",
       "45                Energia             67    Mais de Cinquenta Anos  \n",
       "46    Locação de Veículos              7  Menor que Cinquenta Anos  "
      ]
     },
     "execution_count": 21,
     "metadata": {},
     "output_type": "execute_result"
    }
   ],
   "source": [
    "df_principal_subiu = df_principal.loc[df_principal['Resultado'] == 'Subiu']\n",
    "df_principal_subiu"
   ]
  },
  {
   "cell_type": "markdown",
   "metadata": {},
   "source": [
    "**Criando DataFrame que contém apenas as linhas onde o valor do 'Resultado' for 'Desceu'**"
   ]
  },
  {
   "cell_type": "code",
   "execution_count": 22,
   "metadata": {},
   "outputs": [
    {
     "data": {
      "text/html": [
       "<div>\n",
       "<style scoped>\n",
       "    .dataframe tbody tr th:only-of-type {\n",
       "        vertical-align: middle;\n",
       "    }\n",
       "\n",
       "    .dataframe tbody tr th {\n",
       "        vertical-align: top;\n",
       "    }\n",
       "\n",
       "    .dataframe thead th {\n",
       "        text-align: right;\n",
       "    }\n",
       "</style>\n",
       "<table border=\"1\" class=\"dataframe\">\n",
       "  <thead>\n",
       "    <tr style=\"text-align: right;\">\n",
       "      <th></th>\n",
       "      <th>Ativo</th>\n",
       "      <th>Data</th>\n",
       "      <th>valor_final</th>\n",
       "      <th>var_dia_pct</th>\n",
       "      <th>Var_pct</th>\n",
       "      <th>valor_inicial</th>\n",
       "      <th>Qtd_teorica</th>\n",
       "      <th>Variacao_reias</th>\n",
       "      <th>Resultado</th>\n",
       "      <th>Nome</th>\n",
       "      <th>Segmento</th>\n",
       "      <th>Idade_Empresa</th>\n",
       "      <th>Categoria_Idade</th>\n",
       "    </tr>\n",
       "  </thead>\n",
       "  <tbody>\n",
       "    <tr>\n",
       "      <th>49</th>\n",
       "      <td>BBSE3</td>\n",
       "      <td>1/26/2024</td>\n",
       "      <td>33.73</td>\n",
       "      <td>-0.02</td>\n",
       "      <td>-0.00</td>\n",
       "      <td>33.74</td>\n",
       "      <td>671750768</td>\n",
       "      <td>-4532537.19</td>\n",
       "      <td>Desceu</td>\n",
       "      <td>BB Seguridade</td>\n",
       "      <td>Seguros</td>\n",
       "      <td>7</td>\n",
       "      <td>Menor que Cinquenta Anos</td>\n",
       "    </tr>\n",
       "    <tr>\n",
       "      <th>50</th>\n",
       "      <td>SBSP3</td>\n",
       "      <td>1/26/2024</td>\n",
       "      <td>77.04</td>\n",
       "      <td>-0.06</td>\n",
       "      <td>-0.00</td>\n",
       "      <td>77.09</td>\n",
       "      <td>340001799</td>\n",
       "      <td>-15725678.56</td>\n",
       "      <td>Desceu</td>\n",
       "      <td>Sabesp</td>\n",
       "      <td>Saneamento</td>\n",
       "      <td>48</td>\n",
       "      <td>Menor que Cinquenta Anos</td>\n",
       "    </tr>\n",
       "    <tr>\n",
       "      <th>51</th>\n",
       "      <td>TOTS3</td>\n",
       "      <td>1/26/2024</td>\n",
       "      <td>30.88</td>\n",
       "      <td>-0.06</td>\n",
       "      <td>-0.00</td>\n",
       "      <td>30.90</td>\n",
       "      <td>514122351</td>\n",
       "      <td>-9531377.75</td>\n",
       "      <td>Desceu</td>\n",
       "      <td>Totvs</td>\n",
       "      <td>Tecnologia</td>\n",
       "      <td>40</td>\n",
       "      <td>Menor que Cinquenta Anos</td>\n",
       "    </tr>\n",
       "    <tr>\n",
       "      <th>52</th>\n",
       "      <td>CMIG4</td>\n",
       "      <td>1/26/2024</td>\n",
       "      <td>11.64</td>\n",
       "      <td>-0.17</td>\n",
       "      <td>-0.00</td>\n",
       "      <td>11.66</td>\n",
       "      <td>1437415777</td>\n",
       "      <td>-28492019.83</td>\n",
       "      <td>Desceu</td>\n",
       "      <td>CEMIG</td>\n",
       "      <td>Energia</td>\n",
       "      <td>69</td>\n",
       "      <td>Mais de Cinquenta Anos</td>\n",
       "    </tr>\n",
       "    <tr>\n",
       "      <th>53</th>\n",
       "      <td>ELET6</td>\n",
       "      <td>1/26/2024</td>\n",
       "      <td>46.04</td>\n",
       "      <td>-0.19</td>\n",
       "      <td>-0.00</td>\n",
       "      <td>46.13</td>\n",
       "      <td>268544014</td>\n",
       "      <td>-23535874.33</td>\n",
       "      <td>Desceu</td>\n",
       "      <td>Eletrobras</td>\n",
       "      <td>Energia</td>\n",
       "      <td>58</td>\n",
       "      <td>Mais de Cinquenta Anos</td>\n",
       "    </tr>\n",
       "    <tr>\n",
       "      <th>54</th>\n",
       "      <td>ENEV3</td>\n",
       "      <td>1/26/2024</td>\n",
       "      <td>12.87</td>\n",
       "      <td>-0.23</td>\n",
       "      <td>-0.00</td>\n",
       "      <td>12.90</td>\n",
       "      <td>1579130168</td>\n",
       "      <td>-46851590.76</td>\n",
       "      <td>Desceu</td>\n",
       "      <td>Eneva</td>\n",
       "      <td>Energia</td>\n",
       "      <td>10</td>\n",
       "      <td>Menor que Cinquenta Anos</td>\n",
       "    </tr>\n",
       "    <tr>\n",
       "      <th>55</th>\n",
       "      <td>WEGE3</td>\n",
       "      <td>1/26/2024</td>\n",
       "      <td>33.17</td>\n",
       "      <td>-0.24</td>\n",
       "      <td>-0.00</td>\n",
       "      <td>33.25</td>\n",
       "      <td>1481593024</td>\n",
       "      <td>-118230410.44</td>\n",
       "      <td>Desceu</td>\n",
       "      <td>WEG</td>\n",
       "      <td>Equipamentos Elétricos</td>\n",
       "      <td>60</td>\n",
       "      <td>Mais de Cinquenta Anos</td>\n",
       "    </tr>\n",
       "    <tr>\n",
       "      <th>56</th>\n",
       "      <td>SLCE3</td>\n",
       "      <td>1/26/2024</td>\n",
       "      <td>19.30</td>\n",
       "      <td>-0.25</td>\n",
       "      <td>-0.00</td>\n",
       "      <td>19.35</td>\n",
       "      <td>195751130</td>\n",
       "      <td>-9468663.68</td>\n",
       "      <td>Desceu</td>\n",
       "      <td>SLC Agrícola</td>\n",
       "      <td>Agronegócio</td>\n",
       "      <td>45</td>\n",
       "      <td>Menor que Cinquenta Anos</td>\n",
       "    </tr>\n",
       "    <tr>\n",
       "      <th>57</th>\n",
       "      <td>ALOS3</td>\n",
       "      <td>1/26/2024</td>\n",
       "      <td>24.62</td>\n",
       "      <td>-0.28</td>\n",
       "      <td>-0.00</td>\n",
       "      <td>24.69</td>\n",
       "      <td>532616595</td>\n",
       "      <td>-36819552.34</td>\n",
       "      <td>Desceu</td>\n",
       "      <td>ALOS3</td>\n",
       "      <td>Locação de Imóveis</td>\n",
       "      <td>5</td>\n",
       "      <td>Menor que Cinquenta Anos</td>\n",
       "    </tr>\n",
       "    <tr>\n",
       "      <th>58</th>\n",
       "      <td>CCRO3</td>\n",
       "      <td>1/26/2024</td>\n",
       "      <td>13.27</td>\n",
       "      <td>-0.30</td>\n",
       "      <td>-0.00</td>\n",
       "      <td>13.31</td>\n",
       "      <td>995335937</td>\n",
       "      <td>-39743554.31</td>\n",
       "      <td>Desceu</td>\n",
       "      <td>Grupo CCR</td>\n",
       "      <td>Infraestrutura</td>\n",
       "      <td>24</td>\n",
       "      <td>Menor que Cinquenta Anos</td>\n",
       "    </tr>\n",
       "    <tr>\n",
       "      <th>59</th>\n",
       "      <td>COGN3</td>\n",
       "      <td>1/26/2024</td>\n",
       "      <td>3.03</td>\n",
       "      <td>-0.32</td>\n",
       "      <td>-0.00</td>\n",
       "      <td>3.04</td>\n",
       "      <td>1814920980</td>\n",
       "      <td>-17653966.51</td>\n",
       "      <td>Desceu</td>\n",
       "      <td>Cogna</td>\n",
       "      <td>Educação</td>\n",
       "      <td>54</td>\n",
       "      <td>Mais de Cinquenta Anos</td>\n",
       "    </tr>\n",
       "    <tr>\n",
       "      <th>60</th>\n",
       "      <td>TRPL4</td>\n",
       "      <td>1/26/2024</td>\n",
       "      <td>26.12</td>\n",
       "      <td>-0.41</td>\n",
       "      <td>-0.00</td>\n",
       "      <td>26.23</td>\n",
       "      <td>395801044</td>\n",
       "      <td>-42561628.08</td>\n",
       "      <td>Desceu</td>\n",
       "      <td>Transmissão Paulista</td>\n",
       "      <td>Energia</td>\n",
       "      <td>24</td>\n",
       "      <td>Menor que Cinquenta Anos</td>\n",
       "    </tr>\n",
       "    <tr>\n",
       "      <th>61</th>\n",
       "      <td>EGIE3</td>\n",
       "      <td>1/26/2024</td>\n",
       "      <td>41.04</td>\n",
       "      <td>-0.46</td>\n",
       "      <td>-0.00</td>\n",
       "      <td>41.23</td>\n",
       "      <td>255236961</td>\n",
       "      <td>-48407328.15</td>\n",
       "      <td>Desceu</td>\n",
       "      <td>Engie</td>\n",
       "      <td>Energia</td>\n",
       "      <td>30</td>\n",
       "      <td>Menor que Cinquenta Anos</td>\n",
       "    </tr>\n",
       "    <tr>\n",
       "      <th>62</th>\n",
       "      <td>VBBR3</td>\n",
       "      <td>1/26/2024</td>\n",
       "      <td>23.23</td>\n",
       "      <td>-0.47</td>\n",
       "      <td>-0.00</td>\n",
       "      <td>23.34</td>\n",
       "      <td>1114412532</td>\n",
       "      <td>-122247236.67</td>\n",
       "      <td>Desceu</td>\n",
       "      <td>Vibra Energia</td>\n",
       "      <td>Energia</td>\n",
       "      <td>5</td>\n",
       "      <td>Menor que Cinquenta Anos</td>\n",
       "    </tr>\n",
       "    <tr>\n",
       "      <th>63</th>\n",
       "      <td>IRBR3</td>\n",
       "      <td>1/26/2024</td>\n",
       "      <td>40.65</td>\n",
       "      <td>-0.65</td>\n",
       "      <td>-0.01</td>\n",
       "      <td>40.92</td>\n",
       "      <td>81838843</td>\n",
       "      <td>-21765343.02</td>\n",
       "      <td>Desceu</td>\n",
       "      <td>IRB Brasil RE</td>\n",
       "      <td>Seguros</td>\n",
       "      <td>83</td>\n",
       "      <td>Mais de Cinquenta Anos</td>\n",
       "    </tr>\n",
       "    <tr>\n",
       "      <th>64</th>\n",
       "      <td>ELET3</td>\n",
       "      <td>1/26/2024</td>\n",
       "      <td>40.86</td>\n",
       "      <td>-0.65</td>\n",
       "      <td>-0.01</td>\n",
       "      <td>41.13</td>\n",
       "      <td>1980568384</td>\n",
       "      <td>-529460651.34</td>\n",
       "      <td>Desceu</td>\n",
       "      <td>Eletrobras</td>\n",
       "      <td>Energia</td>\n",
       "      <td>58</td>\n",
       "      <td>Mais de Cinquenta Anos</td>\n",
       "    </tr>\n",
       "    <tr>\n",
       "      <th>65</th>\n",
       "      <td>PETZ3</td>\n",
       "      <td>1/26/2024</td>\n",
       "      <td>3.40</td>\n",
       "      <td>-0.87</td>\n",
       "      <td>-0.01</td>\n",
       "      <td>3.43</td>\n",
       "      <td>309729428</td>\n",
       "      <td>-9242203.65</td>\n",
       "      <td>Desceu</td>\n",
       "      <td>Petz</td>\n",
       "      <td>Pet Shop</td>\n",
       "      <td>8</td>\n",
       "      <td>Menor que Cinquenta Anos</td>\n",
       "    </tr>\n",
       "    <tr>\n",
       "      <th>66</th>\n",
       "      <td>EZTC3</td>\n",
       "      <td>1/26/2024</td>\n",
       "      <td>15.91</td>\n",
       "      <td>-0.93</td>\n",
       "      <td>-0.01</td>\n",
       "      <td>16.06</td>\n",
       "      <td>91514307</td>\n",
       "      <td>-13667842.34</td>\n",
       "      <td>Desceu</td>\n",
       "      <td>EZTEC</td>\n",
       "      <td>Construção Civil</td>\n",
       "      <td>42</td>\n",
       "      <td>Menor que Cinquenta Anos</td>\n",
       "    </tr>\n",
       "    <tr>\n",
       "      <th>67</th>\n",
       "      <td>FLRY3</td>\n",
       "      <td>1/26/2024</td>\n",
       "      <td>16.49</td>\n",
       "      <td>-1.07</td>\n",
       "      <td>-0.01</td>\n",
       "      <td>16.67</td>\n",
       "      <td>240822651</td>\n",
       "      <td>-42951047.22</td>\n",
       "      <td>Desceu</td>\n",
       "      <td>Fleury</td>\n",
       "      <td>Saúde</td>\n",
       "      <td>94</td>\n",
       "      <td>Mais de Cinquenta Anos</td>\n",
       "    </tr>\n",
       "    <tr>\n",
       "      <th>68</th>\n",
       "      <td>SOMA3</td>\n",
       "      <td>1/26/2024</td>\n",
       "      <td>6.95</td>\n",
       "      <td>-1.27</td>\n",
       "      <td>-0.01</td>\n",
       "      <td>7.04</td>\n",
       "      <td>496029967</td>\n",
       "      <td>-44345269.97</td>\n",
       "      <td>Desceu</td>\n",
       "      <td>Grupo Soma</td>\n",
       "      <td>Confecção</td>\n",
       "      <td>52</td>\n",
       "      <td>Mais de Cinquenta Anos</td>\n",
       "    </tr>\n",
       "    <tr>\n",
       "      <th>69</th>\n",
       "      <td>ALPA4</td>\n",
       "      <td>1/26/2024</td>\n",
       "      <td>8.67</td>\n",
       "      <td>-1.36</td>\n",
       "      <td>-0.01</td>\n",
       "      <td>8.79</td>\n",
       "      <td>176733968</td>\n",
       "      <td>-21126374.33</td>\n",
       "      <td>Desceu</td>\n",
       "      <td>Alpargatas</td>\n",
       "      <td>Calçados</td>\n",
       "      <td>113</td>\n",
       "      <td>Mais de Cem Anos</td>\n",
       "    </tr>\n",
       "    <tr>\n",
       "      <th>70</th>\n",
       "      <td>CYRE3</td>\n",
       "      <td>1/26/2024</td>\n",
       "      <td>22.84</td>\n",
       "      <td>-1.38</td>\n",
       "      <td>-0.01</td>\n",
       "      <td>23.16</td>\n",
       "      <td>265784616</td>\n",
       "      <td>-84945431.64</td>\n",
       "      <td>Desceu</td>\n",
       "      <td>Cyrela</td>\n",
       "      <td>Construção Civil</td>\n",
       "      <td>58</td>\n",
       "      <td>Mais de Cinquenta Anos</td>\n",
       "    </tr>\n",
       "    <tr>\n",
       "      <th>71</th>\n",
       "      <td>EMBR3</td>\n",
       "      <td>1/26/2024</td>\n",
       "      <td>22.40</td>\n",
       "      <td>-1.40</td>\n",
       "      <td>-0.01</td>\n",
       "      <td>22.72</td>\n",
       "      <td>734632705</td>\n",
       "      <td>-233651943.50</td>\n",
       "      <td>Desceu</td>\n",
       "      <td>Embraer</td>\n",
       "      <td>Aviação</td>\n",
       "      <td>53</td>\n",
       "      <td>Mais de Cinquenta Anos</td>\n",
       "    </tr>\n",
       "    <tr>\n",
       "      <th>72</th>\n",
       "      <td>NTCO3</td>\n",
       "      <td>1/26/2024</td>\n",
       "      <td>15.97</td>\n",
       "      <td>-1.41</td>\n",
       "      <td>-0.01</td>\n",
       "      <td>16.20</td>\n",
       "      <td>846244302</td>\n",
       "      <td>-193280001.21</td>\n",
       "      <td>Desceu</td>\n",
       "      <td>Natura</td>\n",
       "      <td>Cosméticos</td>\n",
       "      <td>55</td>\n",
       "      <td>Mais de Cinquenta Anos</td>\n",
       "    </tr>\n",
       "    <tr>\n",
       "      <th>73</th>\n",
       "      <td>ASAI3</td>\n",
       "      <td>1/26/2024</td>\n",
       "      <td>13.80</td>\n",
       "      <td>-1.42</td>\n",
       "      <td>-0.01</td>\n",
       "      <td>14.00</td>\n",
       "      <td>1349217892</td>\n",
       "      <td>-268201195.09</td>\n",
       "      <td>Desceu</td>\n",
       "      <td>Assaí</td>\n",
       "      <td>Varejo</td>\n",
       "      <td>11</td>\n",
       "      <td>Menor que Cinquenta Anos</td>\n",
       "    </tr>\n",
       "    <tr>\n",
       "      <th>74</th>\n",
       "      <td>B3SA3</td>\n",
       "      <td>1/26/2024</td>\n",
       "      <td>13.22</td>\n",
       "      <td>-1.56</td>\n",
       "      <td>-0.02</td>\n",
       "      <td>13.43</td>\n",
       "      <td>-2147483648</td>\n",
       "      <td>-1173785666.36</td>\n",
       "      <td>Desceu</td>\n",
       "      <td>B3</td>\n",
       "      <td>Serviços Financeiros</td>\n",
       "      <td>128</td>\n",
       "      <td>Mais de Cem Anos</td>\n",
       "    </tr>\n",
       "    <tr>\n",
       "      <th>75</th>\n",
       "      <td>HYPE3</td>\n",
       "      <td>1/26/2024</td>\n",
       "      <td>31.08</td>\n",
       "      <td>-1.61</td>\n",
       "      <td>-0.02</td>\n",
       "      <td>31.59</td>\n",
       "      <td>409490388</td>\n",
       "      <td>-208257014.20</td>\n",
       "      <td>Desceu</td>\n",
       "      <td>Hypera</td>\n",
       "      <td>Farmacêutico</td>\n",
       "      <td>20</td>\n",
       "      <td>Menor que Cinquenta Anos</td>\n",
       "    </tr>\n",
       "    <tr>\n",
       "      <th>76</th>\n",
       "      <td>SMTO3</td>\n",
       "      <td>1/26/2024</td>\n",
       "      <td>28.20</td>\n",
       "      <td>-1.94</td>\n",
       "      <td>-0.02</td>\n",
       "      <td>28.76</td>\n",
       "      <td>142377330</td>\n",
       "      <td>-79432785.74</td>\n",
       "      <td>Desceu</td>\n",
       "      <td>São Martinho</td>\n",
       "      <td>Agronegócio</td>\n",
       "      <td>85</td>\n",
       "      <td>Mais de Cinquenta Anos</td>\n",
       "    </tr>\n",
       "    <tr>\n",
       "      <th>77</th>\n",
       "      <td>HAPV3</td>\n",
       "      <td>1/26/2024</td>\n",
       "      <td>3.93</td>\n",
       "      <td>-1.99</td>\n",
       "      <td>-0.02</td>\n",
       "      <td>4.01</td>\n",
       "      <td>-2147483648</td>\n",
       "      <td>-350645389.91</td>\n",
       "      <td>Desceu</td>\n",
       "      <td>Hapvida</td>\n",
       "      <td>Saúde</td>\n",
       "      <td>44</td>\n",
       "      <td>Menor que Cinquenta Anos</td>\n",
       "    </tr>\n",
       "    <tr>\n",
       "      <th>78</th>\n",
       "      <td>LREN3</td>\n",
       "      <td>1/26/2024</td>\n",
       "      <td>15.78</td>\n",
       "      <td>-2.29</td>\n",
       "      <td>-0.02</td>\n",
       "      <td>16.15</td>\n",
       "      <td>951329770</td>\n",
       "      <td>-351831366.64</td>\n",
       "      <td>Desceu</td>\n",
       "      <td>Lojas Renner</td>\n",
       "      <td>Varejo</td>\n",
       "      <td>60</td>\n",
       "      <td>Mais de Cinquenta Anos</td>\n",
       "    </tr>\n",
       "    <tr>\n",
       "      <th>79</th>\n",
       "      <td>CRFB3</td>\n",
       "      <td>1/26/2024</td>\n",
       "      <td>10.71</td>\n",
       "      <td>-2.45</td>\n",
       "      <td>-0.02</td>\n",
       "      <td>10.98</td>\n",
       "      <td>533990587</td>\n",
       "      <td>-143635530.57</td>\n",
       "      <td>Desceu</td>\n",
       "      <td>Carrefour Brasil</td>\n",
       "      <td>Varejo</td>\n",
       "      <td>36</td>\n",
       "      <td>Menor que Cinquenta Anos</td>\n",
       "    </tr>\n",
       "    <tr>\n",
       "      <th>80</th>\n",
       "      <td>BHIA3</td>\n",
       "      <td>1/26/2024</td>\n",
       "      <td>8.70</td>\n",
       "      <td>-2.46</td>\n",
       "      <td>-0.02</td>\n",
       "      <td>8.92</td>\n",
       "      <td>94843047</td>\n",
       "      <td>-20810240.84</td>\n",
       "      <td>Desceu</td>\n",
       "      <td>Casas Bahia</td>\n",
       "      <td>Varejo</td>\n",
       "      <td>70</td>\n",
       "      <td>Mais de Cinquenta Anos</td>\n",
       "    </tr>\n",
       "    <tr>\n",
       "      <th>81</th>\n",
       "      <td>RENT3</td>\n",
       "      <td>1/26/2024</td>\n",
       "      <td>56.24</td>\n",
       "      <td>-3.63</td>\n",
       "      <td>-0.04</td>\n",
       "      <td>58.36</td>\n",
       "      <td>853202347</td>\n",
       "      <td>-1807432634.46</td>\n",
       "      <td>Desceu</td>\n",
       "      <td>Localiza</td>\n",
       "      <td>Aluguel de Carros</td>\n",
       "      <td>49</td>\n",
       "      <td>Menor que Cinquenta Anos</td>\n",
       "    </tr>\n",
       "    <tr>\n",
       "      <th>82</th>\n",
       "      <td>CVCB3</td>\n",
       "      <td>1/26/2024</td>\n",
       "      <td>3.07</td>\n",
       "      <td>-4.36</td>\n",
       "      <td>-0.04</td>\n",
       "      <td>3.21</td>\n",
       "      <td>525582771</td>\n",
       "      <td>-73557408.06</td>\n",
       "      <td>Desceu</td>\n",
       "      <td>CVC</td>\n",
       "      <td>Turismo</td>\n",
       "      <td>50</td>\n",
       "      <td>Menor que Cinquenta Anos</td>\n",
       "    </tr>\n",
       "    <tr>\n",
       "      <th>83</th>\n",
       "      <td>GOLL4</td>\n",
       "      <td>1/26/2024</td>\n",
       "      <td>5.92</td>\n",
       "      <td>-8.07</td>\n",
       "      <td>-0.08</td>\n",
       "      <td>6.44</td>\n",
       "      <td>198184909</td>\n",
       "      <td>-102993202.62</td>\n",
       "      <td>Desceu</td>\n",
       "      <td>GOL</td>\n",
       "      <td>Transporte (Aéreo)</td>\n",
       "      <td>21</td>\n",
       "      <td>Menor que Cinquenta Anos</td>\n",
       "    </tr>\n",
       "  </tbody>\n",
       "</table>\n",
       "</div>"
      ],
      "text/plain": [
       "    Ativo       Data  valor_final  var_dia_pct  Var_pct  valor_inicial  \\\n",
       "49  BBSE3  1/26/2024        33.73        -0.02    -0.00          33.74   \n",
       "50  SBSP3  1/26/2024        77.04        -0.06    -0.00          77.09   \n",
       "51  TOTS3  1/26/2024        30.88        -0.06    -0.00          30.90   \n",
       "52  CMIG4  1/26/2024        11.64        -0.17    -0.00          11.66   \n",
       "53  ELET6  1/26/2024        46.04        -0.19    -0.00          46.13   \n",
       "54  ENEV3  1/26/2024        12.87        -0.23    -0.00          12.90   \n",
       "55  WEGE3  1/26/2024        33.17        -0.24    -0.00          33.25   \n",
       "56  SLCE3  1/26/2024        19.30        -0.25    -0.00          19.35   \n",
       "57  ALOS3  1/26/2024        24.62        -0.28    -0.00          24.69   \n",
       "58  CCRO3  1/26/2024        13.27        -0.30    -0.00          13.31   \n",
       "59  COGN3  1/26/2024         3.03        -0.32    -0.00           3.04   \n",
       "60  TRPL4  1/26/2024        26.12        -0.41    -0.00          26.23   \n",
       "61  EGIE3  1/26/2024        41.04        -0.46    -0.00          41.23   \n",
       "62  VBBR3  1/26/2024        23.23        -0.47    -0.00          23.34   \n",
       "63  IRBR3  1/26/2024        40.65        -0.65    -0.01          40.92   \n",
       "64  ELET3  1/26/2024        40.86        -0.65    -0.01          41.13   \n",
       "65  PETZ3  1/26/2024         3.40        -0.87    -0.01           3.43   \n",
       "66  EZTC3  1/26/2024        15.91        -0.93    -0.01          16.06   \n",
       "67  FLRY3  1/26/2024        16.49        -1.07    -0.01          16.67   \n",
       "68  SOMA3  1/26/2024         6.95        -1.27    -0.01           7.04   \n",
       "69  ALPA4  1/26/2024         8.67        -1.36    -0.01           8.79   \n",
       "70  CYRE3  1/26/2024        22.84        -1.38    -0.01          23.16   \n",
       "71  EMBR3  1/26/2024        22.40        -1.40    -0.01          22.72   \n",
       "72  NTCO3  1/26/2024        15.97        -1.41    -0.01          16.20   \n",
       "73  ASAI3  1/26/2024        13.80        -1.42    -0.01          14.00   \n",
       "74  B3SA3  1/26/2024        13.22        -1.56    -0.02          13.43   \n",
       "75  HYPE3  1/26/2024        31.08        -1.61    -0.02          31.59   \n",
       "76  SMTO3  1/26/2024        28.20        -1.94    -0.02          28.76   \n",
       "77  HAPV3  1/26/2024         3.93        -1.99    -0.02           4.01   \n",
       "78  LREN3  1/26/2024        15.78        -2.29    -0.02          16.15   \n",
       "79  CRFB3  1/26/2024        10.71        -2.45    -0.02          10.98   \n",
       "80  BHIA3  1/26/2024         8.70        -2.46    -0.02           8.92   \n",
       "81  RENT3  1/26/2024        56.24        -3.63    -0.04          58.36   \n",
       "82  CVCB3  1/26/2024         3.07        -4.36    -0.04           3.21   \n",
       "83  GOLL4  1/26/2024         5.92        -8.07    -0.08           6.44   \n",
       "\n",
       "    Qtd_teorica  Variacao_reias Resultado                  Nome  \\\n",
       "49    671750768     -4532537.19    Desceu         BB Seguridade   \n",
       "50    340001799    -15725678.56    Desceu                Sabesp   \n",
       "51    514122351     -9531377.75    Desceu                 Totvs   \n",
       "52   1437415777    -28492019.83    Desceu                 CEMIG   \n",
       "53    268544014    -23535874.33    Desceu            Eletrobras   \n",
       "54   1579130168    -46851590.76    Desceu                 Eneva   \n",
       "55   1481593024   -118230410.44    Desceu                   WEG   \n",
       "56    195751130     -9468663.68    Desceu          SLC Agrícola   \n",
       "57    532616595    -36819552.34    Desceu                 ALOS3   \n",
       "58    995335937    -39743554.31    Desceu             Grupo CCR   \n",
       "59   1814920980    -17653966.51    Desceu                 Cogna   \n",
       "60    395801044    -42561628.08    Desceu  Transmissão Paulista   \n",
       "61    255236961    -48407328.15    Desceu                 Engie   \n",
       "62   1114412532   -122247236.67    Desceu         Vibra Energia   \n",
       "63     81838843    -21765343.02    Desceu         IRB Brasil RE   \n",
       "64   1980568384   -529460651.34    Desceu            Eletrobras   \n",
       "65    309729428     -9242203.65    Desceu                  Petz   \n",
       "66     91514307    -13667842.34    Desceu                 EZTEC   \n",
       "67    240822651    -42951047.22    Desceu                Fleury   \n",
       "68    496029967    -44345269.97    Desceu            Grupo Soma   \n",
       "69    176733968    -21126374.33    Desceu            Alpargatas   \n",
       "70    265784616    -84945431.64    Desceu                Cyrela   \n",
       "71    734632705   -233651943.50    Desceu               Embraer   \n",
       "72    846244302   -193280001.21    Desceu                Natura   \n",
       "73   1349217892   -268201195.09    Desceu                 Assaí   \n",
       "74  -2147483648  -1173785666.36    Desceu                    B3   \n",
       "75    409490388   -208257014.20    Desceu                Hypera   \n",
       "76    142377330    -79432785.74    Desceu          São Martinho   \n",
       "77  -2147483648   -350645389.91    Desceu               Hapvida   \n",
       "78    951329770   -351831366.64    Desceu          Lojas Renner   \n",
       "79    533990587   -143635530.57    Desceu      Carrefour Brasil   \n",
       "80     94843047    -20810240.84    Desceu           Casas Bahia   \n",
       "81    853202347  -1807432634.46    Desceu              Localiza   \n",
       "82    525582771    -73557408.06    Desceu                   CVC   \n",
       "83    198184909   -102993202.62    Desceu                   GOL   \n",
       "\n",
       "                  Segmento  Idade_Empresa           Categoria_Idade  \n",
       "49                 Seguros              7  Menor que Cinquenta Anos  \n",
       "50              Saneamento             48  Menor que Cinquenta Anos  \n",
       "51              Tecnologia             40  Menor que Cinquenta Anos  \n",
       "52                 Energia             69    Mais de Cinquenta Anos  \n",
       "53                 Energia             58    Mais de Cinquenta Anos  \n",
       "54                 Energia             10  Menor que Cinquenta Anos  \n",
       "55  Equipamentos Elétricos             60    Mais de Cinquenta Anos  \n",
       "56             Agronegócio             45  Menor que Cinquenta Anos  \n",
       "57      Locação de Imóveis              5  Menor que Cinquenta Anos  \n",
       "58          Infraestrutura             24  Menor que Cinquenta Anos  \n",
       "59                Educação             54    Mais de Cinquenta Anos  \n",
       "60                 Energia             24  Menor que Cinquenta Anos  \n",
       "61                 Energia             30  Menor que Cinquenta Anos  \n",
       "62                 Energia              5  Menor que Cinquenta Anos  \n",
       "63                 Seguros             83    Mais de Cinquenta Anos  \n",
       "64                 Energia             58    Mais de Cinquenta Anos  \n",
       "65                Pet Shop              8  Menor que Cinquenta Anos  \n",
       "66        Construção Civil             42  Menor que Cinquenta Anos  \n",
       "67                   Saúde             94    Mais de Cinquenta Anos  \n",
       "68               Confecção             52    Mais de Cinquenta Anos  \n",
       "69                Calçados            113          Mais de Cem Anos  \n",
       "70        Construção Civil             58    Mais de Cinquenta Anos  \n",
       "71                 Aviação             53    Mais de Cinquenta Anos  \n",
       "72              Cosméticos             55    Mais de Cinquenta Anos  \n",
       "73                  Varejo             11  Menor que Cinquenta Anos  \n",
       "74    Serviços Financeiros            128          Mais de Cem Anos  \n",
       "75            Farmacêutico             20  Menor que Cinquenta Anos  \n",
       "76             Agronegócio             85    Mais de Cinquenta Anos  \n",
       "77                   Saúde             44  Menor que Cinquenta Anos  \n",
       "78                  Varejo             60    Mais de Cinquenta Anos  \n",
       "79                  Varejo             36  Menor que Cinquenta Anos  \n",
       "80                  Varejo             70    Mais de Cinquenta Anos  \n",
       "81       Aluguel de Carros             49  Menor que Cinquenta Anos  \n",
       "82                 Turismo             50  Menor que Cinquenta Anos  \n",
       "83      Transporte (Aéreo)             21  Menor que Cinquenta Anos  "
      ]
     },
     "execution_count": 22,
     "metadata": {},
     "output_type": "execute_result"
    }
   ],
   "source": [
    "df_principal_desceu = df_principal.loc[df_principal['Resultado'] == 'Desceu']\n",
    "df_principal_desceu"
   ]
  },
  {
   "cell_type": "markdown",
   "metadata": {},
   "source": [
    "**DataFrame que contém a soma da variação em reais com um group by 'Segmento'**\n",
    "\n",
    "Calculo do DataFrame subiu "
   ]
  },
  {
   "cell_type": "code",
   "execution_count": 23,
   "metadata": {},
   "outputs": [
    {
     "data": {
      "text/html": [
       "<div>\n",
       "<style scoped>\n",
       "    .dataframe tbody tr th:only-of-type {\n",
       "        vertical-align: middle;\n",
       "    }\n",
       "\n",
       "    .dataframe tbody tr th {\n",
       "        vertical-align: top;\n",
       "    }\n",
       "\n",
       "    .dataframe thead th {\n",
       "        text-align: right;\n",
       "    }\n",
       "</style>\n",
       "<table border=\"1\" class=\"dataframe\">\n",
       "  <thead>\n",
       "    <tr style=\"text-align: right;\">\n",
       "      <th></th>\n",
       "      <th>Segmento</th>\n",
       "      <th>Variacao_reias</th>\n",
       "    </tr>\n",
       "  </thead>\n",
       "  <tbody>\n",
       "    <tr>\n",
       "      <th>0</th>\n",
       "      <td>Alimentos</td>\n",
       "      <td>407833683.09</td>\n",
       "    </tr>\n",
       "    <tr>\n",
       "      <th>1</th>\n",
       "      <td>Banco</td>\n",
       "      <td>4636679965.25</td>\n",
       "    </tr>\n",
       "    <tr>\n",
       "      <th>2</th>\n",
       "      <td>Calçados</td>\n",
       "      <td>41021792.09</td>\n",
       "    </tr>\n",
       "    <tr>\n",
       "      <th>3</th>\n",
       "      <td>Construção Civil</td>\n",
       "      <td>37525872.38</td>\n",
       "    </tr>\n",
       "    <tr>\n",
       "      <th>4</th>\n",
       "      <td>Educação</td>\n",
       "      <td>72295838.99</td>\n",
       "    </tr>\n",
       "    <tr>\n",
       "      <th>5</th>\n",
       "      <td>Energia</td>\n",
       "      <td>821116399.61</td>\n",
       "    </tr>\n",
       "    <tr>\n",
       "      <th>6</th>\n",
       "      <td>Farmácias e Drogarias</td>\n",
       "      <td>202352473.74</td>\n",
       "    </tr>\n",
       "    <tr>\n",
       "      <th>7</th>\n",
       "      <td>Holding</td>\n",
       "      <td>416092244.42</td>\n",
       "    </tr>\n",
       "    <tr>\n",
       "      <th>8</th>\n",
       "      <td>Locação de Veículos</td>\n",
       "      <td>4131341.16</td>\n",
       "    </tr>\n",
       "    <tr>\n",
       "      <th>9</th>\n",
       "      <td>Logística</td>\n",
       "      <td>229771333.63</td>\n",
       "    </tr>\n",
       "    <tr>\n",
       "      <th>10</th>\n",
       "      <td>Meios de Pagamento</td>\n",
       "      <td>43657683.38</td>\n",
       "    </tr>\n",
       "    <tr>\n",
       "      <th>11</th>\n",
       "      <td>Mineração</td>\n",
       "      <td>4940442965.55</td>\n",
       "    </tr>\n",
       "    <tr>\n",
       "      <th>12</th>\n",
       "      <td>Papel e Celulose</td>\n",
       "      <td>722946282.71</td>\n",
       "    </tr>\n",
       "    <tr>\n",
       "      <th>13</th>\n",
       "      <td>Petróleo e Gás</td>\n",
       "      <td>11242279873.66</td>\n",
       "    </tr>\n",
       "    <tr>\n",
       "      <th>14</th>\n",
       "      <td>Química</td>\n",
       "      <td>457759541.59</td>\n",
       "    </tr>\n",
       "    <tr>\n",
       "      <th>15</th>\n",
       "      <td>Saúde</td>\n",
       "      <td>453917907.01</td>\n",
       "    </tr>\n",
       "    <tr>\n",
       "      <th>16</th>\n",
       "      <td>Serviços Financeiros</td>\n",
       "      <td>18068446.61</td>\n",
       "    </tr>\n",
       "    <tr>\n",
       "      <th>17</th>\n",
       "      <td>Shopping Centers</td>\n",
       "      <td>117732680.08</td>\n",
       "    </tr>\n",
       "    <tr>\n",
       "      <th>18</th>\n",
       "      <td>Siderurgia</td>\n",
       "      <td>489935930.93</td>\n",
       "    </tr>\n",
       "    <tr>\n",
       "      <th>19</th>\n",
       "      <td>Tecnologia</td>\n",
       "      <td>15598886.65</td>\n",
       "    </tr>\n",
       "    <tr>\n",
       "      <th>20</th>\n",
       "      <td>Telecomunicações</td>\n",
       "      <td>292938114.42</td>\n",
       "    </tr>\n",
       "    <tr>\n",
       "      <th>21</th>\n",
       "      <td>Transporte (Aéreo)</td>\n",
       "      <td>65452205.55</td>\n",
       "    </tr>\n",
       "    <tr>\n",
       "      <th>22</th>\n",
       "      <td>Varejo</td>\n",
       "      <td>34834535.50</td>\n",
       "    </tr>\n",
       "  </tbody>\n",
       "</table>\n",
       "</div>"
      ],
      "text/plain": [
       "                 Segmento  Variacao_reias\n",
       "0               Alimentos    407833683.09\n",
       "1                   Banco   4636679965.25\n",
       "2                Calçados     41021792.09\n",
       "3        Construção Civil     37525872.38\n",
       "4                Educação     72295838.99\n",
       "5                 Energia    821116399.61\n",
       "6   Farmácias e Drogarias    202352473.74\n",
       "7                 Holding    416092244.42\n",
       "8     Locação de Veículos      4131341.16\n",
       "9               Logística    229771333.63\n",
       "10     Meios de Pagamento     43657683.38\n",
       "11              Mineração   4940442965.55\n",
       "12       Papel e Celulose    722946282.71\n",
       "13         Petróleo e Gás  11242279873.66\n",
       "14                Química    457759541.59\n",
       "15                  Saúde    453917907.01\n",
       "16   Serviços Financeiros     18068446.61\n",
       "17       Shopping Centers    117732680.08\n",
       "18             Siderurgia    489935930.93\n",
       "19             Tecnologia     15598886.65\n",
       "20       Telecomunicações    292938114.42\n",
       "21     Transporte (Aéreo)     65452205.55\n",
       "22                 Varejo     34834535.50"
      ]
     },
     "execution_count": 23,
     "metadata": {},
     "output_type": "execute_result"
    }
   ],
   "source": [
    "df_analise_segmento_subiu = df_principal_subiu.groupby('Segmento')['Variacao_reias'].sum().reset_index()\n",
    "df_analise_segmento_subiu"
   ]
  },
  {
   "cell_type": "code",
   "execution_count": 24,
   "metadata": {},
   "outputs": [
    {
     "data": {
      "text/html": [
       "<div>\n",
       "<style scoped>\n",
       "    .dataframe tbody tr th:only-of-type {\n",
       "        vertical-align: middle;\n",
       "    }\n",
       "\n",
       "    .dataframe tbody tr th {\n",
       "        vertical-align: top;\n",
       "    }\n",
       "\n",
       "    .dataframe thead th {\n",
       "        text-align: right;\n",
       "    }\n",
       "</style>\n",
       "<table border=\"1\" class=\"dataframe\">\n",
       "  <thead>\n",
       "    <tr style=\"text-align: right;\">\n",
       "      <th></th>\n",
       "      <th>Segmento</th>\n",
       "      <th>Variacao_reias</th>\n",
       "    </tr>\n",
       "  </thead>\n",
       "  <tbody>\n",
       "    <tr>\n",
       "      <th>0</th>\n",
       "      <td>Agronegócio</td>\n",
       "      <td>-88901449.42</td>\n",
       "    </tr>\n",
       "    <tr>\n",
       "      <th>1</th>\n",
       "      <td>Aluguel de Carros</td>\n",
       "      <td>-1807432634.46</td>\n",
       "    </tr>\n",
       "    <tr>\n",
       "      <th>2</th>\n",
       "      <td>Aviação</td>\n",
       "      <td>-233651943.50</td>\n",
       "    </tr>\n",
       "    <tr>\n",
       "      <th>3</th>\n",
       "      <td>Calçados</td>\n",
       "      <td>-21126374.33</td>\n",
       "    </tr>\n",
       "    <tr>\n",
       "      <th>4</th>\n",
       "      <td>Confecção</td>\n",
       "      <td>-44345269.97</td>\n",
       "    </tr>\n",
       "    <tr>\n",
       "      <th>5</th>\n",
       "      <td>Construção Civil</td>\n",
       "      <td>-98613273.98</td>\n",
       "    </tr>\n",
       "    <tr>\n",
       "      <th>6</th>\n",
       "      <td>Cosméticos</td>\n",
       "      <td>-193280001.21</td>\n",
       "    </tr>\n",
       "    <tr>\n",
       "      <th>7</th>\n",
       "      <td>Educação</td>\n",
       "      <td>-17653966.51</td>\n",
       "    </tr>\n",
       "    <tr>\n",
       "      <th>8</th>\n",
       "      <td>Energia</td>\n",
       "      <td>-841556329.16</td>\n",
       "    </tr>\n",
       "    <tr>\n",
       "      <th>9</th>\n",
       "      <td>Equipamentos Elétricos</td>\n",
       "      <td>-118230410.44</td>\n",
       "    </tr>\n",
       "    <tr>\n",
       "      <th>10</th>\n",
       "      <td>Farmacêutico</td>\n",
       "      <td>-208257014.20</td>\n",
       "    </tr>\n",
       "    <tr>\n",
       "      <th>11</th>\n",
       "      <td>Infraestrutura</td>\n",
       "      <td>-39743554.31</td>\n",
       "    </tr>\n",
       "    <tr>\n",
       "      <th>12</th>\n",
       "      <td>Locação de Imóveis</td>\n",
       "      <td>-36819552.34</td>\n",
       "    </tr>\n",
       "    <tr>\n",
       "      <th>13</th>\n",
       "      <td>Pet Shop</td>\n",
       "      <td>-9242203.65</td>\n",
       "    </tr>\n",
       "    <tr>\n",
       "      <th>14</th>\n",
       "      <td>Saneamento</td>\n",
       "      <td>-15725678.56</td>\n",
       "    </tr>\n",
       "    <tr>\n",
       "      <th>15</th>\n",
       "      <td>Saúde</td>\n",
       "      <td>-393596437.13</td>\n",
       "    </tr>\n",
       "    <tr>\n",
       "      <th>16</th>\n",
       "      <td>Seguros</td>\n",
       "      <td>-26297880.21</td>\n",
       "    </tr>\n",
       "    <tr>\n",
       "      <th>17</th>\n",
       "      <td>Serviços Financeiros</td>\n",
       "      <td>-1173785666.36</td>\n",
       "    </tr>\n",
       "    <tr>\n",
       "      <th>18</th>\n",
       "      <td>Tecnologia</td>\n",
       "      <td>-9531377.75</td>\n",
       "    </tr>\n",
       "    <tr>\n",
       "      <th>19</th>\n",
       "      <td>Transporte (Aéreo)</td>\n",
       "      <td>-102993202.62</td>\n",
       "    </tr>\n",
       "    <tr>\n",
       "      <th>20</th>\n",
       "      <td>Turismo</td>\n",
       "      <td>-73557408.06</td>\n",
       "    </tr>\n",
       "    <tr>\n",
       "      <th>21</th>\n",
       "      <td>Varejo</td>\n",
       "      <td>-784478333.15</td>\n",
       "    </tr>\n",
       "  </tbody>\n",
       "</table>\n",
       "</div>"
      ],
      "text/plain": [
       "                  Segmento  Variacao_reias\n",
       "0              Agronegócio    -88901449.42\n",
       "1        Aluguel de Carros  -1807432634.46\n",
       "2                  Aviação   -233651943.50\n",
       "3                 Calçados    -21126374.33\n",
       "4                Confecção    -44345269.97\n",
       "5         Construção Civil    -98613273.98\n",
       "6               Cosméticos   -193280001.21\n",
       "7                 Educação    -17653966.51\n",
       "8                  Energia   -841556329.16\n",
       "9   Equipamentos Elétricos   -118230410.44\n",
       "10            Farmacêutico   -208257014.20\n",
       "11          Infraestrutura    -39743554.31\n",
       "12      Locação de Imóveis    -36819552.34\n",
       "13                Pet Shop     -9242203.65\n",
       "14              Saneamento    -15725678.56\n",
       "15                   Saúde   -393596437.13\n",
       "16                 Seguros    -26297880.21\n",
       "17    Serviços Financeiros  -1173785666.36\n",
       "18              Tecnologia     -9531377.75\n",
       "19      Transporte (Aéreo)   -102993202.62\n",
       "20                 Turismo    -73557408.06\n",
       "21                  Varejo   -784478333.15"
      ]
     },
     "execution_count": 24,
     "metadata": {},
     "output_type": "execute_result"
    }
   ],
   "source": [
    "df_analise_segmento_desceu = df_principal_desceu.groupby('Segmento')['Variacao_reias'].sum().reset_index()\n",
    "df_analise_segmento_desceu"
   ]
  },
  {
   "cell_type": "markdown",
   "metadata": {},
   "source": [
    "**Soma da variação em reais com o group by Resultado**"
   ]
  },
  {
   "cell_type": "code",
   "execution_count": 25,
   "metadata": {},
   "outputs": [
    {
     "data": {
      "text/html": [
       "<div>\n",
       "<style scoped>\n",
       "    .dataframe tbody tr th:only-of-type {\n",
       "        vertical-align: middle;\n",
       "    }\n",
       "\n",
       "    .dataframe tbody tr th {\n",
       "        vertical-align: top;\n",
       "    }\n",
       "\n",
       "    .dataframe thead th {\n",
       "        text-align: right;\n",
       "    }\n",
       "</style>\n",
       "<table border=\"1\" class=\"dataframe\">\n",
       "  <thead>\n",
       "    <tr style=\"text-align: right;\">\n",
       "      <th></th>\n",
       "      <th>Resultado</th>\n",
       "      <th>Variacao_reias</th>\n",
       "    </tr>\n",
       "  </thead>\n",
       "  <tbody>\n",
       "    <tr>\n",
       "      <th>0</th>\n",
       "      <td>Desceu</td>\n",
       "      <td>-6338819961.32</td>\n",
       "    </tr>\n",
       "    <tr>\n",
       "      <th>1</th>\n",
       "      <td>Estável</td>\n",
       "      <td>0.00</td>\n",
       "    </tr>\n",
       "    <tr>\n",
       "      <th>2</th>\n",
       "      <td>Subiu</td>\n",
       "      <td>25764385998.00</td>\n",
       "    </tr>\n",
       "  </tbody>\n",
       "</table>\n",
       "</div>"
      ],
      "text/plain": [
       "  Resultado  Variacao_reias\n",
       "0    Desceu  -6338819961.32\n",
       "1   Estável            0.00\n",
       "2     Subiu  25764385998.00"
      ]
     },
     "execution_count": 25,
     "metadata": {},
     "output_type": "execute_result"
    }
   ],
   "source": [
    "df_analise_saldo = df_principal.groupby('Resultado')['Variacao_reias'].sum().reset_index()\n",
    "df_analise_saldo"
   ]
  },
  {
   "cell_type": "markdown",
   "metadata": {},
   "source": [
    "Utilizando a biblioteca Plotly Express \n",
    "\n",
    "Foi criado um gráfico de barras a partir do DataFrame df_analise_saldo."
   ]
  },
  {
   "cell_type": "code",
   "execution_count": 26,
   "metadata": {},
   "outputs": [
    {
     "data": {
      "application/vnd.plotly.v1+json": {
       "config": {
        "plotlyServerURL": "https://plot.ly"
       },
       "data": [
        {
         "alignmentgroup": "True",
         "hovertemplate": "Resultado=%{x}<br>Variacao_reias=%{text}<extra></extra>",
         "legendgroup": "",
         "marker": {
          "color": "#636efa",
          "pattern": {
           "shape": ""
          }
         },
         "name": "",
         "offsetgroup": "",
         "orientation": "v",
         "showlegend": false,
         "text": [
          -6338819961.31535,
          0,
          25764385998.00151
         ],
         "textposition": "auto",
         "type": "bar",
         "x": [
          "Desceu",
          "Estável",
          "Subiu"
         ],
         "xaxis": "x",
         "y": [
          -6338819961.31535,
          0,
          25764385998.00151
         ],
         "yaxis": "y"
        }
       ],
       "layout": {
        "barmode": "relative",
        "legend": {
         "tracegroupgap": 0
        },
        "template": {
         "data": {
          "bar": [
           {
            "error_x": {
             "color": "#2a3f5f"
            },
            "error_y": {
             "color": "#2a3f5f"
            },
            "marker": {
             "line": {
              "color": "#E5ECF6",
              "width": 0.5
             },
             "pattern": {
              "fillmode": "overlay",
              "size": 10,
              "solidity": 0.2
             }
            },
            "type": "bar"
           }
          ],
          "barpolar": [
           {
            "marker": {
             "line": {
              "color": "#E5ECF6",
              "width": 0.5
             },
             "pattern": {
              "fillmode": "overlay",
              "size": 10,
              "solidity": 0.2
             }
            },
            "type": "barpolar"
           }
          ],
          "carpet": [
           {
            "aaxis": {
             "endlinecolor": "#2a3f5f",
             "gridcolor": "white",
             "linecolor": "white",
             "minorgridcolor": "white",
             "startlinecolor": "#2a3f5f"
            },
            "baxis": {
             "endlinecolor": "#2a3f5f",
             "gridcolor": "white",
             "linecolor": "white",
             "minorgridcolor": "white",
             "startlinecolor": "#2a3f5f"
            },
            "type": "carpet"
           }
          ],
          "choropleth": [
           {
            "colorbar": {
             "outlinewidth": 0,
             "ticks": ""
            },
            "type": "choropleth"
           }
          ],
          "contour": [
           {
            "colorbar": {
             "outlinewidth": 0,
             "ticks": ""
            },
            "colorscale": [
             [
              0,
              "#0d0887"
             ],
             [
              0.1111111111111111,
              "#46039f"
             ],
             [
              0.2222222222222222,
              "#7201a8"
             ],
             [
              0.3333333333333333,
              "#9c179e"
             ],
             [
              0.4444444444444444,
              "#bd3786"
             ],
             [
              0.5555555555555556,
              "#d8576b"
             ],
             [
              0.6666666666666666,
              "#ed7953"
             ],
             [
              0.7777777777777778,
              "#fb9f3a"
             ],
             [
              0.8888888888888888,
              "#fdca26"
             ],
             [
              1,
              "#f0f921"
             ]
            ],
            "type": "contour"
           }
          ],
          "contourcarpet": [
           {
            "colorbar": {
             "outlinewidth": 0,
             "ticks": ""
            },
            "type": "contourcarpet"
           }
          ],
          "heatmap": [
           {
            "colorbar": {
             "outlinewidth": 0,
             "ticks": ""
            },
            "colorscale": [
             [
              0,
              "#0d0887"
             ],
             [
              0.1111111111111111,
              "#46039f"
             ],
             [
              0.2222222222222222,
              "#7201a8"
             ],
             [
              0.3333333333333333,
              "#9c179e"
             ],
             [
              0.4444444444444444,
              "#bd3786"
             ],
             [
              0.5555555555555556,
              "#d8576b"
             ],
             [
              0.6666666666666666,
              "#ed7953"
             ],
             [
              0.7777777777777778,
              "#fb9f3a"
             ],
             [
              0.8888888888888888,
              "#fdca26"
             ],
             [
              1,
              "#f0f921"
             ]
            ],
            "type": "heatmap"
           }
          ],
          "heatmapgl": [
           {
            "colorbar": {
             "outlinewidth": 0,
             "ticks": ""
            },
            "colorscale": [
             [
              0,
              "#0d0887"
             ],
             [
              0.1111111111111111,
              "#46039f"
             ],
             [
              0.2222222222222222,
              "#7201a8"
             ],
             [
              0.3333333333333333,
              "#9c179e"
             ],
             [
              0.4444444444444444,
              "#bd3786"
             ],
             [
              0.5555555555555556,
              "#d8576b"
             ],
             [
              0.6666666666666666,
              "#ed7953"
             ],
             [
              0.7777777777777778,
              "#fb9f3a"
             ],
             [
              0.8888888888888888,
              "#fdca26"
             ],
             [
              1,
              "#f0f921"
             ]
            ],
            "type": "heatmapgl"
           }
          ],
          "histogram": [
           {
            "marker": {
             "pattern": {
              "fillmode": "overlay",
              "size": 10,
              "solidity": 0.2
             }
            },
            "type": "histogram"
           }
          ],
          "histogram2d": [
           {
            "colorbar": {
             "outlinewidth": 0,
             "ticks": ""
            },
            "colorscale": [
             [
              0,
              "#0d0887"
             ],
             [
              0.1111111111111111,
              "#46039f"
             ],
             [
              0.2222222222222222,
              "#7201a8"
             ],
             [
              0.3333333333333333,
              "#9c179e"
             ],
             [
              0.4444444444444444,
              "#bd3786"
             ],
             [
              0.5555555555555556,
              "#d8576b"
             ],
             [
              0.6666666666666666,
              "#ed7953"
             ],
             [
              0.7777777777777778,
              "#fb9f3a"
             ],
             [
              0.8888888888888888,
              "#fdca26"
             ],
             [
              1,
              "#f0f921"
             ]
            ],
            "type": "histogram2d"
           }
          ],
          "histogram2dcontour": [
           {
            "colorbar": {
             "outlinewidth": 0,
             "ticks": ""
            },
            "colorscale": [
             [
              0,
              "#0d0887"
             ],
             [
              0.1111111111111111,
              "#46039f"
             ],
             [
              0.2222222222222222,
              "#7201a8"
             ],
             [
              0.3333333333333333,
              "#9c179e"
             ],
             [
              0.4444444444444444,
              "#bd3786"
             ],
             [
              0.5555555555555556,
              "#d8576b"
             ],
             [
              0.6666666666666666,
              "#ed7953"
             ],
             [
              0.7777777777777778,
              "#fb9f3a"
             ],
             [
              0.8888888888888888,
              "#fdca26"
             ],
             [
              1,
              "#f0f921"
             ]
            ],
            "type": "histogram2dcontour"
           }
          ],
          "mesh3d": [
           {
            "colorbar": {
             "outlinewidth": 0,
             "ticks": ""
            },
            "type": "mesh3d"
           }
          ],
          "parcoords": [
           {
            "line": {
             "colorbar": {
              "outlinewidth": 0,
              "ticks": ""
             }
            },
            "type": "parcoords"
           }
          ],
          "pie": [
           {
            "automargin": true,
            "type": "pie"
           }
          ],
          "scatter": [
           {
            "fillpattern": {
             "fillmode": "overlay",
             "size": 10,
             "solidity": 0.2
            },
            "type": "scatter"
           }
          ],
          "scatter3d": [
           {
            "line": {
             "colorbar": {
              "outlinewidth": 0,
              "ticks": ""
             }
            },
            "marker": {
             "colorbar": {
              "outlinewidth": 0,
              "ticks": ""
             }
            },
            "type": "scatter3d"
           }
          ],
          "scattercarpet": [
           {
            "marker": {
             "colorbar": {
              "outlinewidth": 0,
              "ticks": ""
             }
            },
            "type": "scattercarpet"
           }
          ],
          "scattergeo": [
           {
            "marker": {
             "colorbar": {
              "outlinewidth": 0,
              "ticks": ""
             }
            },
            "type": "scattergeo"
           }
          ],
          "scattergl": [
           {
            "marker": {
             "colorbar": {
              "outlinewidth": 0,
              "ticks": ""
             }
            },
            "type": "scattergl"
           }
          ],
          "scattermapbox": [
           {
            "marker": {
             "colorbar": {
              "outlinewidth": 0,
              "ticks": ""
             }
            },
            "type": "scattermapbox"
           }
          ],
          "scatterpolar": [
           {
            "marker": {
             "colorbar": {
              "outlinewidth": 0,
              "ticks": ""
             }
            },
            "type": "scatterpolar"
           }
          ],
          "scatterpolargl": [
           {
            "marker": {
             "colorbar": {
              "outlinewidth": 0,
              "ticks": ""
             }
            },
            "type": "scatterpolargl"
           }
          ],
          "scatterternary": [
           {
            "marker": {
             "colorbar": {
              "outlinewidth": 0,
              "ticks": ""
             }
            },
            "type": "scatterternary"
           }
          ],
          "surface": [
           {
            "colorbar": {
             "outlinewidth": 0,
             "ticks": ""
            },
            "colorscale": [
             [
              0,
              "#0d0887"
             ],
             [
              0.1111111111111111,
              "#46039f"
             ],
             [
              0.2222222222222222,
              "#7201a8"
             ],
             [
              0.3333333333333333,
              "#9c179e"
             ],
             [
              0.4444444444444444,
              "#bd3786"
             ],
             [
              0.5555555555555556,
              "#d8576b"
             ],
             [
              0.6666666666666666,
              "#ed7953"
             ],
             [
              0.7777777777777778,
              "#fb9f3a"
             ],
             [
              0.8888888888888888,
              "#fdca26"
             ],
             [
              1,
              "#f0f921"
             ]
            ],
            "type": "surface"
           }
          ],
          "table": [
           {
            "cells": {
             "fill": {
              "color": "#EBF0F8"
             },
             "line": {
              "color": "white"
             }
            },
            "header": {
             "fill": {
              "color": "#C8D4E3"
             },
             "line": {
              "color": "white"
             }
            },
            "type": "table"
           }
          ]
         },
         "layout": {
          "annotationdefaults": {
           "arrowcolor": "#2a3f5f",
           "arrowhead": 0,
           "arrowwidth": 1
          },
          "autotypenumbers": "strict",
          "coloraxis": {
           "colorbar": {
            "outlinewidth": 0,
            "ticks": ""
           }
          },
          "colorscale": {
           "diverging": [
            [
             0,
             "#8e0152"
            ],
            [
             0.1,
             "#c51b7d"
            ],
            [
             0.2,
             "#de77ae"
            ],
            [
             0.3,
             "#f1b6da"
            ],
            [
             0.4,
             "#fde0ef"
            ],
            [
             0.5,
             "#f7f7f7"
            ],
            [
             0.6,
             "#e6f5d0"
            ],
            [
             0.7,
             "#b8e186"
            ],
            [
             0.8,
             "#7fbc41"
            ],
            [
             0.9,
             "#4d9221"
            ],
            [
             1,
             "#276419"
            ]
           ],
           "sequential": [
            [
             0,
             "#0d0887"
            ],
            [
             0.1111111111111111,
             "#46039f"
            ],
            [
             0.2222222222222222,
             "#7201a8"
            ],
            [
             0.3333333333333333,
             "#9c179e"
            ],
            [
             0.4444444444444444,
             "#bd3786"
            ],
            [
             0.5555555555555556,
             "#d8576b"
            ],
            [
             0.6666666666666666,
             "#ed7953"
            ],
            [
             0.7777777777777778,
             "#fb9f3a"
            ],
            [
             0.8888888888888888,
             "#fdca26"
            ],
            [
             1,
             "#f0f921"
            ]
           ],
           "sequentialminus": [
            [
             0,
             "#0d0887"
            ],
            [
             0.1111111111111111,
             "#46039f"
            ],
            [
             0.2222222222222222,
             "#7201a8"
            ],
            [
             0.3333333333333333,
             "#9c179e"
            ],
            [
             0.4444444444444444,
             "#bd3786"
            ],
            [
             0.5555555555555556,
             "#d8576b"
            ],
            [
             0.6666666666666666,
             "#ed7953"
            ],
            [
             0.7777777777777778,
             "#fb9f3a"
            ],
            [
             0.8888888888888888,
             "#fdca26"
            ],
            [
             1,
             "#f0f921"
            ]
           ]
          },
          "colorway": [
           "#636efa",
           "#EF553B",
           "#00cc96",
           "#ab63fa",
           "#FFA15A",
           "#19d3f3",
           "#FF6692",
           "#B6E880",
           "#FF97FF",
           "#FECB52"
          ],
          "font": {
           "color": "#2a3f5f"
          },
          "geo": {
           "bgcolor": "white",
           "lakecolor": "white",
           "landcolor": "#E5ECF6",
           "showlakes": true,
           "showland": true,
           "subunitcolor": "white"
          },
          "hoverlabel": {
           "align": "left"
          },
          "hovermode": "closest",
          "mapbox": {
           "style": "light"
          },
          "paper_bgcolor": "white",
          "plot_bgcolor": "#E5ECF6",
          "polar": {
           "angularaxis": {
            "gridcolor": "white",
            "linecolor": "white",
            "ticks": ""
           },
           "bgcolor": "#E5ECF6",
           "radialaxis": {
            "gridcolor": "white",
            "linecolor": "white",
            "ticks": ""
           }
          },
          "scene": {
           "xaxis": {
            "backgroundcolor": "#E5ECF6",
            "gridcolor": "white",
            "gridwidth": 2,
            "linecolor": "white",
            "showbackground": true,
            "ticks": "",
            "zerolinecolor": "white"
           },
           "yaxis": {
            "backgroundcolor": "#E5ECF6",
            "gridcolor": "white",
            "gridwidth": 2,
            "linecolor": "white",
            "showbackground": true,
            "ticks": "",
            "zerolinecolor": "white"
           },
           "zaxis": {
            "backgroundcolor": "#E5ECF6",
            "gridcolor": "white",
            "gridwidth": 2,
            "linecolor": "white",
            "showbackground": true,
            "ticks": "",
            "zerolinecolor": "white"
           }
          },
          "shapedefaults": {
           "line": {
            "color": "#2a3f5f"
           }
          },
          "ternary": {
           "aaxis": {
            "gridcolor": "white",
            "linecolor": "white",
            "ticks": ""
           },
           "baxis": {
            "gridcolor": "white",
            "linecolor": "white",
            "ticks": ""
           },
           "bgcolor": "#E5ECF6",
           "caxis": {
            "gridcolor": "white",
            "linecolor": "white",
            "ticks": ""
           }
          },
          "title": {
           "x": 0.05
          },
          "xaxis": {
           "automargin": true,
           "gridcolor": "white",
           "linecolor": "white",
           "ticks": "",
           "title": {
            "standoff": 15
           },
           "zerolinecolor": "white",
           "zerolinewidth": 2
          },
          "yaxis": {
           "automargin": true,
           "gridcolor": "white",
           "linecolor": "white",
           "ticks": "",
           "title": {
            "standoff": 15
           },
           "zerolinecolor": "white",
           "zerolinewidth": 2
          }
         }
        },
        "title": {
         "text": "Variação Reais por Resultado"
        },
        "xaxis": {
         "anchor": "y",
         "domain": [
          0,
          1
         ],
         "title": {
          "text": "Resultado"
         }
        },
        "yaxis": {
         "anchor": "x",
         "domain": [
          0,
          1
         ],
         "title": {
          "text": "Variacao_reias"
         }
        }
       }
      }
     },
     "metadata": {},
     "output_type": "display_data"
    }
   ],
   "source": [
    "fig = px.bar(df_analise_saldo, x='Resultado', y='Variacao_reias', text='Variacao_reias', title='Variação Reais por Resultado')\n",
    "fig.show()"
   ]
  },
  {
   "cell_type": "markdown",
   "metadata": {},
   "source": [
    "Utilizando a biblioteca Plotly Express \n",
    "\n",
    "Foi criado um gráfico de pizza a partir do DataFrame df_analise_segmento_subiu."
   ]
  },
  {
   "cell_type": "code",
   "execution_count": null,
   "metadata": {},
   "outputs": [
    {
     "data": {
      "application/vnd.plotly.v1+json": {
       "config": {
        "plotlyServerURL": "https://plot.ly"
       },
       "data": [
        {
         "domain": {
          "x": [
           0,
           1
          ],
          "y": [
           0,
           1
          ]
         },
         "hovertemplate": "Segmento=%{label}<br>Variacao_reias=%{value}<extra></extra>",
         "labels": [
          "Alimentos",
          "Banco",
          "Calçados",
          "Construção Civil",
          "Educação",
          "Energia",
          "Farmácias e Drogarias",
          "Holding",
          "Locação de Veículos",
          "Logística",
          "Meios de Pagamento",
          "Mineração",
          "Papel e Celulose",
          "Petróleo e Gás",
          "Química",
          "Saúde",
          "Serviços Financeiros",
          "Shopping Centers",
          "Siderurgia",
          "Tecnologia",
          "Telecomunicações",
          "Transporte (Aéreo)",
          "Varejo"
         ],
         "legendgroup": "",
         "name": "",
         "showlegend": true,
         "type": "pie",
         "values": [
          407833683.0924499,
          4636679965.247721,
          41021792.09077153,
          37525872.37728388,
          72295838.98616095,
          821116399.6112785,
          202352473.73982856,
          416092244.423763,
          4131341.15789051,
          229771333.63468358,
          43657683.37554085,
          4940442965.550434,
          722946282.7090385,
          11242279873.658165,
          457759541.5920564,
          453917907.01324,
          18068446.60998324,
          117732680.0784251,
          489935930.9283229,
          15598886.650556229,
          292938114.42357796,
          65452205.552800186,
          34834535.49753806
         ]
        }
       ],
       "layout": {
        "legend": {
         "tracegroupgap": 0
        },
        "template": {
         "data": {
          "bar": [
           {
            "error_x": {
             "color": "#2a3f5f"
            },
            "error_y": {
             "color": "#2a3f5f"
            },
            "marker": {
             "line": {
              "color": "#E5ECF6",
              "width": 0.5
             },
             "pattern": {
              "fillmode": "overlay",
              "size": 10,
              "solidity": 0.2
             }
            },
            "type": "bar"
           }
          ],
          "barpolar": [
           {
            "marker": {
             "line": {
              "color": "#E5ECF6",
              "width": 0.5
             },
             "pattern": {
              "fillmode": "overlay",
              "size": 10,
              "solidity": 0.2
             }
            },
            "type": "barpolar"
           }
          ],
          "carpet": [
           {
            "aaxis": {
             "endlinecolor": "#2a3f5f",
             "gridcolor": "white",
             "linecolor": "white",
             "minorgridcolor": "white",
             "startlinecolor": "#2a3f5f"
            },
            "baxis": {
             "endlinecolor": "#2a3f5f",
             "gridcolor": "white",
             "linecolor": "white",
             "minorgridcolor": "white",
             "startlinecolor": "#2a3f5f"
            },
            "type": "carpet"
           }
          ],
          "choropleth": [
           {
            "colorbar": {
             "outlinewidth": 0,
             "ticks": ""
            },
            "type": "choropleth"
           }
          ],
          "contour": [
           {
            "colorbar": {
             "outlinewidth": 0,
             "ticks": ""
            },
            "colorscale": [
             [
              0,
              "#0d0887"
             ],
             [
              0.1111111111111111,
              "#46039f"
             ],
             [
              0.2222222222222222,
              "#7201a8"
             ],
             [
              0.3333333333333333,
              "#9c179e"
             ],
             [
              0.4444444444444444,
              "#bd3786"
             ],
             [
              0.5555555555555556,
              "#d8576b"
             ],
             [
              0.6666666666666666,
              "#ed7953"
             ],
             [
              0.7777777777777778,
              "#fb9f3a"
             ],
             [
              0.8888888888888888,
              "#fdca26"
             ],
             [
              1,
              "#f0f921"
             ]
            ],
            "type": "contour"
           }
          ],
          "contourcarpet": [
           {
            "colorbar": {
             "outlinewidth": 0,
             "ticks": ""
            },
            "type": "contourcarpet"
           }
          ],
          "heatmap": [
           {
            "colorbar": {
             "outlinewidth": 0,
             "ticks": ""
            },
            "colorscale": [
             [
              0,
              "#0d0887"
             ],
             [
              0.1111111111111111,
              "#46039f"
             ],
             [
              0.2222222222222222,
              "#7201a8"
             ],
             [
              0.3333333333333333,
              "#9c179e"
             ],
             [
              0.4444444444444444,
              "#bd3786"
             ],
             [
              0.5555555555555556,
              "#d8576b"
             ],
             [
              0.6666666666666666,
              "#ed7953"
             ],
             [
              0.7777777777777778,
              "#fb9f3a"
             ],
             [
              0.8888888888888888,
              "#fdca26"
             ],
             [
              1,
              "#f0f921"
             ]
            ],
            "type": "heatmap"
           }
          ],
          "heatmapgl": [
           {
            "colorbar": {
             "outlinewidth": 0,
             "ticks": ""
            },
            "colorscale": [
             [
              0,
              "#0d0887"
             ],
             [
              0.1111111111111111,
              "#46039f"
             ],
             [
              0.2222222222222222,
              "#7201a8"
             ],
             [
              0.3333333333333333,
              "#9c179e"
             ],
             [
              0.4444444444444444,
              "#bd3786"
             ],
             [
              0.5555555555555556,
              "#d8576b"
             ],
             [
              0.6666666666666666,
              "#ed7953"
             ],
             [
              0.7777777777777778,
              "#fb9f3a"
             ],
             [
              0.8888888888888888,
              "#fdca26"
             ],
             [
              1,
              "#f0f921"
             ]
            ],
            "type": "heatmapgl"
           }
          ],
          "histogram": [
           {
            "marker": {
             "pattern": {
              "fillmode": "overlay",
              "size": 10,
              "solidity": 0.2
             }
            },
            "type": "histogram"
           }
          ],
          "histogram2d": [
           {
            "colorbar": {
             "outlinewidth": 0,
             "ticks": ""
            },
            "colorscale": [
             [
              0,
              "#0d0887"
             ],
             [
              0.1111111111111111,
              "#46039f"
             ],
             [
              0.2222222222222222,
              "#7201a8"
             ],
             [
              0.3333333333333333,
              "#9c179e"
             ],
             [
              0.4444444444444444,
              "#bd3786"
             ],
             [
              0.5555555555555556,
              "#d8576b"
             ],
             [
              0.6666666666666666,
              "#ed7953"
             ],
             [
              0.7777777777777778,
              "#fb9f3a"
             ],
             [
              0.8888888888888888,
              "#fdca26"
             ],
             [
              1,
              "#f0f921"
             ]
            ],
            "type": "histogram2d"
           }
          ],
          "histogram2dcontour": [
           {
            "colorbar": {
             "outlinewidth": 0,
             "ticks": ""
            },
            "colorscale": [
             [
              0,
              "#0d0887"
             ],
             [
              0.1111111111111111,
              "#46039f"
             ],
             [
              0.2222222222222222,
              "#7201a8"
             ],
             [
              0.3333333333333333,
              "#9c179e"
             ],
             [
              0.4444444444444444,
              "#bd3786"
             ],
             [
              0.5555555555555556,
              "#d8576b"
             ],
             [
              0.6666666666666666,
              "#ed7953"
             ],
             [
              0.7777777777777778,
              "#fb9f3a"
             ],
             [
              0.8888888888888888,
              "#fdca26"
             ],
             [
              1,
              "#f0f921"
             ]
            ],
            "type": "histogram2dcontour"
           }
          ],
          "mesh3d": [
           {
            "colorbar": {
             "outlinewidth": 0,
             "ticks": ""
            },
            "type": "mesh3d"
           }
          ],
          "parcoords": [
           {
            "line": {
             "colorbar": {
              "outlinewidth": 0,
              "ticks": ""
             }
            },
            "type": "parcoords"
           }
          ],
          "pie": [
           {
            "automargin": true,
            "type": "pie"
           }
          ],
          "scatter": [
           {
            "fillpattern": {
             "fillmode": "overlay",
             "size": 10,
             "solidity": 0.2
            },
            "type": "scatter"
           }
          ],
          "scatter3d": [
           {
            "line": {
             "colorbar": {
              "outlinewidth": 0,
              "ticks": ""
             }
            },
            "marker": {
             "colorbar": {
              "outlinewidth": 0,
              "ticks": ""
             }
            },
            "type": "scatter3d"
           }
          ],
          "scattercarpet": [
           {
            "marker": {
             "colorbar": {
              "outlinewidth": 0,
              "ticks": ""
             }
            },
            "type": "scattercarpet"
           }
          ],
          "scattergeo": [
           {
            "marker": {
             "colorbar": {
              "outlinewidth": 0,
              "ticks": ""
             }
            },
            "type": "scattergeo"
           }
          ],
          "scattergl": [
           {
            "marker": {
             "colorbar": {
              "outlinewidth": 0,
              "ticks": ""
             }
            },
            "type": "scattergl"
           }
          ],
          "scattermapbox": [
           {
            "marker": {
             "colorbar": {
              "outlinewidth": 0,
              "ticks": ""
             }
            },
            "type": "scattermapbox"
           }
          ],
          "scatterpolar": [
           {
            "marker": {
             "colorbar": {
              "outlinewidth": 0,
              "ticks": ""
             }
            },
            "type": "scatterpolar"
           }
          ],
          "scatterpolargl": [
           {
            "marker": {
             "colorbar": {
              "outlinewidth": 0,
              "ticks": ""
             }
            },
            "type": "scatterpolargl"
           }
          ],
          "scatterternary": [
           {
            "marker": {
             "colorbar": {
              "outlinewidth": 0,
              "ticks": ""
             }
            },
            "type": "scatterternary"
           }
          ],
          "surface": [
           {
            "colorbar": {
             "outlinewidth": 0,
             "ticks": ""
            },
            "colorscale": [
             [
              0,
              "#0d0887"
             ],
             [
              0.1111111111111111,
              "#46039f"
             ],
             [
              0.2222222222222222,
              "#7201a8"
             ],
             [
              0.3333333333333333,
              "#9c179e"
             ],
             [
              0.4444444444444444,
              "#bd3786"
             ],
             [
              0.5555555555555556,
              "#d8576b"
             ],
             [
              0.6666666666666666,
              "#ed7953"
             ],
             [
              0.7777777777777778,
              "#fb9f3a"
             ],
             [
              0.8888888888888888,
              "#fdca26"
             ],
             [
              1,
              "#f0f921"
             ]
            ],
            "type": "surface"
           }
          ],
          "table": [
           {
            "cells": {
             "fill": {
              "color": "#EBF0F8"
             },
             "line": {
              "color": "white"
             }
            },
            "header": {
             "fill": {
              "color": "#C8D4E3"
             },
             "line": {
              "color": "white"
             }
            },
            "type": "table"
           }
          ]
         },
         "layout": {
          "annotationdefaults": {
           "arrowcolor": "#2a3f5f",
           "arrowhead": 0,
           "arrowwidth": 1
          },
          "autotypenumbers": "strict",
          "coloraxis": {
           "colorbar": {
            "outlinewidth": 0,
            "ticks": ""
           }
          },
          "colorscale": {
           "diverging": [
            [
             0,
             "#8e0152"
            ],
            [
             0.1,
             "#c51b7d"
            ],
            [
             0.2,
             "#de77ae"
            ],
            [
             0.3,
             "#f1b6da"
            ],
            [
             0.4,
             "#fde0ef"
            ],
            [
             0.5,
             "#f7f7f7"
            ],
            [
             0.6,
             "#e6f5d0"
            ],
            [
             0.7,
             "#b8e186"
            ],
            [
             0.8,
             "#7fbc41"
            ],
            [
             0.9,
             "#4d9221"
            ],
            [
             1,
             "#276419"
            ]
           ],
           "sequential": [
            [
             0,
             "#0d0887"
            ],
            [
             0.1111111111111111,
             "#46039f"
            ],
            [
             0.2222222222222222,
             "#7201a8"
            ],
            [
             0.3333333333333333,
             "#9c179e"
            ],
            [
             0.4444444444444444,
             "#bd3786"
            ],
            [
             0.5555555555555556,
             "#d8576b"
            ],
            [
             0.6666666666666666,
             "#ed7953"
            ],
            [
             0.7777777777777778,
             "#fb9f3a"
            ],
            [
             0.8888888888888888,
             "#fdca26"
            ],
            [
             1,
             "#f0f921"
            ]
           ],
           "sequentialminus": [
            [
             0,
             "#0d0887"
            ],
            [
             0.1111111111111111,
             "#46039f"
            ],
            [
             0.2222222222222222,
             "#7201a8"
            ],
            [
             0.3333333333333333,
             "#9c179e"
            ],
            [
             0.4444444444444444,
             "#bd3786"
            ],
            [
             0.5555555555555556,
             "#d8576b"
            ],
            [
             0.6666666666666666,
             "#ed7953"
            ],
            [
             0.7777777777777778,
             "#fb9f3a"
            ],
            [
             0.8888888888888888,
             "#fdca26"
            ],
            [
             1,
             "#f0f921"
            ]
           ]
          },
          "colorway": [
           "#636efa",
           "#EF553B",
           "#00cc96",
           "#ab63fa",
           "#FFA15A",
           "#19d3f3",
           "#FF6692",
           "#B6E880",
           "#FF97FF",
           "#FECB52"
          ],
          "font": {
           "color": "#2a3f5f"
          },
          "geo": {
           "bgcolor": "white",
           "lakecolor": "white",
           "landcolor": "#E5ECF6",
           "showlakes": true,
           "showland": true,
           "subunitcolor": "white"
          },
          "hoverlabel": {
           "align": "left"
          },
          "hovermode": "closest",
          "mapbox": {
           "style": "light"
          },
          "paper_bgcolor": "white",
          "plot_bgcolor": "#E5ECF6",
          "polar": {
           "angularaxis": {
            "gridcolor": "white",
            "linecolor": "white",
            "ticks": ""
           },
           "bgcolor": "#E5ECF6",
           "radialaxis": {
            "gridcolor": "white",
            "linecolor": "white",
            "ticks": ""
           }
          },
          "scene": {
           "xaxis": {
            "backgroundcolor": "#E5ECF6",
            "gridcolor": "white",
            "gridwidth": 2,
            "linecolor": "white",
            "showbackground": true,
            "ticks": "",
            "zerolinecolor": "white"
           },
           "yaxis": {
            "backgroundcolor": "#E5ECF6",
            "gridcolor": "white",
            "gridwidth": 2,
            "linecolor": "white",
            "showbackground": true,
            "ticks": "",
            "zerolinecolor": "white"
           },
           "zaxis": {
            "backgroundcolor": "#E5ECF6",
            "gridcolor": "white",
            "gridwidth": 2,
            "linecolor": "white",
            "showbackground": true,
            "ticks": "",
            "zerolinecolor": "white"
           }
          },
          "shapedefaults": {
           "line": {
            "color": "#2a3f5f"
           }
          },
          "ternary": {
           "aaxis": {
            "gridcolor": "white",
            "linecolor": "white",
            "ticks": ""
           },
           "baxis": {
            "gridcolor": "white",
            "linecolor": "white",
            "ticks": ""
           },
           "bgcolor": "#E5ECF6",
           "caxis": {
            "gridcolor": "white",
            "linecolor": "white",
            "ticks": ""
           }
          },
          "title": {
           "x": 0.05
          },
          "xaxis": {
           "automargin": true,
           "gridcolor": "white",
           "linecolor": "white",
           "ticks": "",
           "title": {
            "standoff": 15
           },
           "zerolinecolor": "white",
           "zerolinewidth": 2
          },
          "yaxis": {
           "automargin": true,
           "gridcolor": "white",
           "linecolor": "white",
           "ticks": "",
           "title": {
            "standoff": 15
           },
           "zerolinecolor": "white",
           "zerolinewidth": 2
          }
         }
        },
        "title": {
         "text": "Variação por Segmento"
        }
       }
      }
     },
     "metadata": {},
     "output_type": "display_data"
    }
   ],
   "source": [
    "fig = px.pie(df_analise_segmento_subiu, values='Variacao_reias', names='Segmento', title='Variação por Segmento')\n",
    "fig.show()"
   ]
  },
  {
   "cell_type": "code",
   "execution_count": null,
   "metadata": {},
   "outputs": [
    {
     "data": {
      "application/vnd.plotly.v1+json": {
       "config": {
        "plotlyServerURL": "https://plot.ly"
       },
       "data": [
        {
         "customdata": [
          [
           "Alimentos"
          ],
          [
           "Banco"
          ],
          [
           "Calçados"
          ],
          [
           "Construção Civil"
          ],
          [
           "Educação"
          ],
          [
           "Energia"
          ],
          [
           "Farmácias e Drogarias"
          ],
          [
           "Holding"
          ],
          [
           "Locação de Veículos"
          ],
          [
           "Logística"
          ],
          [
           "Meios de Pagamento"
          ],
          [
           "Mineração"
          ],
          [
           "Papel e Celulose"
          ],
          [
           "Petróleo e Gás"
          ],
          [
           "Química"
          ],
          [
           "Saúde"
          ],
          [
           "Serviços Financeiros"
          ],
          [
           "Shopping Centers"
          ],
          [
           "Siderurgia"
          ],
          [
           "Tecnologia"
          ],
          [
           "Telecomunicações"
          ],
          [
           "Transporte (Aéreo)"
          ],
          [
           "Varejo"
          ]
         ],
         "domain": {
          "x": [
           0,
           1
          ],
          "y": [
           0,
           1
          ]
         },
         "hovertemplate": "Segmento=%{customdata[0]}<br>Variacao_reias=%{value}<extra></extra>",
         "labels": [
          "Alimentos",
          "Banco",
          "Calçados",
          "Construção Civil",
          "Educação",
          "Energia",
          "Farmácias e Drogarias",
          "Holding",
          "Locação de Veículos",
          "Logística",
          "Meios de Pagamento",
          "Mineração",
          "Papel e Celulose",
          "Petróleo e Gás",
          "Química",
          "Saúde",
          "Serviços Financeiros",
          "Shopping Centers",
          "Siderurgia",
          "Tecnologia",
          "Telecomunicações",
          "Transporte (Aéreo)",
          "Varejo"
         ],
         "legendgroup": "",
         "marker": {
          "colors": [
           "#EF553B",
           "#00cc96",
           "#ab63fa",
           "#FFA15A",
           "#19d3f3",
           "#FF6692",
           "#B6E880",
           "#FF97FF",
           "#FECB52",
           "#636efa",
           "#EF553B",
           "#00cc96",
           "#ab63fa",
           "#FFA15A",
           "#19d3f3",
           "#FF6692",
           "#B6E880",
           "#FF97FF",
           "#FECB52",
           "#636efa",
           "#EF553B",
           "#00cc96",
           "#ab63fa"
          ],
          "line": {
           "color": "black",
           "width": 2
          }
         },
         "name": "",
         "showlegend": true,
         "textinfo": "percent+label",
         "textposition": "inside",
         "type": "pie",
         "values": [
          407833683.0924499,
          4636679965.247721,
          41021792.09077153,
          37525872.37728388,
          72295838.98616095,
          821116399.6112785,
          202352473.73982856,
          416092244.423763,
          4131341.15789051,
          229771333.63468358,
          43657683.37554085,
          4940442965.550434,
          722946282.7090385,
          11242279873.658165,
          457759541.5920564,
          453917907.01324,
          18068446.60998324,
          117732680.0784251,
          489935930.9283229,
          15598886.650556229,
          292938114.42357796,
          65452205.552800186,
          34834535.49753806
         ]
        }
       ],
       "layout": {
        "font": {
         "family": "Arial",
         "size": 12
        },
        "legend": {
         "tracegroupgap": 0
        },
        "template": {
         "data": {
          "bar": [
           {
            "error_x": {
             "color": "#2a3f5f"
            },
            "error_y": {
             "color": "#2a3f5f"
            },
            "marker": {
             "line": {
              "color": "#E5ECF6",
              "width": 0.5
             },
             "pattern": {
              "fillmode": "overlay",
              "size": 10,
              "solidity": 0.2
             }
            },
            "type": "bar"
           }
          ],
          "barpolar": [
           {
            "marker": {
             "line": {
              "color": "#E5ECF6",
              "width": 0.5
             },
             "pattern": {
              "fillmode": "overlay",
              "size": 10,
              "solidity": 0.2
             }
            },
            "type": "barpolar"
           }
          ],
          "carpet": [
           {
            "aaxis": {
             "endlinecolor": "#2a3f5f",
             "gridcolor": "white",
             "linecolor": "white",
             "minorgridcolor": "white",
             "startlinecolor": "#2a3f5f"
            },
            "baxis": {
             "endlinecolor": "#2a3f5f",
             "gridcolor": "white",
             "linecolor": "white",
             "minorgridcolor": "white",
             "startlinecolor": "#2a3f5f"
            },
            "type": "carpet"
           }
          ],
          "choropleth": [
           {
            "colorbar": {
             "outlinewidth": 0,
             "ticks": ""
            },
            "type": "choropleth"
           }
          ],
          "contour": [
           {
            "colorbar": {
             "outlinewidth": 0,
             "ticks": ""
            },
            "colorscale": [
             [
              0,
              "#0d0887"
             ],
             [
              0.1111111111111111,
              "#46039f"
             ],
             [
              0.2222222222222222,
              "#7201a8"
             ],
             [
              0.3333333333333333,
              "#9c179e"
             ],
             [
              0.4444444444444444,
              "#bd3786"
             ],
             [
              0.5555555555555556,
              "#d8576b"
             ],
             [
              0.6666666666666666,
              "#ed7953"
             ],
             [
              0.7777777777777778,
              "#fb9f3a"
             ],
             [
              0.8888888888888888,
              "#fdca26"
             ],
             [
              1,
              "#f0f921"
             ]
            ],
            "type": "contour"
           }
          ],
          "contourcarpet": [
           {
            "colorbar": {
             "outlinewidth": 0,
             "ticks": ""
            },
            "type": "contourcarpet"
           }
          ],
          "heatmap": [
           {
            "colorbar": {
             "outlinewidth": 0,
             "ticks": ""
            },
            "colorscale": [
             [
              0,
              "#0d0887"
             ],
             [
              0.1111111111111111,
              "#46039f"
             ],
             [
              0.2222222222222222,
              "#7201a8"
             ],
             [
              0.3333333333333333,
              "#9c179e"
             ],
             [
              0.4444444444444444,
              "#bd3786"
             ],
             [
              0.5555555555555556,
              "#d8576b"
             ],
             [
              0.6666666666666666,
              "#ed7953"
             ],
             [
              0.7777777777777778,
              "#fb9f3a"
             ],
             [
              0.8888888888888888,
              "#fdca26"
             ],
             [
              1,
              "#f0f921"
             ]
            ],
            "type": "heatmap"
           }
          ],
          "heatmapgl": [
           {
            "colorbar": {
             "outlinewidth": 0,
             "ticks": ""
            },
            "colorscale": [
             [
              0,
              "#0d0887"
             ],
             [
              0.1111111111111111,
              "#46039f"
             ],
             [
              0.2222222222222222,
              "#7201a8"
             ],
             [
              0.3333333333333333,
              "#9c179e"
             ],
             [
              0.4444444444444444,
              "#bd3786"
             ],
             [
              0.5555555555555556,
              "#d8576b"
             ],
             [
              0.6666666666666666,
              "#ed7953"
             ],
             [
              0.7777777777777778,
              "#fb9f3a"
             ],
             [
              0.8888888888888888,
              "#fdca26"
             ],
             [
              1,
              "#f0f921"
             ]
            ],
            "type": "heatmapgl"
           }
          ],
          "histogram": [
           {
            "marker": {
             "pattern": {
              "fillmode": "overlay",
              "size": 10,
              "solidity": 0.2
             }
            },
            "type": "histogram"
           }
          ],
          "histogram2d": [
           {
            "colorbar": {
             "outlinewidth": 0,
             "ticks": ""
            },
            "colorscale": [
             [
              0,
              "#0d0887"
             ],
             [
              0.1111111111111111,
              "#46039f"
             ],
             [
              0.2222222222222222,
              "#7201a8"
             ],
             [
              0.3333333333333333,
              "#9c179e"
             ],
             [
              0.4444444444444444,
              "#bd3786"
             ],
             [
              0.5555555555555556,
              "#d8576b"
             ],
             [
              0.6666666666666666,
              "#ed7953"
             ],
             [
              0.7777777777777778,
              "#fb9f3a"
             ],
             [
              0.8888888888888888,
              "#fdca26"
             ],
             [
              1,
              "#f0f921"
             ]
            ],
            "type": "histogram2d"
           }
          ],
          "histogram2dcontour": [
           {
            "colorbar": {
             "outlinewidth": 0,
             "ticks": ""
            },
            "colorscale": [
             [
              0,
              "#0d0887"
             ],
             [
              0.1111111111111111,
              "#46039f"
             ],
             [
              0.2222222222222222,
              "#7201a8"
             ],
             [
              0.3333333333333333,
              "#9c179e"
             ],
             [
              0.4444444444444444,
              "#bd3786"
             ],
             [
              0.5555555555555556,
              "#d8576b"
             ],
             [
              0.6666666666666666,
              "#ed7953"
             ],
             [
              0.7777777777777778,
              "#fb9f3a"
             ],
             [
              0.8888888888888888,
              "#fdca26"
             ],
             [
              1,
              "#f0f921"
             ]
            ],
            "type": "histogram2dcontour"
           }
          ],
          "mesh3d": [
           {
            "colorbar": {
             "outlinewidth": 0,
             "ticks": ""
            },
            "type": "mesh3d"
           }
          ],
          "parcoords": [
           {
            "line": {
             "colorbar": {
              "outlinewidth": 0,
              "ticks": ""
             }
            },
            "type": "parcoords"
           }
          ],
          "pie": [
           {
            "automargin": true,
            "type": "pie"
           }
          ],
          "scatter": [
           {
            "fillpattern": {
             "fillmode": "overlay",
             "size": 10,
             "solidity": 0.2
            },
            "type": "scatter"
           }
          ],
          "scatter3d": [
           {
            "line": {
             "colorbar": {
              "outlinewidth": 0,
              "ticks": ""
             }
            },
            "marker": {
             "colorbar": {
              "outlinewidth": 0,
              "ticks": ""
             }
            },
            "type": "scatter3d"
           }
          ],
          "scattercarpet": [
           {
            "marker": {
             "colorbar": {
              "outlinewidth": 0,
              "ticks": ""
             }
            },
            "type": "scattercarpet"
           }
          ],
          "scattergeo": [
           {
            "marker": {
             "colorbar": {
              "outlinewidth": 0,
              "ticks": ""
             }
            },
            "type": "scattergeo"
           }
          ],
          "scattergl": [
           {
            "marker": {
             "colorbar": {
              "outlinewidth": 0,
              "ticks": ""
             }
            },
            "type": "scattergl"
           }
          ],
          "scattermapbox": [
           {
            "marker": {
             "colorbar": {
              "outlinewidth": 0,
              "ticks": ""
             }
            },
            "type": "scattermapbox"
           }
          ],
          "scatterpolar": [
           {
            "marker": {
             "colorbar": {
              "outlinewidth": 0,
              "ticks": ""
             }
            },
            "type": "scatterpolar"
           }
          ],
          "scatterpolargl": [
           {
            "marker": {
             "colorbar": {
              "outlinewidth": 0,
              "ticks": ""
             }
            },
            "type": "scatterpolargl"
           }
          ],
          "scatterternary": [
           {
            "marker": {
             "colorbar": {
              "outlinewidth": 0,
              "ticks": ""
             }
            },
            "type": "scatterternary"
           }
          ],
          "surface": [
           {
            "colorbar": {
             "outlinewidth": 0,
             "ticks": ""
            },
            "colorscale": [
             [
              0,
              "#0d0887"
             ],
             [
              0.1111111111111111,
              "#46039f"
             ],
             [
              0.2222222222222222,
              "#7201a8"
             ],
             [
              0.3333333333333333,
              "#9c179e"
             ],
             [
              0.4444444444444444,
              "#bd3786"
             ],
             [
              0.5555555555555556,
              "#d8576b"
             ],
             [
              0.6666666666666666,
              "#ed7953"
             ],
             [
              0.7777777777777778,
              "#fb9f3a"
             ],
             [
              0.8888888888888888,
              "#fdca26"
             ],
             [
              1,
              "#f0f921"
             ]
            ],
            "type": "surface"
           }
          ],
          "table": [
           {
            "cells": {
             "fill": {
              "color": "#EBF0F8"
             },
             "line": {
              "color": "white"
             }
            },
            "header": {
             "fill": {
              "color": "#C8D4E3"
             },
             "line": {
              "color": "white"
             }
            },
            "type": "table"
           }
          ]
         },
         "layout": {
          "annotationdefaults": {
           "arrowcolor": "#2a3f5f",
           "arrowhead": 0,
           "arrowwidth": 1
          },
          "autotypenumbers": "strict",
          "coloraxis": {
           "colorbar": {
            "outlinewidth": 0,
            "ticks": ""
           }
          },
          "colorscale": {
           "diverging": [
            [
             0,
             "#8e0152"
            ],
            [
             0.1,
             "#c51b7d"
            ],
            [
             0.2,
             "#de77ae"
            ],
            [
             0.3,
             "#f1b6da"
            ],
            [
             0.4,
             "#fde0ef"
            ],
            [
             0.5,
             "#f7f7f7"
            ],
            [
             0.6,
             "#e6f5d0"
            ],
            [
             0.7,
             "#b8e186"
            ],
            [
             0.8,
             "#7fbc41"
            ],
            [
             0.9,
             "#4d9221"
            ],
            [
             1,
             "#276419"
            ]
           ],
           "sequential": [
            [
             0,
             "#0d0887"
            ],
            [
             0.1111111111111111,
             "#46039f"
            ],
            [
             0.2222222222222222,
             "#7201a8"
            ],
            [
             0.3333333333333333,
             "#9c179e"
            ],
            [
             0.4444444444444444,
             "#bd3786"
            ],
            [
             0.5555555555555556,
             "#d8576b"
            ],
            [
             0.6666666666666666,
             "#ed7953"
            ],
            [
             0.7777777777777778,
             "#fb9f3a"
            ],
            [
             0.8888888888888888,
             "#fdca26"
            ],
            [
             1,
             "#f0f921"
            ]
           ],
           "sequentialminus": [
            [
             0,
             "#0d0887"
            ],
            [
             0.1111111111111111,
             "#46039f"
            ],
            [
             0.2222222222222222,
             "#7201a8"
            ],
            [
             0.3333333333333333,
             "#9c179e"
            ],
            [
             0.4444444444444444,
             "#bd3786"
            ],
            [
             0.5555555555555556,
             "#d8576b"
            ],
            [
             0.6666666666666666,
             "#ed7953"
            ],
            [
             0.7777777777777778,
             "#fb9f3a"
            ],
            [
             0.8888888888888888,
             "#fdca26"
            ],
            [
             1,
             "#f0f921"
            ]
           ]
          },
          "colorway": [
           "#636efa",
           "#EF553B",
           "#00cc96",
           "#ab63fa",
           "#FFA15A",
           "#19d3f3",
           "#FF6692",
           "#B6E880",
           "#FF97FF",
           "#FECB52"
          ],
          "font": {
           "color": "#2a3f5f"
          },
          "geo": {
           "bgcolor": "white",
           "lakecolor": "white",
           "landcolor": "#E5ECF6",
           "showlakes": true,
           "showland": true,
           "subunitcolor": "white"
          },
          "hoverlabel": {
           "align": "left"
          },
          "hovermode": "closest",
          "mapbox": {
           "style": "light"
          },
          "paper_bgcolor": "white",
          "plot_bgcolor": "#E5ECF6",
          "polar": {
           "angularaxis": {
            "gridcolor": "white",
            "linecolor": "white",
            "ticks": ""
           },
           "bgcolor": "#E5ECF6",
           "radialaxis": {
            "gridcolor": "white",
            "linecolor": "white",
            "ticks": ""
           }
          },
          "scene": {
           "xaxis": {
            "backgroundcolor": "#E5ECF6",
            "gridcolor": "white",
            "gridwidth": 2,
            "linecolor": "white",
            "showbackground": true,
            "ticks": "",
            "zerolinecolor": "white"
           },
           "yaxis": {
            "backgroundcolor": "#E5ECF6",
            "gridcolor": "white",
            "gridwidth": 2,
            "linecolor": "white",
            "showbackground": true,
            "ticks": "",
            "zerolinecolor": "white"
           },
           "zaxis": {
            "backgroundcolor": "#E5ECF6",
            "gridcolor": "white",
            "gridwidth": 2,
            "linecolor": "white",
            "showbackground": true,
            "ticks": "",
            "zerolinecolor": "white"
           }
          },
          "shapedefaults": {
           "line": {
            "color": "#2a3f5f"
           }
          },
          "ternary": {
           "aaxis": {
            "gridcolor": "white",
            "linecolor": "white",
            "ticks": ""
           },
           "baxis": {
            "gridcolor": "white",
            "linecolor": "white",
            "ticks": ""
           },
           "bgcolor": "#E5ECF6",
           "caxis": {
            "gridcolor": "white",
            "linecolor": "white",
            "ticks": ""
           }
          },
          "title": {
           "x": 0.05
          },
          "xaxis": {
           "automargin": true,
           "gridcolor": "white",
           "linecolor": "white",
           "ticks": "",
           "title": {
            "standoff": 15
           },
           "zerolinecolor": "white",
           "zerolinewidth": 2
          },
          "yaxis": {
           "automargin": true,
           "gridcolor": "white",
           "linecolor": "white",
           "ticks": "",
           "title": {
            "standoff": 15
           },
           "zerolinecolor": "white",
           "zerolinewidth": 2
          }
         }
        },
        "title": {
         "font": {
          "color": "navy",
          "family": "Arial",
          "size": 24
         },
         "text": "Variação por Segmento"
        }
       }
      }
     },
     "metadata": {},
     "output_type": "display_data"
    }
   ],
   "source": [
    "fig = px.pie(df_analise_segmento_subiu, values='Variacao_reias', names='Segmento', \n",
    "             title='Variação por Segmento', color='Segmento', \n",
    "             color_discrete_map={'Segmento': 'green'})\n",
    "\n",
    "fig.update_traces(textposition='inside', textinfo='percent+label', \n",
    "                  marker=dict(line=dict(color='black', width=2))) \n",
    "fig.update_layout(font_family=\"Arial\", font_size=12, title_font_family=\"Arial\", \n",
    "                   title_font_size=24, title_font_color=\"navy\")  \n",
    "\n",
    "fig.show()"
   ]
  },
  {
   "cell_type": "code",
   "execution_count": 29,
   "metadata": {},
   "outputs": [
    {
     "data": {
      "text/html": [
       "<div>\n",
       "<style scoped>\n",
       "    .dataframe tbody tr th:only-of-type {\n",
       "        vertical-align: middle;\n",
       "    }\n",
       "\n",
       "    .dataframe tbody tr th {\n",
       "        vertical-align: top;\n",
       "    }\n",
       "\n",
       "    .dataframe thead th {\n",
       "        text-align: right;\n",
       "    }\n",
       "</style>\n",
       "<table border=\"1\" class=\"dataframe\">\n",
       "  <thead>\n",
       "    <tr style=\"text-align: right;\">\n",
       "      <th></th>\n",
       "      <th>Categoria_Idade</th>\n",
       "      <th>Variacao_reias</th>\n",
       "    </tr>\n",
       "  </thead>\n",
       "  <tbody>\n",
       "    <tr>\n",
       "      <th>0</th>\n",
       "      <td>Mais de Cem Anos</td>\n",
       "      <td>-202408309.86</td>\n",
       "    </tr>\n",
       "    <tr>\n",
       "      <th>1</th>\n",
       "      <td>Mais de Cinquenta Anos</td>\n",
       "      <td>17650703342.85</td>\n",
       "    </tr>\n",
       "    <tr>\n",
       "      <th>2</th>\n",
       "      <td>Menor que Cinquenta Anos</td>\n",
       "      <td>1977271003.70</td>\n",
       "    </tr>\n",
       "  </tbody>\n",
       "</table>\n",
       "</div>"
      ],
      "text/plain": [
       "            Categoria_Idade  Variacao_reias\n",
       "0          Mais de Cem Anos   -202408309.86\n",
       "1    Mais de Cinquenta Anos  17650703342.85\n",
       "2  Menor que Cinquenta Anos   1977271003.70"
      ]
     },
     "execution_count": 29,
     "metadata": {},
     "output_type": "execute_result"
    }
   ],
   "source": [
    "df_faixa_etaria = df_principal.groupby('Categoria_Idade')['Variacao_reias'].sum().reset_index()\n",
    "df_faixa_etaria"
   ]
  },
  {
   "cell_type": "code",
   "execution_count": 30,
   "metadata": {},
   "outputs": [
    {
     "data": {
      "application/vnd.plotly.v1+json": {
       "config": {
        "plotlyServerURL": "https://plot.ly"
       },
       "data": [
        {
         "alignmentgroup": "True",
         "hovertemplate": "Categoria_Idade=%{x}<br>Variação $ em Reais=%{text}<extra></extra>",
         "legendgroup": "",
         "marker": {
          "color": "#636efa",
          "pattern": {
           "shape": ""
          }
         },
         "name": "",
         "offsetgroup": "",
         "orientation": "v",
         "showlegend": false,
         "text": [
          -202408309.86218917,
          17650703342.850292,
          1977271003.6980553
         ],
         "textposition": "outside",
         "texttemplate": "%{text:.2s}",
         "type": "bar",
         "x": [
          "Mais de Cem Anos",
          "Mais de Cinquenta Anos",
          "Menor que Cinquenta Anos"
         ],
         "xaxis": "x",
         "y": [
          -202408309.86218917,
          17650703342.850292,
          1977271003.6980553
         ],
         "yaxis": "y"
        }
       ],
       "layout": {
        "barmode": "relative",
        "legend": {
         "tracegroupgap": 0
        },
        "template": {
         "data": {
          "bar": [
           {
            "error_x": {
             "color": "#2a3f5f"
            },
            "error_y": {
             "color": "#2a3f5f"
            },
            "marker": {
             "line": {
              "color": "#E5ECF6",
              "width": 0.5
             },
             "pattern": {
              "fillmode": "overlay",
              "size": 10,
              "solidity": 0.2
             }
            },
            "type": "bar"
           }
          ],
          "barpolar": [
           {
            "marker": {
             "line": {
              "color": "#E5ECF6",
              "width": 0.5
             },
             "pattern": {
              "fillmode": "overlay",
              "size": 10,
              "solidity": 0.2
             }
            },
            "type": "barpolar"
           }
          ],
          "carpet": [
           {
            "aaxis": {
             "endlinecolor": "#2a3f5f",
             "gridcolor": "white",
             "linecolor": "white",
             "minorgridcolor": "white",
             "startlinecolor": "#2a3f5f"
            },
            "baxis": {
             "endlinecolor": "#2a3f5f",
             "gridcolor": "white",
             "linecolor": "white",
             "minorgridcolor": "white",
             "startlinecolor": "#2a3f5f"
            },
            "type": "carpet"
           }
          ],
          "choropleth": [
           {
            "colorbar": {
             "outlinewidth": 0,
             "ticks": ""
            },
            "type": "choropleth"
           }
          ],
          "contour": [
           {
            "colorbar": {
             "outlinewidth": 0,
             "ticks": ""
            },
            "colorscale": [
             [
              0,
              "#0d0887"
             ],
             [
              0.1111111111111111,
              "#46039f"
             ],
             [
              0.2222222222222222,
              "#7201a8"
             ],
             [
              0.3333333333333333,
              "#9c179e"
             ],
             [
              0.4444444444444444,
              "#bd3786"
             ],
             [
              0.5555555555555556,
              "#d8576b"
             ],
             [
              0.6666666666666666,
              "#ed7953"
             ],
             [
              0.7777777777777778,
              "#fb9f3a"
             ],
             [
              0.8888888888888888,
              "#fdca26"
             ],
             [
              1,
              "#f0f921"
             ]
            ],
            "type": "contour"
           }
          ],
          "contourcarpet": [
           {
            "colorbar": {
             "outlinewidth": 0,
             "ticks": ""
            },
            "type": "contourcarpet"
           }
          ],
          "heatmap": [
           {
            "colorbar": {
             "outlinewidth": 0,
             "ticks": ""
            },
            "colorscale": [
             [
              0,
              "#0d0887"
             ],
             [
              0.1111111111111111,
              "#46039f"
             ],
             [
              0.2222222222222222,
              "#7201a8"
             ],
             [
              0.3333333333333333,
              "#9c179e"
             ],
             [
              0.4444444444444444,
              "#bd3786"
             ],
             [
              0.5555555555555556,
              "#d8576b"
             ],
             [
              0.6666666666666666,
              "#ed7953"
             ],
             [
              0.7777777777777778,
              "#fb9f3a"
             ],
             [
              0.8888888888888888,
              "#fdca26"
             ],
             [
              1,
              "#f0f921"
             ]
            ],
            "type": "heatmap"
           }
          ],
          "heatmapgl": [
           {
            "colorbar": {
             "outlinewidth": 0,
             "ticks": ""
            },
            "colorscale": [
             [
              0,
              "#0d0887"
             ],
             [
              0.1111111111111111,
              "#46039f"
             ],
             [
              0.2222222222222222,
              "#7201a8"
             ],
             [
              0.3333333333333333,
              "#9c179e"
             ],
             [
              0.4444444444444444,
              "#bd3786"
             ],
             [
              0.5555555555555556,
              "#d8576b"
             ],
             [
              0.6666666666666666,
              "#ed7953"
             ],
             [
              0.7777777777777778,
              "#fb9f3a"
             ],
             [
              0.8888888888888888,
              "#fdca26"
             ],
             [
              1,
              "#f0f921"
             ]
            ],
            "type": "heatmapgl"
           }
          ],
          "histogram": [
           {
            "marker": {
             "pattern": {
              "fillmode": "overlay",
              "size": 10,
              "solidity": 0.2
             }
            },
            "type": "histogram"
           }
          ],
          "histogram2d": [
           {
            "colorbar": {
             "outlinewidth": 0,
             "ticks": ""
            },
            "colorscale": [
             [
              0,
              "#0d0887"
             ],
             [
              0.1111111111111111,
              "#46039f"
             ],
             [
              0.2222222222222222,
              "#7201a8"
             ],
             [
              0.3333333333333333,
              "#9c179e"
             ],
             [
              0.4444444444444444,
              "#bd3786"
             ],
             [
              0.5555555555555556,
              "#d8576b"
             ],
             [
              0.6666666666666666,
              "#ed7953"
             ],
             [
              0.7777777777777778,
              "#fb9f3a"
             ],
             [
              0.8888888888888888,
              "#fdca26"
             ],
             [
              1,
              "#f0f921"
             ]
            ],
            "type": "histogram2d"
           }
          ],
          "histogram2dcontour": [
           {
            "colorbar": {
             "outlinewidth": 0,
             "ticks": ""
            },
            "colorscale": [
             [
              0,
              "#0d0887"
             ],
             [
              0.1111111111111111,
              "#46039f"
             ],
             [
              0.2222222222222222,
              "#7201a8"
             ],
             [
              0.3333333333333333,
              "#9c179e"
             ],
             [
              0.4444444444444444,
              "#bd3786"
             ],
             [
              0.5555555555555556,
              "#d8576b"
             ],
             [
              0.6666666666666666,
              "#ed7953"
             ],
             [
              0.7777777777777778,
              "#fb9f3a"
             ],
             [
              0.8888888888888888,
              "#fdca26"
             ],
             [
              1,
              "#f0f921"
             ]
            ],
            "type": "histogram2dcontour"
           }
          ],
          "mesh3d": [
           {
            "colorbar": {
             "outlinewidth": 0,
             "ticks": ""
            },
            "type": "mesh3d"
           }
          ],
          "parcoords": [
           {
            "line": {
             "colorbar": {
              "outlinewidth": 0,
              "ticks": ""
             }
            },
            "type": "parcoords"
           }
          ],
          "pie": [
           {
            "automargin": true,
            "type": "pie"
           }
          ],
          "scatter": [
           {
            "fillpattern": {
             "fillmode": "overlay",
             "size": 10,
             "solidity": 0.2
            },
            "type": "scatter"
           }
          ],
          "scatter3d": [
           {
            "line": {
             "colorbar": {
              "outlinewidth": 0,
              "ticks": ""
             }
            },
            "marker": {
             "colorbar": {
              "outlinewidth": 0,
              "ticks": ""
             }
            },
            "type": "scatter3d"
           }
          ],
          "scattercarpet": [
           {
            "marker": {
             "colorbar": {
              "outlinewidth": 0,
              "ticks": ""
             }
            },
            "type": "scattercarpet"
           }
          ],
          "scattergeo": [
           {
            "marker": {
             "colorbar": {
              "outlinewidth": 0,
              "ticks": ""
             }
            },
            "type": "scattergeo"
           }
          ],
          "scattergl": [
           {
            "marker": {
             "colorbar": {
              "outlinewidth": 0,
              "ticks": ""
             }
            },
            "type": "scattergl"
           }
          ],
          "scattermapbox": [
           {
            "marker": {
             "colorbar": {
              "outlinewidth": 0,
              "ticks": ""
             }
            },
            "type": "scattermapbox"
           }
          ],
          "scatterpolar": [
           {
            "marker": {
             "colorbar": {
              "outlinewidth": 0,
              "ticks": ""
             }
            },
            "type": "scatterpolar"
           }
          ],
          "scatterpolargl": [
           {
            "marker": {
             "colorbar": {
              "outlinewidth": 0,
              "ticks": ""
             }
            },
            "type": "scatterpolargl"
           }
          ],
          "scatterternary": [
           {
            "marker": {
             "colorbar": {
              "outlinewidth": 0,
              "ticks": ""
             }
            },
            "type": "scatterternary"
           }
          ],
          "surface": [
           {
            "colorbar": {
             "outlinewidth": 0,
             "ticks": ""
            },
            "colorscale": [
             [
              0,
              "#0d0887"
             ],
             [
              0.1111111111111111,
              "#46039f"
             ],
             [
              0.2222222222222222,
              "#7201a8"
             ],
             [
              0.3333333333333333,
              "#9c179e"
             ],
             [
              0.4444444444444444,
              "#bd3786"
             ],
             [
              0.5555555555555556,
              "#d8576b"
             ],
             [
              0.6666666666666666,
              "#ed7953"
             ],
             [
              0.7777777777777778,
              "#fb9f3a"
             ],
             [
              0.8888888888888888,
              "#fdca26"
             ],
             [
              1,
              "#f0f921"
             ]
            ],
            "type": "surface"
           }
          ],
          "table": [
           {
            "cells": {
             "fill": {
              "color": "#EBF0F8"
             },
             "line": {
              "color": "white"
             }
            },
            "header": {
             "fill": {
              "color": "#C8D4E3"
             },
             "line": {
              "color": "white"
             }
            },
            "type": "table"
           }
          ]
         },
         "layout": {
          "annotationdefaults": {
           "arrowcolor": "#2a3f5f",
           "arrowhead": 0,
           "arrowwidth": 1
          },
          "autotypenumbers": "strict",
          "coloraxis": {
           "colorbar": {
            "outlinewidth": 0,
            "ticks": ""
           }
          },
          "colorscale": {
           "diverging": [
            [
             0,
             "#8e0152"
            ],
            [
             0.1,
             "#c51b7d"
            ],
            [
             0.2,
             "#de77ae"
            ],
            [
             0.3,
             "#f1b6da"
            ],
            [
             0.4,
             "#fde0ef"
            ],
            [
             0.5,
             "#f7f7f7"
            ],
            [
             0.6,
             "#e6f5d0"
            ],
            [
             0.7,
             "#b8e186"
            ],
            [
             0.8,
             "#7fbc41"
            ],
            [
             0.9,
             "#4d9221"
            ],
            [
             1,
             "#276419"
            ]
           ],
           "sequential": [
            [
             0,
             "#0d0887"
            ],
            [
             0.1111111111111111,
             "#46039f"
            ],
            [
             0.2222222222222222,
             "#7201a8"
            ],
            [
             0.3333333333333333,
             "#9c179e"
            ],
            [
             0.4444444444444444,
             "#bd3786"
            ],
            [
             0.5555555555555556,
             "#d8576b"
            ],
            [
             0.6666666666666666,
             "#ed7953"
            ],
            [
             0.7777777777777778,
             "#fb9f3a"
            ],
            [
             0.8888888888888888,
             "#fdca26"
            ],
            [
             1,
             "#f0f921"
            ]
           ],
           "sequentialminus": [
            [
             0,
             "#0d0887"
            ],
            [
             0.1111111111111111,
             "#46039f"
            ],
            [
             0.2222222222222222,
             "#7201a8"
            ],
            [
             0.3333333333333333,
             "#9c179e"
            ],
            [
             0.4444444444444444,
             "#bd3786"
            ],
            [
             0.5555555555555556,
             "#d8576b"
            ],
            [
             0.6666666666666666,
             "#ed7953"
            ],
            [
             0.7777777777777778,
             "#fb9f3a"
            ],
            [
             0.8888888888888888,
             "#fdca26"
            ],
            [
             1,
             "#f0f921"
            ]
           ]
          },
          "colorway": [
           "#636efa",
           "#EF553B",
           "#00cc96",
           "#ab63fa",
           "#FFA15A",
           "#19d3f3",
           "#FF6692",
           "#B6E880",
           "#FF97FF",
           "#FECB52"
          ],
          "font": {
           "color": "#2a3f5f"
          },
          "geo": {
           "bgcolor": "white",
           "lakecolor": "white",
           "landcolor": "#E5ECF6",
           "showlakes": true,
           "showland": true,
           "subunitcolor": "white"
          },
          "hoverlabel": {
           "align": "left"
          },
          "hovermode": "closest",
          "mapbox": {
           "style": "light"
          },
          "paper_bgcolor": "white",
          "plot_bgcolor": "#E5ECF6",
          "polar": {
           "angularaxis": {
            "gridcolor": "white",
            "linecolor": "white",
            "ticks": ""
           },
           "bgcolor": "#E5ECF6",
           "radialaxis": {
            "gridcolor": "white",
            "linecolor": "white",
            "ticks": ""
           }
          },
          "scene": {
           "xaxis": {
            "backgroundcolor": "#E5ECF6",
            "gridcolor": "white",
            "gridwidth": 2,
            "linecolor": "white",
            "showbackground": true,
            "ticks": "",
            "zerolinecolor": "white"
           },
           "yaxis": {
            "backgroundcolor": "#E5ECF6",
            "gridcolor": "white",
            "gridwidth": 2,
            "linecolor": "white",
            "showbackground": true,
            "ticks": "",
            "zerolinecolor": "white"
           },
           "zaxis": {
            "backgroundcolor": "#E5ECF6",
            "gridcolor": "white",
            "gridwidth": 2,
            "linecolor": "white",
            "showbackground": true,
            "ticks": "",
            "zerolinecolor": "white"
           }
          },
          "shapedefaults": {
           "line": {
            "color": "#2a3f5f"
           }
          },
          "ternary": {
           "aaxis": {
            "gridcolor": "white",
            "linecolor": "white",
            "ticks": ""
           },
           "baxis": {
            "gridcolor": "white",
            "linecolor": "white",
            "ticks": ""
           },
           "bgcolor": "#E5ECF6",
           "caxis": {
            "gridcolor": "white",
            "linecolor": "white",
            "ticks": ""
           }
          },
          "title": {
           "x": 0.05
          },
          "xaxis": {
           "automargin": true,
           "gridcolor": "white",
           "linecolor": "white",
           "ticks": "",
           "title": {
            "standoff": 15
           },
           "zerolinecolor": "white",
           "zerolinewidth": 2
          },
          "yaxis": {
           "automargin": true,
           "gridcolor": "white",
           "linecolor": "white",
           "ticks": "",
           "title": {
            "standoff": 15
           },
           "zerolinecolor": "white",
           "zerolinewidth": 2
          }
         }
        },
        "title": {
         "text": "Variação $ por Faixa Etária"
        },
        "xaxis": {
         "anchor": "y",
         "domain": [
          0,
          1
         ],
         "title": {
          "text": "Categoria_Idade"
         }
        },
        "yaxis": {
         "anchor": "x",
         "domain": [
          0,
          1
         ],
         "title": {
          "text": "Variação $ em Reais"
         }
        }
       }
      }
     },
     "metadata": {},
     "output_type": "display_data"
    }
   ],
   "source": [
    "fig = px.bar(df_faixa_etaria, x='Categoria_Idade', y='Variacao_reias', text='Variacao_reias',\n",
    "             title='Variação $ por Faixa Etária', labels={'Variacao_reias': 'Variação $ em Reais'})\n",
    "fig.update_traces(texttemplate='%{text:.2s}', textposition='outside')\n",
    "\n",
    "fig.show()"
   ]
  }
 ],
 "metadata": {
  "kernelspec": {
   "display_name": "Python 3",
   "language": "python",
   "name": "python3"
  },
  "language_info": {
   "codemirror_mode": {
    "name": "ipython",
    "version": 3
   },
   "file_extension": ".py",
   "mimetype": "text/x-python",
   "name": "python",
   "nbconvert_exporter": "python",
   "pygments_lexer": "ipython3",
   "version": "3.11.9"
  }
 },
 "nbformat": 4,
 "nbformat_minor": 2
}
