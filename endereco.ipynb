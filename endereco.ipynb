{
 "cells": [
  {
   "cell_type": "code",
   "execution_count": 21,
   "metadata": {},
   "outputs": [],
   "source": [
    "import pandas as pd\n",
    "import re"
   ]
  },
  {
   "cell_type": "code",
   "execution_count": 33,
   "metadata": {},
   "outputs": [
    {
     "data": {
      "text/html": [
       "<div>\n",
       "<style scoped>\n",
       "    .dataframe tbody tr th:only-of-type {\n",
       "        vertical-align: middle;\n",
       "    }\n",
       "\n",
       "    .dataframe tbody tr th {\n",
       "        vertical-align: top;\n",
       "    }\n",
       "\n",
       "    .dataframe thead th {\n",
       "        text-align: right;\n",
       "    }\n",
       "</style>\n",
       "<table border=\"1\" class=\"dataframe\">\n",
       "  <thead>\n",
       "    <tr style=\"text-align: right;\">\n",
       "      <th></th>\n",
       "      <th>Logradouro</th>\n",
       "    </tr>\n",
       "  </thead>\n",
       "  <tbody>\n",
       "    <tr>\n",
       "      <th>0</th>\n",
       "      <td>Rua dos Ipês, 123  apto 101</td>\n",
       "    </tr>\n",
       "    <tr>\n",
       "      <th>1</th>\n",
       "      <td>Avenida das Palmeiras, 456</td>\n",
       "    </tr>\n",
       "    <tr>\n",
       "      <th>2</th>\n",
       "      <td>Rua das Flores, 789 casa 2</td>\n",
       "    </tr>\n",
       "    <tr>\n",
       "      <th>3</th>\n",
       "      <td>Alameda dos Eucaliptos, 321</td>\n",
       "    </tr>\n",
       "    <tr>\n",
       "      <th>4</th>\n",
       "      <td>Avenida dos Girassóis, 654 sala 3</td>\n",
       "    </tr>\n",
       "    <tr>\n",
       "      <th>...</th>\n",
       "      <td>...</td>\n",
       "    </tr>\n",
       "    <tr>\n",
       "      <th>90</th>\n",
       "      <td>Rua dos Manacás, 258</td>\n",
       "    </tr>\n",
       "    <tr>\n",
       "      <th>91</th>\n",
       "      <td>Alameda dos Lírios, 963</td>\n",
       "    </tr>\n",
       "    <tr>\n",
       "      <th>92</th>\n",
       "      <td>Avenida das Azaleias, 741</td>\n",
       "    </tr>\n",
       "    <tr>\n",
       "      <th>93</th>\n",
       "      <td>Rua dos Bromélias, 258 apto 1313</td>\n",
       "    </tr>\n",
       "    <tr>\n",
       "      <th>94</th>\n",
       "      <td>Alameda das Begônias</td>\n",
       "    </tr>\n",
       "  </tbody>\n",
       "</table>\n",
       "<p>95 rows × 1 columns</p>\n",
       "</div>"
      ],
      "text/plain": [
       "                           Logradouro\n",
       "0         Rua dos Ipês, 123  apto 101\n",
       "1          Avenida das Palmeiras, 456\n",
       "2          Rua das Flores, 789 casa 2\n",
       "3         Alameda dos Eucaliptos, 321\n",
       "4   Avenida dos Girassóis, 654 sala 3\n",
       "..                                ...\n",
       "90               Rua dos Manacás, 258\n",
       "91            Alameda dos Lírios, 963\n",
       "92          Avenida das Azaleias, 741\n",
       "93   Rua dos Bromélias, 258 apto 1313\n",
       "94               Alameda das Begônias\n",
       "\n",
       "[95 rows x 1 columns]"
      ]
     },
     "execution_count": 33,
     "metadata": {},
     "output_type": "execute_result"
    }
   ],
   "source": [
    "df_endereco = pd.read_excel(\"E:/WorkSpace/Análise exploratória/analise_exploratoria/logradouros.xlsx\", sheet_name=\"Logradouro\")\n",
    "df_endereco"
   ]
  },
  {
   "cell_type": "code",
   "execution_count": 34,
   "metadata": {},
   "outputs": [
    {
     "name": "stdout",
     "output_type": "stream",
     "text": [
      "                           Logradouro                Endereço\n",
      "0         Rua dos Ipês, 123  apto 101            Rua dos Ipês\n",
      "1          Avenida das Palmeiras, 456   Avenida das Palmeiras\n",
      "2          Rua das Flores, 789 casa 2          Rua das Flores\n",
      "3         Alameda dos Eucaliptos, 321  Alameda dos Eucaliptos\n",
      "4   Avenida dos Girassóis, 654 sala 3   Avenida dos Girassóis\n",
      "..                                ...                     ...\n",
      "90               Rua dos Manacás, 258         Rua dos Manacás\n",
      "91            Alameda dos Lírios, 963      Alameda dos Lírios\n",
      "92          Avenida das Azaleias, 741    Avenida das Azaleias\n",
      "93   Rua dos Bromélias, 258 apto 1313       Rua dos Bromélias\n",
      "94               Alameda das Begônias    Alameda das Begônias\n",
      "\n",
      "[95 rows x 2 columns]\n"
     ]
    }
   ],
   "source": [
    "# Função para extrair apenas o nome do logradouro\n",
    "def extrair_nome_logradouro(logradouro):\n",
    "    import re\n",
    "    padrao = r'^(.*?)(?=,|\\d|-|$)'  # Regex para capturar até a primeira vírgula, número ou hífen\n",
    "    match = re.match(padrao, logradouro)\n",
    "    if match:\n",
    "        return match.group(0).strip()\n",
    "    else:\n",
    "        return logradouro\n",
    "\n",
    "df_endereco['Endereço'] = df_endereco['Logradouro'].apply(extrair_nome_logradouro)\n",
    "\n",
    "df_endereco.to_excel(\"Download/sheets/endereço.xlsx\", index=True)\n",
    "print(df_endereco)"
   ]
  },
  {
   "cell_type": "code",
   "execution_count": 36,
   "metadata": {},
   "outputs": [
    {
     "name": "stdout",
     "output_type": "stream",
     "text": [
      "                           Logradouro                Endereço Número\n",
      "0         Rua dos Ipês, 123  apto 101            Rua dos Ipês    123\n",
      "1          Avenida das Palmeiras, 456   Avenida das Palmeiras    456\n",
      "2          Rua das Flores, 789 casa 2          Rua das Flores    789\n",
      "3         Alameda dos Eucaliptos, 321  Alameda dos Eucaliptos    321\n",
      "4   Avenida dos Girassóis, 654 sala 3   Avenida dos Girassóis    654\n",
      "..                                ...                     ...    ...\n",
      "90               Rua dos Manacás, 258         Rua dos Manacás    258\n",
      "91            Alameda dos Lírios, 963      Alameda dos Lírios    963\n",
      "92          Avenida das Azaleias, 741    Avenida das Azaleias    741\n",
      "93   Rua dos Bromélias, 258 apto 1313       Rua dos Bromélias    258\n",
      "94               Alameda das Begônias    Alameda das Begônias   None\n",
      "\n",
      "[95 rows x 3 columns]\n"
     ]
    }
   ],
   "source": [
    "# Função para extrair o número do logradouro\n",
    "def extrair_numero_logradouro(logradouro):\n",
    "    padrao = r'\\b\\d+\\b'  # Regex para capturar apenas números\n",
    "    numeros = re.findall(padrao, logradouro)\n",
    "    if numeros:\n",
    "        return numeros[0]\n",
    "    else:\n",
    "        return None\n",
    "\n",
    "df_endereco['Número'] = df_endereco['Logradouro'].apply(extrair_numero_logradouro)\n",
    "\n",
    "print(df_endereco)\n"
   ]
  },
  {
   "cell_type": "code",
   "execution_count": 37,
   "metadata": {},
   "outputs": [
    {
     "name": "stdout",
     "output_type": "stream",
     "text": [
      "                           Logradouro                Endereço Número  \\\n",
      "0         Rua dos Ipês, 123  apto 101            Rua dos Ipês    123   \n",
      "1          Avenida das Palmeiras, 456   Avenida das Palmeiras    456   \n",
      "2          Rua das Flores, 789 casa 2          Rua das Flores    789   \n",
      "3         Alameda dos Eucaliptos, 321  Alameda dos Eucaliptos    321   \n",
      "4   Avenida dos Girassóis, 654 sala 3   Avenida dos Girassóis    654   \n",
      "..                                ...                     ...    ...   \n",
      "90               Rua dos Manacás, 258         Rua dos Manacás    258   \n",
      "91            Alameda dos Lírios, 963      Alameda dos Lírios    963   \n",
      "92          Avenida das Azaleias, 741    Avenida das Azaleias    741   \n",
      "93   Rua dos Bromélias, 258 apto 1313       Rua dos Bromélias    258   \n",
      "94               Alameda das Begônias    Alameda das Begônias   None   \n",
      "\n",
      "      Complemento  \n",
      "0   123  apto 101  \n",
      "1             456  \n",
      "2      789 casa 2  \n",
      "3             321  \n",
      "4      654 sala 3  \n",
      "..            ...  \n",
      "90            258  \n",
      "91            963  \n",
      "92            741  \n",
      "93  258 apto 1313  \n",
      "94           None  \n",
      "\n",
      "[95 rows x 4 columns]\n"
     ]
    }
   ],
   "source": [
    "# Função para extrair o complemento do logradouro\n",
    "def extrair_complemento_logradouro(logradouro):\n",
    "    padrao = r',\\s*(.*$)'  # Regex para capturar o que vem após a última vírgula\n",
    "    match = re.search(padrao, logradouro)\n",
    "    if match:\n",
    "        return match.group(1).strip()\n",
    "    else:\n",
    "        return None\n",
    "\n",
    "df_endereco['Complemento'] = df_endereco['Logradouro'].apply(extrair_complemento_logradouro)\n",
    "\n",
    "print(df_endereco)"
   ]
  }
 ],
 "metadata": {
  "kernelspec": {
   "display_name": "Python 3",
   "language": "python",
   "name": "python3"
  },
  "language_info": {
   "codemirror_mode": {
    "name": "ipython",
    "version": 3
   },
   "file_extension": ".py",
   "mimetype": "text/x-python",
   "name": "python",
   "nbconvert_exporter": "python",
   "pygments_lexer": "ipython3",
   "version": "3.11.9"
  }
 },
 "nbformat": 4,
 "nbformat_minor": 2
}
